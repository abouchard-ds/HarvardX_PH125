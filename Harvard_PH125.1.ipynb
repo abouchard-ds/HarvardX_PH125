{
 "cells": [
  {
   "cell_type": "markdown",
   "metadata": {},
   "source": [
    "# HarvardX: PH125.1x \n",
    "## Data Science: R Basics\n",
    "\n"
   ]
  },
  {
   "cell_type": "markdown",
   "metadata": {},
   "source": [
    "Using variables 1\n",
    "\n",
    "What is the sum of the first n\n",
    "\n",
    "positive integers?\n",
    "\n",
    "We can use the formula n(n+1)/2\n",
    "to quickly compute this quantity."
   ]
  },
  {
   "cell_type": "code",
   "execution_count": 4,
   "metadata": {},
   "outputs": [
    {
     "data": {
      "text/html": [
       "210"
      ],
      "text/latex": [
       "210"
      ],
      "text/markdown": [
       "210"
      ],
      "text/plain": [
       "[1] 210"
      ]
     },
     "metadata": {},
     "output_type": "display_data"
    },
    {
     "data": {
      "text/html": [
       "210"
      ],
      "text/latex": [
       "210"
      ],
      "text/markdown": [
       "210"
      ],
      "text/plain": [
       "[1] 210"
      ]
     },
     "metadata": {},
     "output_type": "display_data"
    },
    {
     "data": {
      "text/html": [
       "325"
      ],
      "text/latex": [
       "325"
      ],
      "text/markdown": [
       "325"
      ],
      "text/plain": [
       "[1] 325"
      ]
     },
     "metadata": {},
     "output_type": "display_data"
    },
    {
     "data": {
      "text/html": [
       "5050"
      ],
      "text/latex": [
       "5050"
      ],
      "text/markdown": [
       "5050"
      ],
      "text/plain": [
       "[1] 5050"
      ]
     },
     "metadata": {},
     "output_type": "display_data"
    }
   ],
   "source": [
    "# Here is how you compute the sum for the first 20 integers\n",
    "20*(20+1)/2 \n",
    "\n",
    "# However, we can define a variable to use the formula for other values of n\n",
    "n <- 20\n",
    "n*(n+1)/2\n",
    "\n",
    "n <- 25\n",
    "n*(n+1)/2\n",
    "\n",
    "# Below, write code to calculate the sum of the first 100 integers\n",
    "n <- 100\n",
    "n*(n+1)/2"
   ]
  },
  {
   "cell_type": "markdown",
   "metadata": {},
   "source": [
    "Using variables 2\n",
    "\n",
    "What is the sum of the first 1000 positive integers?\n",
    "\n",
    "We can use the formula n(n+1)/2\n",
    "to quickly compute this quantity."
   ]
  },
  {
   "cell_type": "code",
   "execution_count": 5,
   "metadata": {},
   "outputs": [
    {
     "data": {
      "text/html": [
       "500500"
      ],
      "text/latex": [
       "500500"
      ],
      "text/markdown": [
       "500500"
      ],
      "text/plain": [
       "[1] 500500"
      ]
     },
     "metadata": {},
     "output_type": "display_data"
    }
   ],
   "source": [
    "# Below, write code to calculate the sum of the first 1000 integers \n",
    "n <- 1000\n",
    "n * (n + 1)/2"
   ]
  },
  {
   "cell_type": "markdown",
   "metadata": {},
   "source": [
    "Functions\n",
    "\n",
    "Run the following code in the R console:\n",
    "\n",
    "n <- 1000\n",
    "x <- seq(1,n)\n",
    "sum(x)\n",
    "\n",
    "Based on the result, what do you think the functions seq and sum do? You can use the help system."
   ]
  },
  {
   "cell_type": "code",
   "execution_count": 6,
   "metadata": {},
   "outputs": [
    {
     "ename": "ERROR",
     "evalue": "Error in parse(text = x, srcfile = src): <text>:1:9: unexpected symbol\n1: 2 - seq creates\n            ^\n",
     "output_type": "error",
     "traceback": [
      "Error in parse(text = x, srcfile = src): <text>:1:9: unexpected symbol\n1: 2 - seq creates\n            ^\nTraceback:\n"
     ]
    }
   ],
   "source": [
    "2 - seq creates a list of numbers and sum adds them up."
   ]
  },
  {
   "cell_type": "markdown",
   "metadata": {},
   "source": [
    "Nested function calls 1\n",
    "\n",
    "In math and programming we say we evaluate a function when we replace arguments with specific values. So if we type log2(16) we evaluate the log2 function to get the log to the base 2 of 16 which is 4.\n",
    "\n",
    "In R it is often useful to evaluate a function inside another function. For example, sqrt(log2(16)) will calculate the log to the base 2 of 16 and then compute the square root of that value. So the first evaluation gives a 4 and this gets evaluated by sqrt to give the final answer of 2."
   ]
  },
  {
   "cell_type": "code",
   "execution_count": null,
   "metadata": {},
   "outputs": [],
   "source": [
    "# log to the base 2 \n",
    "log2(16)\n",
    "\n",
    "# sqrt of the log to the base 2 of 16:\n",
    "sqrt(log2(16))\n",
    "\n",
    "# Compute log to the base 10 (log10) of the sqrt of 100. Do not use variables.\n",
    "log10(sqrt(100))"
   ]
  },
  {
   "cell_type": "markdown",
   "metadata": {},
   "source": [
    "Nested functions call 2\n",
    "\n",
    "Which of the following will always return the numeric value stored in x? You can try out examples and use the help system in the R console."
   ]
  },
  {
   "cell_type": "code",
   "execution_count": null,
   "metadata": {},
   "outputs": [],
   "source": [
    "3 - log(exp(x))"
   ]
  },
  {
   "cell_type": "markdown",
   "metadata": {},
   "source": [
    "str\n",
    "\n",
    "We're going to be using the following dataset for this module. Run this code in the console.\n",
    "\n",
    "library(dslabs)\n",
    "data(murders)\n",
    "\n",
    "Next, use the function str to examine the structure of the murders object. We can see that this object is a data frame with 51 rows and five columns.\n",
    "\n",
    "Which of the following best describes the variables represented in this data frame:"
   ]
  },
  {
   "cell_type": "code",
   "execution_count": null,
   "metadata": {},
   "outputs": [],
   "source": [
    "3- The state name, the abbreviation of the state name, the state's region, and the state's population and the total number of murders for 2010."
   ]
  },
  {
   "cell_type": "markdown",
   "metadata": {},
   "source": [
    "Variable names\n",
    "\n",
    "In the previous question, we saw the different variables that are a part of this dataset from the output of the str() function. The function names() is specifically designed to extract the column names from a data frame."
   ]
  },
  {
   "cell_type": "code",
   "execution_count": null,
   "metadata": {},
   "outputs": [],
   "source": [
    "# Load package and data\n",
    "\n",
    "library(dslabs)\n",
    "data(murders)\n",
    "\n",
    "# Use the function names to extract the variable names \n",
    "names(murders)"
   ]
  },
  {
   "cell_type": "markdown",
   "metadata": {},
   "source": [
    "Examining Variables\n",
    "\n",
    "In this module we have learned that every variable has a class. For example, the class can be a character, numeric or logical. The function class() can be used to determine the class of an object.\n",
    "\n",
    "Here we are going to determine the class of one of the variables in the murders data frame. To extract variables from a data frame we use $, referred to as the accessor.\n",
    "\n",
    "In the editor we show an example of how to do this. Let`s try it out for ourselves."
   ]
  },
  {
   "cell_type": "code",
   "execution_count": null,
   "metadata": {},
   "outputs": [],
   "source": [
    "# To access the population variable from the murders dataset use this code:\n",
    "p <- murders$population \n",
    "\n",
    "# To determine the class of object `p` we use this code:\n",
    "class(p)\n",
    "\n",
    "# Use the accessor to extract state abbreviations and assign it to a\n",
    "a <- murders$abb\n",
    "# Determine the class of a\n",
    "class(a)"
   ]
  },
  {
   "cell_type": "markdown",
   "metadata": {},
   "source": [
    "Multiple ways to access variables\n",
    "\n",
    "An important lesson you should learn early on is that there are multiple ways of doing things in R. For example, to generate the first five integers we note that 1:5, and seq(1,5) return the same result.\n",
    "\n",
    "There are also other ways to variables from a data frame. For example we can use the square brackets [[ instead of the accessor $. Example code is included in the editor.\n",
    "\n",
    "Now, if you instead try to access a columns with just one bracket\n",
    "\n",
    "murders[\"population\"]\n",
    "\n",
    "R returns a subset of the original data frame containing just this column. This new object will be of class data.frame rather than a vector. To access the column itself you need to use either the $ accessor or the double square brackets [[.\n",
    "\n",
    "This is an examaple of how R can be a bit idiosyncratic sometimes. It is very common to find it confusing at first."
   ]
  },
  {
   "cell_type": "code",
   "execution_count": null,
   "metadata": {},
   "outputs": [],
   "source": [
    "# We extract the population like this:\n",
    "p <- murders$population\n",
    "\n",
    "# This is how we do the same with the square brackets:\n",
    "o <- murders[[\"population\"]] \n",
    "\n",
    "# We can confirm these two are the same\n",
    "identical(o, p)\n",
    "\n",
    "# Use square brackets to extract `abb` from `murders` and assign it to b\n",
    "b <- murders[[\"abb\"]]\n",
    "# Check if `a` and `b` are identical \n",
    "identical(a, b)"
   ]
  },
  {
   "cell_type": "markdown",
   "metadata": {},
   "source": [
    "Factors\n",
    "\n",
    "Using the str() command, we saw that the region column stores a factor. You can corroborate this by using the class command on the region column.\n",
    "\n",
    "The function levels shows us the categories for the factor."
   ]
  },
  {
   "cell_type": "code",
   "execution_count": null,
   "metadata": {},
   "outputs": [],
   "source": [
    "# We can see the class of the region variable using class\n",
    "class(murders$region)\n",
    "\n",
    "# Determine the number of regions included in this variable \n",
    "length(levels(murders$region))"
   ]
  },
  {
   "cell_type": "markdown",
   "metadata": {},
   "source": [
    "Tables\n",
    "\n",
    "The function table takes a vector as input and returns the frequency of each unique element in the vector."
   ]
  },
  {
   "cell_type": "code",
   "execution_count": null,
   "metadata": {},
   "outputs": [],
   "source": [
    "# Here is an example of what the table function does\n",
    "x <- c(\"a\", \"a\", \"b\", \"b\", \"b\", \"c\")\n",
    "table(x)\n",
    "\n",
    "# Write one line of code to show the number of states per region\n",
    "a <- murders$state\n",
    "b <- murders$region\n",
    "table(b)"
   ]
  },
  {
   "cell_type": "markdown",
   "metadata": {},
   "source": [
    "Numeric Vectors\n",
    "\n",
    "A vector is a series of values, all of the same type. They are the most basic data type in R and can hold numeric data, character data, or logical data. In R, you can create a vector with the combine function c(). You place the vector elements separated by a comma between the parentheses. For example a numeric vector would look something like this:\n",
    "\n",
    "cost <- c(50, 75, 90, 100, 150)\n"
   ]
  },
  {
   "cell_type": "code",
   "execution_count": null,
   "metadata": {},
   "outputs": [],
   "source": [
    "# Here is an example creating a numeric vector named cost\n",
    "cost <- c(50, 75, 90, 100, 150)\n",
    "\n",
    "# Create a numeric vector to store the temperatures listed in the instructions into a vector named temp\n",
    "# Make sure to follow the same order in the instructions\n",
    "temp <- c(35, 88, 42, 84, 81, 30)"
   ]
  },
  {
   "cell_type": "markdown",
   "metadata": {},
   "source": [
    "Character vectors\n",
    "\n",
    "As in the previous question, we are going to create a vector. Only this time, we learn to create character vectors. The main difference is that these have to be written as strings and so the names are enclosed within double quotes.\n",
    "\n",
    "A character vector would look something like this:\n",
    "\n",
    "food <- c(\"pizza\", \"burgers\", \"salads\", \"cheese\", \"pasta\")\n"
   ]
  },
  {
   "cell_type": "code",
   "execution_count": null,
   "metadata": {},
   "outputs": [],
   "source": [
    "# here is an example of how to create a character vector\n",
    "food <- c(\"pizza\", \"burgers\", \"salads\", \"cheese\", \"pasta\")\n",
    "\n",
    "# Create a character vector called city to store the city names\n",
    "# Make sure to follow the same order as in the instructions\n",
    "city <- c(\"Beijing\", \"Lagos\", \"Paris\", \"Rio de Janeiro\", \"San Juan\", \"Toronto\")"
   ]
  },
  {
   "cell_type": "markdown",
   "metadata": {},
   "source": [
    "Connecting Numeric and Character Vectors\n",
    "\n",
    "We have successfully assigned the temperatures as numeric values to temp and the city names as character values to city. But can we associate the temperature to it's related city? Yes! We can do so using a code we already know - names. We assign names to the numeric values.\n",
    "\n",
    "It would look like this:\n",
    "\n",
    "cost <- c(50, 75, 90, 100, 150)\n",
    "food <- c(\"pizza\", \"burgers\", \"salads\", \"cheese\", \"pasta\")\n",
    "names(cost) <- food\n"
   ]
  },
  {
   "cell_type": "code",
   "execution_count": null,
   "metadata": {},
   "outputs": [],
   "source": [
    "# Associate the cost values with its corresponding food item\n",
    "cost <- c(50, 75, 90, 100, 150)\n",
    "food <- c(\"pizza\", \"burgers\", \"salads\", \"cheese\", \"pasta\")\n",
    "names(cost) <- food\n",
    "\n",
    "# You already wrote this code\n",
    "temp <- c(35, 88, 42, 84, 81, 30)\n",
    "city <- c(\"Beijing\", \"Lagos\", \"Paris\", \"Rio de Janeiro\", \"San Juan\", \"Toronto\")\n",
    "\n",
    "# Associate the temperature values with its corresponding city\n",
    "names(temp) <- city"
   ]
  },
  {
   "cell_type": "markdown",
   "metadata": {},
   "source": [
    "Subsetting vectors\n",
    "\n",
    "If we want to display only selected values from the object, R can help us do that easily.\n",
    "\n",
    "For example, if we want to see the cost of the last 3 items in our food list, we would type:\n",
    "\n",
    "cost[3:5]\n",
    "\n",
    "Note here, that we could also type cost[c(3,4,5)] and get the same result. The : operator helps us condense the code and get consecutive values."
   ]
  },
  {
   "cell_type": "code",
   "execution_count": null,
   "metadata": {},
   "outputs": [],
   "source": [
    "# cost of the last 3 items in our food list:\n",
    "cost[3:5]\n",
    "\n",
    "# temperatures of the first three cities in the list:\n",
    "temp[1:3]"
   ]
  },
  {
   "cell_type": "markdown",
   "metadata": {},
   "source": [
    "Subsetting vectors continued...\n",
    "\n",
    "In the previous question, we accessed the temperature for consecutive cities (1st three). But what if we want to access the temperatures for any 2 specific cities?\n",
    "\n",
    "An example: To access the cost of pizza (1st) and pasta (5th food item) in our list, the code would be:\n",
    "\n",
    "cost[c(1,5)]\n"
   ]
  },
  {
   "cell_type": "code",
   "execution_count": null,
   "metadata": {},
   "outputs": [],
   "source": [
    "# Access the cost of pizza and pasta from our food list \n",
    "cost[c(1,5)]\n",
    "\n",
    "# Define temp\n",
    "temp <- c(35, 88, 42, 84, 81, 30)\n",
    "city <- c(\"Beijing\", \"Lagos\", \"Paris\", \"Rio de Janeiro\", \"San Juan\", \"Toronto\")\n",
    "names(temp) <- city\n",
    "\n",
    "# Access the temperatures of Paris and San Juan\n",
    "temp[c(3,5)]"
   ]
  },
  {
   "cell_type": "markdown",
   "metadata": {},
   "source": [
    "Sequences\n",
    "\n",
    "The : operator helps us create sequences of numbers. For example, 32:99 would create a list of numbers from 32 to 99.\n",
    "\n",
    "Then, if we want to know the length of this sequence, all we need to do use the length command."
   ]
  },
  {
   "cell_type": "code",
   "execution_count": null,
   "metadata": {},
   "outputs": [],
   "source": [
    "# Create a vector m of integers that starts at 32 and ends at 99.\n",
    "m <- 32:99\n",
    "\n",
    "# Determine the length of object m.\n",
    "length(m)\n",
    "\n",
    "# Create a vector x of integers that starts 12 and ends at 73.\n",
    "\n",
    "# Determine the length of object x.\n",
    "\n",
    "x <- 12:73\n",
    "length(x)"
   ]
  },
  {
   "cell_type": "markdown",
   "metadata": {},
   "source": [
    "Sequences continued...\n",
    "\n",
    "We can also create different types of sequences in R. For example, in seq(7, 49, 7), the first argument defines the start, and the second the end. The default is to go up in increments of 1, but a third argument lets us tell it by what interval."
   ]
  },
  {
   "cell_type": "code",
   "execution_count": null,
   "metadata": {},
   "outputs": [],
   "source": [
    "# Create a vector with the multiples of 7, smaller than 50.\n",
    "seq(7, 49, 7) \n",
    "\n",
    "# Create a vector containing all the positive odd numbers smaller than 100.\n",
    "# The numbers should be in ascending order\n",
    "seq(1,100,2)"
   ]
  },
  {
   "cell_type": "markdown",
   "metadata": {},
   "source": [
    "Sequences and length\n",
    "\n",
    "The second argument of the function seq is actually a maximum, not necessarily the end. So if we type\n",
    "\n",
    "seq(7, 50, 7)\n",
    "\n",
    "we actually get the same vector of integers as if we type\n",
    "\n",
    "seq(7, 49, 7)\n",
    "\n",
    "This can be useful because sometimes all we want are sequential numbers that are smaller than some value.\n",
    "\n",
    "Let's look at an example."
   ]
  },
  {
   "cell_type": "code",
   "execution_count": null,
   "metadata": {},
   "outputs": [],
   "source": [
    "# We can a vector with the multiples of 7, smaller than 50 like this \n",
    "seq(7, 49, 7) \n",
    "\n",
    "# But note that the second argument does not need to be last number.\n",
    "# It simply determines the maximum value permitted.\n",
    "# so the following line of code produces the same vector as seq(7, 49, 7)\n",
    "seq(7, 50, 7)\n",
    "\n",
    "# Create a sequence of numbers from 6 to 55, with 4/7 increments and determine its length\n",
    "length(seq(6,55,4/7))"
   ]
  },
  {
   "cell_type": "markdown",
   "metadata": {},
   "source": [
    "Sequences of certain length\n",
    "\n",
    "The seq() function has another useful argument. The argument length.out. This argument lets us generate sequences that are increasing by the same amount but are of the prespecified length.\n",
    "\n",
    "For example, this line of code\n",
    "\n",
    "x <- seq(0, 100, length.out = 5)\n",
    "\n",
    "produces the numbers 0, 25, 50, 75, 100.\n",
    "\n",
    "Let's create a vector and see what is the class of the object produced."
   ]
  },
  {
   "cell_type": "code",
   "execution_count": null,
   "metadata": {},
   "outputs": [],
   "source": [
    "# Store the sequence in the object a\n",
    "a <- seq(1, 10, length.out = 100)\n",
    "\n",
    "# Determine the class of a\n",
    "class(a)"
   ]
  },
  {
   "cell_type": "markdown",
   "metadata": {},
   "source": [
    "Integers\n",
    "\n",
    "We have discussed the numeric class. We just saw that the seq function can generate objects of this class. For another example type\n",
    "\n",
    "class(seq(1, 10, 0.5))\n",
    "\n",
    "into the console and note that the class is numeric. R has another type of vector we have not described, the integer class. You can create an integer by adding the letter L after a whole number. If you type\n",
    "\n",
    "class(3L)\n",
    "\n",
    "in the console, you see this is an integer and not a numeric. For most practical purposes, integers and numerics are indistinguishable. For example 3, the integer, minus 3 the numeric is 0. To see this type this in the console\n",
    "\n",
    "3L - 3\n",
    "\n",
    "The main difference is that integers occupy less space in the computer memory, so for big computations using integers can have a substantial impact."
   ]
  },
  {
   "cell_type": "code",
   "execution_count": null,
   "metadata": {},
   "outputs": [],
   "source": [
    "# Store the sequence in the object a\n",
    "a <- seq(1, 10)\n",
    "\n",
    "# Determine the class of a\n",
    "class(a)"
   ]
  },
  {
   "cell_type": "markdown",
   "metadata": {},
   "source": [
    "Integers and Numerics\n",
    "\n",
    "Let's confirm that 1L is an integer not a numeric."
   ]
  },
  {
   "cell_type": "code",
   "execution_count": null,
   "metadata": {},
   "outputs": [],
   "source": [
    "# Check the class of 1, assigned to the object a\n",
    "class(1)\n",
    "\n",
    "# Confirm the class of 1L is integer\n",
    "class(1L)"
   ]
  },
  {
   "cell_type": "markdown",
   "metadata": {},
   "source": [
    "Coercion\n",
    "\n",
    "The concept of coercion is a very important one. Watching the video, we learned that when an entry does not match what an R function is expecting, R tries to guess what we meant before throwing an error. This might get confusing at times.\n",
    "\n",
    "As we've discussed in earlier questions, there are numeric and character vectors. The character vectors are placed in quotes and the numerics are not.\n",
    "\n",
    "We can avoid issues with coercion in R by changing characters to numerics and vice-versa. This is known as typecasting. The code, as.numeric(x) helps us convert character strings to integers. There is an equivalent function that converts integers to strings, as.character(x).\n",
    "\n",
    "Let's practice doing this!"
   ]
  },
  {
   "cell_type": "code",
   "execution_count": null,
   "metadata": {},
   "outputs": [],
   "source": [
    "# Define the vector x\n",
    "x <- c(1, 3, 5,\"a\")\n",
    "\n",
    "# Note that the x is character vector\n",
    "x\n",
    "\n",
    "# Typecast the vector to get an integer vector\n",
    "# You will get a warning but that is ok\n",
    "x <- as.numeric(x)"
   ]
  },
  {
   "cell_type": "markdown",
   "metadata": {},
   "source": [
    "sort\n",
    "\n",
    "When looking at a dataset, we may want to sort the data in an order that makes more sense for analysis. Let's learn to do this using the murders dataset as an example."
   ]
  },
  {
   "cell_type": "code",
   "execution_count": null,
   "metadata": {},
   "outputs": [],
   "source": [
    "# Access the `state` variable and store it in an object \n",
    "states <- murders$state \n",
    "\n",
    "# Sort the object alphabetically and redefine the object \n",
    "states <- sort(states) \n",
    "\n",
    "# Report the first alphabetical value  \n",
    "states[1]\n",
    "\n",
    "# Access population values from the dataset and store it in pop\n",
    "pop <- murders$population\n",
    "# Sort the object and save it in the same object \n",
    "pop <- sort(pop)\n",
    "# Report the smallest population size \n",
    "pop[1]"
   ]
  },
  {
   "cell_type": "markdown",
   "metadata": {},
   "source": [
    "order\n",
    "\n",
    "The function order() returns the index vector needed to sort the vector. This implies that sort(x) and x[order(x)] give the same result.\n",
    "\n",
    "This can be useful for finding row numbers with certain properties such as \"the row for the state with the smallest population\". Remember that when we extract a variable from a data frame the order of the resulting vector is the same as the order of the rows of the data frame. So for example, the entries of the vector murders$state are ordered in the same way as the states if you go down the rows of murders."
   ]
  },
  {
   "cell_type": "code",
   "execution_count": null,
   "metadata": {},
   "outputs": [],
   "source": [
    "# Access population from the dataset and store it in pop\n",
    "pop <- murders$population\n",
    "# Use the command order, to order pop and store in object o\n",
    "o <- order(pop)\n",
    "# Find the index number of the entry with the smallest population size\n",
    "o[1]"
   ]
  },
  {
   "cell_type": "markdown",
   "metadata": {},
   "source": [
    "New Codes\n",
    "\n",
    "We can actually perform the same operation as in the previous exercise using the function which.min. It basically tells us which is the minimum value."
   ]
  },
  {
   "cell_type": "code",
   "execution_count": null,
   "metadata": {},
   "outputs": [],
   "source": [
    "# Find the smallest value for variable total \n",
    "which.min(murders$total)\n",
    "\n",
    "# Find the smallest value for population\n",
    "which.min(murders$population)"
   ]
  },
  {
   "cell_type": "markdown",
   "metadata": {},
   "source": [
    "Using the output of order\n",
    "\n",
    "Now we know how small the smallest state is and we know which row represents it. However, which state is it?"
   ]
  },
  {
   "cell_type": "code",
   "execution_count": null,
   "metadata": {},
   "outputs": [],
   "source": [
    "# Define the variable i to be the index of the smallest state\n",
    "i <- which.min(murders$population)\n",
    "\n",
    "# Define variable states to hold the states\n",
    "states <- murders$state\n",
    "# Use the index you just defined to find the state with the smallest population\n",
    "states[i]"
   ]
  },
  {
   "cell_type": "markdown",
   "metadata": {},
   "source": [
    "Ranks\n",
    "\n",
    "You can create a data frame using the data.frame function. Here is a quick example:\n",
    "\n",
    "temp <- c(35, 88, 42, 84, 81, 30)\n",
    "city <- c(\"Beijing\", \"Lagos\", \"Paris\", \"Rio de Janeiro\", \"San Juan\", \"Toronto\")\n",
    "city_temps <- data.frame(name = city, temperature = temp)\n"
   ]
  },
  {
   "cell_type": "code",
   "execution_count": null,
   "metadata": {},
   "outputs": [],
   "source": [
    "# Store temperatures in an object \n",
    "temp <- c(35, 88, 42, 84, 81, 30)\n",
    "\n",
    "# Store city names in an object \n",
    "city <- c(\"Beijing\", \"Lagos\", \"Paris\", \"Rio de Janeiro\", \"San Juan\", \"Toronto\")\n",
    "\n",
    "# Create data frame with city names and temperature \n",
    "city_temps <- data.frame(name = city, temperature = temp)\n",
    "\n",
    "# Define a variable states to be the state names \n",
    "states <- murders$state\n",
    "\n",
    "# Define a variable ranks to determine the population size ranks \n",
    "ranks <- rank(murders$population)\n",
    "\n",
    "# Create a data frame my_df with the state name and its rank\n",
    "my_df <- data.frame(name = states, rank = ranks)"
   ]
  },
  {
   "cell_type": "markdown",
   "metadata": {},
   "source": [
    "Data Frames, Ranks and Orders\n",
    "\n",
    "This exercise is somewhat more challenging. We are going to repeat the previous exercise but this time order my_df so that the states are ordered from least populous to most."
   ]
  },
  {
   "cell_type": "code",
   "execution_count": null,
   "metadata": {},
   "outputs": [],
   "source": [
    "# Define a variable states to be the state names from the murders data frame\n",
    "states <- murders$state\n",
    "\n",
    "# Define a variable ranks to determine the population size ranks \n",
    "ranks <- rank(murders$population)\n",
    "\n",
    "# Define a variable ind to store the indexes needed to order the population values\n",
    "o <- order(murders$population)\n",
    "ind <- o\n",
    "\n",
    "# Create a data frame my_df with the state name and its rank and ordered from least populous to most \n",
    "my_df <- data.frame(name = states[o], rank = ranks[o])\n"
   ]
  },
  {
   "cell_type": "markdown",
   "metadata": {},
   "source": [
    "NA\n",
    "\n",
    "The na_example dataset represents a series of counts. It is included in the dslabs package. You can quickly examine the object using\n",
    "\n",
    "library(dslabs)\n",
    "data(na_example)\n",
    "str(na_example)\n",
    "\n",
    "However, when we compute the average we obtain an NA. You can see this by typing\n",
    "\n",
    "mean(na_example)\n"
   ]
  },
  {
   "cell_type": "code",
   "execution_count": null,
   "metadata": {},
   "outputs": [],
   "source": [
    "# Using new dataset \n",
    "library(dslabs)\n",
    "data(na_example)\n",
    "\n",
    "# Checking the structure \n",
    "str(na_example)\n",
    "\n",
    "# Find out the mean of the entire dataset \n",
    "mean(na_example)\n",
    "\n",
    "# Use is.na to create a logical index ind that tells which entries are NA\n",
    "ind <- is.na(na_example)\n",
    "# Determine how many NA ind has using the sum function\n",
    "sum(ind)"
   ]
  },
  {
   "cell_type": "markdown",
   "metadata": {},
   "source": [
    "Removing NAs\n",
    "\n",
    "We previously computed the average of na_example using mean(na_example) and obtain NA. This is because the function mean returns NA if it encounters at least one NA. A common operation is therefore removing the entries that are NA and after that perform operations on the rest."
   ]
  },
  {
   "cell_type": "code",
   "execution_count": null,
   "metadata": {},
   "outputs": [],
   "source": [
    "# Note what we can do with the ! operator\n",
    "x <- c(1, 2, 3)\n",
    "ind <- c(FALSE, TRUE, FALSE)\n",
    "x[!ind]\n",
    "\n",
    "# Create the ind vector\n",
    "library(dslabs)\n",
    "data(na_example)\n",
    "ind <- is.na(na_example)\n",
    "\n",
    "# We saw that this gives an NA\n",
    "mean(na_example)\n",
    "\n",
    "# Compute the average, for entries of na_example that are not NA \n",
    "mean(na_example[!ind])"
   ]
  },
  {
   "cell_type": "markdown",
   "metadata": {},
   "source": [
    "Vectorized operations\n",
    "\n",
    "Previously we created this data frame:\n",
    "\n",
    "temp <- c(35, 88, 42, 84, 81, 30)\n",
    "city <- c(\"Beijing\", \"Lagos\", \"Paris\", \"Rio de Janeiro\", \"San Juan\", \"Toronto\")\n",
    "city_temps <- data.frame(name = city, temperature = temp)\n"
   ]
  },
  {
   "cell_type": "code",
   "execution_count": null,
   "metadata": {},
   "outputs": [],
   "source": [
    "# Assign city names to `city` \n",
    "city <- c(\"Beijing\", \"Lagos\", \"Paris\", \"Rio de Janeiro\", \"San Juan\", \"Toronto\")\n",
    "\n",
    "# Store temperature values in `temp`\n",
    "temp <- c(35, 88, 42, 84, 81, 30)\n",
    "\n",
    "# Convert temperature into Celsius and overwrite the original values of 'temp' with these Celsius values\n",
    "temp <- (temp - 32)*5/9\n",
    "# Create a data frame `city_temps` \n",
    "city_temps <- data.frame(name = city, temperature = temp)"
   ]
  },
  {
   "cell_type": "markdown",
   "metadata": {},
   "source": [
    "Vectorized operations continued...\n",
    "\n",
    "We can use some of what we have learned to perform calculations that would otherwise be quite complicated. Let's see an example."
   ]
  },
  {
   "cell_type": "code",
   "execution_count": null,
   "metadata": {},
   "outputs": [],
   "source": [
    "# Define an object `x` with the numbers 1 through 100\n",
    "x <- seq(1,100,1)\n",
    "# Compute the sum \n",
    "sum(1/x^2) "
   ]
  },
  {
   "cell_type": "markdown",
   "metadata": {},
   "source": [
    "Vectorized operation continued...\n",
    "\n",
    "    Compute the per 100,000 murder rate for each state and store it in the object murder_rate.\n",
    "    Then compute the average of the state murder rates for the US using the function mean. What is this average?\n"
   ]
  },
  {
   "cell_type": "code",
   "execution_count": null,
   "metadata": {},
   "outputs": [],
   "source": [
    "# Load the data\n",
    "library(dslabs)\n",
    "data(murders)\n",
    "\n",
    "# Store the per 100,000 murder rate for each state in murder_rate\n",
    "murder_rate <- (murders$total/murders$population)*100000\n",
    "# Calculate the average murder rate in the US \n",
    "mean(murder_rate)"
   ]
  },
  {
   "cell_type": "markdown",
   "metadata": {},
   "source": [
    "Logical Vectors\n",
    "\n",
    "Here we will be using logical operators to create a logical vector."
   ]
  },
  {
   "cell_type": "code",
   "execution_count": null,
   "metadata": {},
   "outputs": [],
   "source": [
    "# Store the murder rate per 100,000 for each state, in `murder_rate`\n",
    "murder_rate <- murders$total / murders$population * 100000\n",
    "\n",
    "# Store the `murder_rate < 1` in `low` \n",
    "low <- murder_rate < 1"
   ]
  },
  {
   "cell_type": "markdown",
   "metadata": {},
   "source": [
    "which\n",
    "\n",
    "The function which() help us know directly, which values are low or high, etc. Let's use it in this question."
   ]
  },
  {
   "cell_type": "code",
   "execution_count": null,
   "metadata": {},
   "outputs": [],
   "source": [
    "# Store the murder rate per 100,000 for each state, in murder_rate\n",
    "murder_rate <- murders$total/murders$population*100000\n",
    "\n",
    "# Store the murder_rate < 1 in low \n",
    "low <- murder_rate < 1\n",
    "\n",
    "# Get the indices of entries that are below 1\n",
    "which(low)"
   ]
  },
  {
   "cell_type": "markdown",
   "metadata": {},
   "source": [
    "Ordering vectors\n",
    "\n",
    "Note that if we want to know which entries of a vector are lower than some values we can use code like this:\n",
    "\n",
    "small <- murders$population < 1000000\n",
    "murders$state[small]\n",
    "\n",
    "The code above shows us the states with populations smaller than one million."
   ]
  },
  {
   "cell_type": "code",
   "execution_count": null,
   "metadata": {},
   "outputs": [],
   "source": [
    "# Store the murder rate per 100,000 for each state, in murder_rate\n",
    "murder_rate <- murders$total/murders$population*100000\n",
    "\n",
    "# Store the murder_rate < 1 in low \n",
    "low <- murder_rate < 1\n",
    "\n",
    "# Names of states with murder rates lower than 1\n",
    "murders$state[low]"
   ]
  },
  {
   "cell_type": "markdown",
   "metadata": {},
   "source": [
    "Filtering\n",
    "\n",
    "Now we will extend the code from the previous exercises to report the states in the Northeast with murder rates lower than 1.\n",
    "\n",
    "    Define low as before.\n",
    "    Use the & operator to create a new object ind that is true when low is true and the state is in the Northeast\n",
    "    Use the brackets [ and ind to show the state names that satisfy this condition\n"
   ]
  },
  {
   "cell_type": "code",
   "execution_count": null,
   "metadata": {},
   "outputs": [],
   "source": [
    "# Store the murder rate per 100,000 for each state, in `murder_rate`\n",
    "murder_rate <- murders$total/murders$population*100000\n",
    "\n",
    "# Store the `murder_rate < 1` in `low` \n",
    "low <- murder_rate < 1\n",
    "\n",
    "# Create a vector ind for states in the Northeast and with murder rates lower than 1. \n",
    "ind <- (murders$region==\"Northeast\" & low)\n",
    "# Names of states in `ind` \n",
    "murders$state[ind]"
   ]
  },
  {
   "cell_type": "markdown",
   "metadata": {},
   "source": [
    "Filtering continued\n",
    "\n",
    "In a previous exercise we computed the murder rate for each state and the average of these numbers.\n",
    "\n",
    "    How many states are below the average?\n"
   ]
  },
  {
   "cell_type": "code",
   "execution_count": null,
   "metadata": {},
   "outputs": [],
   "source": [
    "# Store the murder rate per 100,000 for each state, in murder_rate\n",
    "murder_rate <- murders$total/murders$population*100000\n",
    "\n",
    "\n",
    "# Compute average murder rate and store in avg using `mean` \n",
    "avg <- mean(murder_rate)\n",
    "\n",
    "# How many states have murder rates below avg ? Check using sum \n",
    "sum(murder_rate < avg)"
   ]
  },
  {
   "cell_type": "markdown",
   "metadata": {},
   "source": [
    "Match\n",
    "\n",
    "In this exercise we use the match function to identify the states with abbreviations AK, MI, and IA."
   ]
  },
  {
   "cell_type": "code",
   "execution_count": null,
   "metadata": {},
   "outputs": [],
   "source": [
    "# Store the 3 abbreviations in abbs in a vector (remember that they are character vectors and need quotes)\n",
    "abbs <- c(\"AK\", \"MI\", \"IA\")\n",
    "# Match the abbs to the murders$abb and store in ind\n",
    "ind <- match(abbs, murders$abb)\n",
    "# Print state names from ind\n",
    "murders$state[ind]"
   ]
  },
  {
   "cell_type": "markdown",
   "metadata": {},
   "source": [
    "%in%\n",
    "\n",
    "If rather than an index we want a logical that tells us whether or not each element of a first vector is in we can use the function %in%. For example:\n",
    "\n",
    "x <- c(2, 3, 5)\n",
    "y <- c(1, 2, 3, 4)\n",
    "x%in%y\n",
    "\n",
    "Gives us a two TRUE followed by a FALSE because 2 and 3 are in y."
   ]
  },
  {
   "cell_type": "code",
   "execution_count": null,
   "metadata": {},
   "outputs": [],
   "source": [
    "# Store the 5 abbreviations in `abbs`. (remember that they are character vectors)\n",
    "abbs <- c(\"MA\", \"ME\", \"MI\", \"MO\", \"MU\")\n",
    "\n",
    "# Use the %in% command to check if the entries of abbs are abbreviations in the the murders data frame\n",
    "abbs%in%murders$abb"
   ]
  },
  {
   "cell_type": "markdown",
   "metadata": {},
   "source": [
    "Logical operator\n",
    "\n",
    "We are again working with the characters abbs <- c(\"MA\", \"ME\", \"MI\", \"MO\", \"MU\")\n",
    "\n",
    "    In a previous exercise we computed the index abbs%in%murders$abb. Use which and the ! operator to get the index of the entries of abbs that are not abbreviations.\n",
    "    Show the entries of abbs that are not actual abbreviations.\n"
   ]
  },
  {
   "cell_type": "code",
   "execution_count": null,
   "metadata": {},
   "outputs": [],
   "source": [
    "# Store the 5 abbreviations in abbs. (remember that they are character vectors)\n",
    "abbs <- c(\"MA\", \"ME\", \"MI\", \"MO\", \"MU\") \n",
    "\n",
    "# Use the `which` command and `!` operator to find out which abbreviation are not actually part of the dataset and store in ind\n",
    "ind <- which(!abbs%in%murders$abb)\n",
    "# What are the entries of abbs that are not actual abbreviations\n",
    "abbs[ind]"
   ]
  },
  {
   "cell_type": "markdown",
   "metadata": {},
   "source": [
    "dplyr\n",
    "\n",
    "Load the dplyr package and the murders dataset.\n",
    "\n",
    "library(dplyr)\n",
    "library(dslabs)\n",
    "data(murders)\n",
    "\n",
    "You can add columns using the dplyr function mutate. This function is aware of the column names and inside the function you can call them unquoted. Like this:\n",
    "\n",
    "murders <- mutate(murders, population_in_millions = population / 10^6)\n",
    "\n",
    "Note that we can write population rather than murders$population. The function mutate knows we are grabing columns from murders."
   ]
  },
  {
   "cell_type": "code",
   "execution_count": null,
   "metadata": {},
   "outputs": [],
   "source": [
    "# Loading data\n",
    "library(dslabs)\n",
    "data(murders)\n",
    "\n",
    "# Loading dplyr\n",
    "library(dplyr)\n",
    "\n",
    "# Redefine murders so that it includes column named rate with the per 100,000 murder rates\n",
    "murders <- mutate(murders, rate = total/(population/100000))"
   ]
  },
  {
   "cell_type": "markdown",
   "metadata": {},
   "source": [
    "mutate\n",
    "\n",
    "Note that if rank(x) gives you the ranks of x from lowest to highest, rank(-x) gives you the ranks from highest to lowest."
   ]
  },
  {
   "cell_type": "code",
   "execution_count": null,
   "metadata": {},
   "outputs": [],
   "source": [
    "# Note that if you want ranks from highest to lowest you can take the negative and then compute the ranks \n",
    "x <- c(88, 100, 83, 92, 94)\n",
    "rank(-x)\n",
    "\n",
    "# Defining rate\n",
    "rate <-  murders$total/ murders$population * 100000\n",
    "\n",
    "# Redefine murders to include a column named rank\n",
    "# with the ranks of rate from highest to lowest\n",
    "murders <- mutate(murders, rank = rank(-rate))"
   ]
  },
  {
   "cell_type": "markdown",
   "metadata": {},
   "source": [
    "select\n",
    "\n",
    "With dplyr we can use select to show only certain columns. For example with this code we would only show the states and population sizes:\n",
    "\n",
    "select(murders, state, population)\n"
   ]
  },
  {
   "cell_type": "code",
   "execution_count": null,
   "metadata": {},
   "outputs": [],
   "source": [
    "# Load dplyr\n",
    "library(dplyr)\n",
    "\n",
    "# Use select to only show state names and abbreviations from murders\n",
    "select (murders, state, abb)"
   ]
  },
  {
   "cell_type": "markdown",
   "metadata": {},
   "source": [
    "filter\n",
    "\n",
    "The dplyr function filter is used to choose specific rows of the data frame to keep. Unlke select which is for columns, filter is for rows. For example you can show just New York row like this:\n",
    "\n",
    "filter(murders, state == \"New York\")\n",
    "\n",
    "You can use other logical vector to filter rows."
   ]
  },
  {
   "cell_type": "code",
   "execution_count": null,
   "metadata": {},
   "outputs": [],
   "source": [
    "# Add the necessary columns\n",
    "murders <- mutate(murders, rate = total/population * 100000, rank = rank(-rate))\n",
    "\n",
    "# Filter to show the top 5 states with the highest murder rates\n",
    "filter(murders, rank < 6)"
   ]
  },
  {
   "cell_type": "markdown",
   "metadata": {},
   "source": [
    "filter with !=\n",
    "\n",
    "We can remove rows using the != operator. For example to remove Florida we would do this:\n",
    "\n",
    "no_florida <- filter(murders, state != \"Florida\")\n"
   ]
  },
  {
   "cell_type": "code",
   "execution_count": null,
   "metadata": {},
   "outputs": [],
   "source": [
    "# Use filter to create a new data frame no_south\n",
    "no_south <- filter(murders, region != \"South\")\n",
    "# Use nrow() to calculate the number of rows\n",
    "nrow(no_south)"
   ]
  },
  {
   "cell_type": "markdown",
   "metadata": {},
   "source": [
    "filter with %in%\n",
    "\n",
    "We can also use the %in% to filter with dplyr. For example you can see the data from New York and Texas like this:\n",
    "\n",
    "filter(murders, state %in% c(\"New York\", \"Texas\"))\n"
   ]
  },
  {
   "cell_type": "code",
   "execution_count": null,
   "metadata": {},
   "outputs": [],
   "source": [
    "# Create a new data frame called murders_nw with only the states from the northeast and the west\n",
    "murders_nw <- filter(murders, region %in% c(\"Northeast\", \"West\"))\n",
    "# Number of states (rows) in this category \n",
    "nrow(murders_nw)"
   ]
  },
  {
   "cell_type": "markdown",
   "metadata": {},
   "source": [
    "filtering by two conditions\n",
    "\n",
    "Suppose you want to live in the Northeast or West and want the murder rate to be less than 1. We want to see the data for the states satisfying these options. Note that you can use logical operators with filter:\n",
    "\n",
    "filter(murders, population < 5000000 & region == \"Northeast\")\n"
   ]
  },
  {
   "cell_type": "code",
   "execution_count": null,
   "metadata": {},
   "outputs": [],
   "source": [
    "# add the rate column\n",
    "murders <- mutate(murders, rate =  total / population * 100000, rank = rank(-rate))\n",
    "\n",
    "# Create a table, call it my_states, that satisfies both the conditions \n",
    "my_states <- filter(murders, rate < 1 & region %in% c(\"Northeast\", \"West\"))\n",
    "# Use select to show only the state name, the murder rate and the rank\n",
    "select(my_states, state, rate, rank)"
   ]
  },
  {
   "cell_type": "markdown",
   "metadata": {},
   "source": [
    "Using the pipe %>%\n",
    "\n",
    "The pipe %>% can be used to perform operations sequentially without having to define intermediate objects. After redefining murder to include rate and rank.\n",
    "\n",
    "library(dplyr)\n",
    "murders <- mutate(murders, rate =  total / population * 100000, rank = (-rate))\n",
    "\n",
    "in the solution to the previous exercise we did the following:\n",
    "\n",
    "# Created a table \n",
    "my_states <- filter(murders, region %in% c(\"Northeast\", \"West\") & rate < 1)\n",
    "\n",
    "# Used select to show only the state name, the murder rate and the rank\n",
    "select(my_states, state, rate, rank)\n",
    "\n",
    "The pipe %>% permits us to perform both operation sequentially and without having to define an intermediate variable my_states\n",
    "\n",
    "For example we could have mutated and selected in the same line like this:\n",
    "\n",
    "mutate(murders, rate =  total / population * 100000, rank = (-rate)) %>% \n",
    "    select(state, rate, rank)\n",
    "\n",
    "Note that select no longer has a data frame as the first argument. The first argument is assumed to be the result of the operation conducted right before the %>%"
   ]
  },
  {
   "cell_type": "code",
   "execution_count": null,
   "metadata": {},
   "outputs": [],
   "source": [
    "# Load library\n",
    "library(dplyr)\n",
    "\n",
    "## Define the rate column\n",
    "murders <- mutate(murders, rate =  total / population * 100000, rank = rank(-rate))\n",
    "\n",
    "# show the result and only include the state, rate, and rank columns, all in one line\n",
    "filter(murders, region %in% c(\"Northeast\", \"West\") & rate < 1) %>% select(state, rate, rank)"
   ]
  },
  {
   "cell_type": "markdown",
   "metadata": {},
   "source": [
    "mutate, filter and select\n",
    "\n",
    "Now we will make murders the original table one gets when loading using data(murders). Use just one line to create a new data frame, called, my_states that has murder rate and rank column, consider only states in the Northeast or West, which have a murder rate lower than 1 and contain only the state, rate, and rank columns. The line should have four components separated by three %>%.\n",
    "\n",
    "    The original dataset murders\n",
    "    A call to mutate to add the murder rate and the rank.\n",
    "    A call to filter to keep only the states from the Northeast or West and that have a murder rate below 1\n",
    "    A call to select that keeps only the columns with the stata name, the murder rate and the rank.\n",
    "\n",
    "The line should look something like this my_states <- murders %>% mutate something %>% filter something %>% select something. Please, make sure the columns in the final data frame must be in the order: state, rate, rank."
   ]
  },
  {
   "cell_type": "code",
   "execution_count": null,
   "metadata": {},
   "outputs": [],
   "source": [
    "# Loading the libraries\n",
    "library(dplyr)\n",
    "data(murders)\n",
    "\n",
    "# Create new data frame called my_states (with specifications in the instructions)\n",
    "my_states <- murders %>% \n",
    "    mutate(rate =  total / population * 100000, rank = rank(-rate)) %>%\n",
    "    filter(region %in% c(\"Northeast\", \"West\") & rate < 1) %>%\n",
    "    select(state, rate, rank)"
   ]
  },
  {
   "cell_type": "markdown",
   "metadata": {},
   "source": [
    "Scatterplots\n",
    "\n",
    "We made a plot of total murders versus population and noted a strong relationship: not surprisingly states with larger populations had more murders. You can run the code in the console to get the plot.\n",
    "\n",
    "library(dslabs)\n",
    "data(murders)\n",
    "\n",
    "population_in_millions <- murders$population/10^6\n",
    "total_gun_murders <- murders$total\n",
    "\n",
    "plot(population_in_millions, total_gun_murders)\n",
    "\n",
    "Note that many states have populations below 5 million and are bunched up in the plot. We may gain further insights from making this plot in the log scale."
   ]
  },
  {
   "cell_type": "code",
   "execution_count": 7,
   "metadata": {},
   "outputs": [
    {
     "data": {
      "image/png": "[encoded data removed]",
      "text/plain": [
       "plot without title"
      ]
     },
     "metadata": {},
     "output_type": "display_data"
    }
   ],
   "source": [
    "# Load the datasets and define some variables\n",
    "library(dslabs)\n",
    "data(murders)\n",
    "\n",
    "population_in_millions <- murders$population/10^6\n",
    "total_gun_murders <- murders$total\n",
    "\n",
    "plot(population_in_millions, total_gun_murders)\n",
    "\n",
    "# Transform population using the log10 transformation and save to object log10_population\n",
    "\n",
    "# Transform total gun murders using log10 transformation and save to object log10_total_gun_murders\n",
    "\n",
    "# Create a scatterplot with the log scale transformed population and murders \n"
   ]
  },
  {
   "cell_type": "code",
   "execution_count": null,
   "metadata": {},
   "outputs": [],
   "source": []
  }
 ],
 "metadata": {
  "kernelspec": {
   "display_name": "R",
   "language": "R",
   "name": "ir"
  },
  "language_info": {
   "codemirror_mode": "r",
   "file_extension": ".r",
   "mimetype": "text/x-r-source",
   "name": "R",
   "pygments_lexer": "r",
   "version": "3.5.1"
  }
 },
 "nbformat": 4,
 "nbformat_minor": 2
}

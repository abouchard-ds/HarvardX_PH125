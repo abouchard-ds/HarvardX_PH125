{
 "cells": [
  {
   "cell_type": "markdown",
   "metadata": {},
   "source": [
    "# HarvardX: PH125.1x \n",
    "## Data Science: R Basics\n",
    "\n"
   ]
  },
  {
   "cell_type": "markdown",
   "metadata": {},
   "source": [
    "### Using variables 1\n",
    "\n",
    "What is the sum of the first $n$ positive integers?\n",
    "\n",
    "We can use the formula $\\frac {n(n+1)} 2$ to quickly compute this quantity."
   ]
  },
  {
   "cell_type": "code",
   "execution_count": 1,
   "metadata": {},
   "outputs": [
    {
     "data": {
      "text/html": [
       "210"
      ],
      "text/latex": [
       "210"
      ],
      "text/markdown": [
       "210"
      ],
      "text/plain": [
       "[1] 210"
      ]
     },
     "metadata": {},
     "output_type": "display_data"
    },
    {
     "data": {
      "text/html": [
       "210"
      ],
      "text/latex": [
       "210"
      ],
      "text/markdown": [
       "210"
      ],
      "text/plain": [
       "[1] 210"
      ]
     },
     "metadata": {},
     "output_type": "display_data"
    },
    {
     "data": {
      "text/html": [
       "325"
      ],
      "text/latex": [
       "325"
      ],
      "text/markdown": [
       "325"
      ],
      "text/plain": [
       "[1] 325"
      ]
     },
     "metadata": {},
     "output_type": "display_data"
    },
    {
     "data": {
      "text/html": [
       "5050"
      ],
      "text/latex": [
       "5050"
      ],
      "text/markdown": [
       "5050"
      ],
      "text/plain": [
       "[1] 5050"
      ]
     },
     "metadata": {},
     "output_type": "display_data"
    }
   ],
   "source": [
    "# Here is how you compute the sum for the first 20 integers\n",
    "20*(20+1)/2 \n",
    "\n",
    "# However, we can define a variable to use the formula for other values of n\n",
    "n <- 20\n",
    "n*(n+1)/2\n",
    "\n",
    "n <- 25\n",
    "n*(n+1)/2\n",
    "\n",
    "# Below, write code to calculate the sum of the first 100 integers\n",
    "n <- 100\n",
    "n*(n+1)/2"
   ]
  },
  {
   "cell_type": "markdown",
   "metadata": {},
   "source": [
    "### Using variables 2\n",
    "\n",
    "What is the sum of the first 1000 positive integers?\n",
    "\n",
    "We can use the formula $\\frac {n(n+1)} 2$ to quickly compute this quantity."
   ]
  },
  {
   "cell_type": "code",
   "execution_count": 2,
   "metadata": {},
   "outputs": [
    {
     "data": {
      "text/html": [
       "500500"
      ],
      "text/latex": [
       "500500"
      ],
      "text/markdown": [
       "500500"
      ],
      "text/plain": [
       "[1] 500500"
      ]
     },
     "metadata": {},
     "output_type": "display_data"
    }
   ],
   "source": [
    "# Below, write code to calculate the sum of the first 1000 integers \n",
    "n <- 1000\n",
    "n * (n + 1)/2"
   ]
  },
  {
   "cell_type": "markdown",
   "metadata": {},
   "source": [
    "### Functions\n",
    "\n",
    "Run the following code in the R console:\n",
    "\n",
    "```\n",
    "n <- 1000\n",
    "x <- seq(1,n)\n",
    "sum(x)\n",
    "```\n",
    "Based on the result, what do you think the functions seq and sum do? You can use the help system."
   ]
  },
  {
   "cell_type": "markdown",
   "metadata": {},
   "source": [
    "```\n",
    "2 - **seq creates a list of numbers and sum adds them up.**\n",
    "```"
   ]
  },
  {
   "cell_type": "markdown",
   "metadata": {},
   "source": [
    "### Nested function calls 1\n",
    "\n",
    "In math and programming we say we evaluate a function when we replace arguments with specific values. So if we type log2(16) we evaluate the log2 function to get the log to the base 2 of 16 which is 4.\n",
    "\n",
    "In R it is often useful to evaluate a function inside another function. For example, sqrt(log2(16)) will calculate the log to the base 2 of 16 and then compute the square root of that value. So the first evaluation gives a 4 and this gets evaluated by sqrt to give the final answer of 2."
   ]
  },
  {
   "cell_type": "code",
   "execution_count": 3,
   "metadata": {},
   "outputs": [
    {
     "data": {
      "text/html": [
       "4"
      ],
      "text/latex": [
       "4"
      ],
      "text/markdown": [
       "4"
      ],
      "text/plain": [
       "[1] 4"
      ]
     },
     "metadata": {},
     "output_type": "display_data"
    },
    {
     "data": {
      "text/html": [
       "2"
      ],
      "text/latex": [
       "2"
      ],
      "text/markdown": [
       "2"
      ],
      "text/plain": [
       "[1] 2"
      ]
     },
     "metadata": {},
     "output_type": "display_data"
    },
    {
     "data": {
      "text/html": [
       "1"
      ],
      "text/latex": [
       "1"
      ],
      "text/markdown": [
       "1"
      ],
      "text/plain": [
       "[1] 1"
      ]
     },
     "metadata": {},
     "output_type": "display_data"
    }
   ],
   "source": [
    "# log to the base 2 \n",
    "log2(16)\n",
    "\n",
    "# sqrt of the log to the base 2 of 16:\n",
    "sqrt(log2(16))\n",
    "\n",
    "# Compute log to the base 10 (log10) of the sqrt of 100. Do not use variables.\n",
    "log10(sqrt(100))"
   ]
  },
  {
   "cell_type": "markdown",
   "metadata": {},
   "source": [
    "### Nested functions call 2\n",
    "\n",
    "Which of the following will always return the numeric value stored in x? You can try out examples and use the help system in the R console."
   ]
  },
  {
   "cell_type": "markdown",
   "metadata": {},
   "source": [
    "```\n",
    "3 - log(exp(x))\n",
    "```"
   ]
  },
  {
   "cell_type": "markdown",
   "metadata": {},
   "source": [
    "### str()\n",
    "\n",
    "We're going to be using the following dataset for this module. Run this code in the console.\n",
    "```\n",
    "library(dslabs)\n",
    "data(murders)\n",
    "```\n",
    "Next, use the function str to examine the structure of the murders object. We can see that this object is a data frame with 51 rows and five columns.\n",
    "\n",
    "Which of the following best describes the variables represented in this data frame:"
   ]
  },
  {
   "cell_type": "markdown",
   "metadata": {},
   "source": [
    "```\n",
    "3- The state name, the abbreviation of the state name, the state's region, and the state's population and the total number of murders for 2010.\n",
    "```"
   ]
  },
  {
   "cell_type": "markdown",
   "metadata": {},
   "source": [
    "### Variable names\n",
    "\n",
    "In the previous question, we saw the different variables that are a part of this dataset from the output of the str() function. The function names() is specifically designed to extract the column names from a data frame."
   ]
  },
  {
   "cell_type": "code",
   "execution_count": 4,
   "metadata": {},
   "outputs": [
    {
     "data": {
      "text/html": [
       "<ol class=list-inline>\n",
       "\t<li>'state'</li>\n",
       "\t<li>'abb'</li>\n",
       "\t<li>'region'</li>\n",
       "\t<li>'population'</li>\n",
       "\t<li>'total'</li>\n",
       "</ol>\n"
      ],
      "text/latex": [
       "\\begin{enumerate*}\n",
       "\\item 'state'\n",
       "\\item 'abb'\n",
       "\\item 'region'\n",
       "\\item 'population'\n",
       "\\item 'total'\n",
       "\\end{enumerate*}\n"
      ],
      "text/markdown": [
       "1. 'state'\n",
       "2. 'abb'\n",
       "3. 'region'\n",
       "4. 'population'\n",
       "5. 'total'\n",
       "\n",
       "\n"
      ],
      "text/plain": [
       "[1] \"state\"      \"abb\"        \"region\"     \"population\" \"total\"     "
      ]
     },
     "metadata": {},
     "output_type": "display_data"
    }
   ],
   "source": [
    "# Load package and data\n",
    "library(dslabs)\n",
    "data(murders)\n",
    "\n",
    "# Use the function names to extract the variable names \n",
    "names(murders)"
   ]
  },
  {
   "cell_type": "markdown",
   "metadata": {},
   "source": [
    "### Examining Variables\n",
    "\n",
    "In this module we have learned that every variable has a class. For example, the class can be a character, numeric or logical. The function class() can be used to determine the class of an object.\n",
    "\n",
    "Here we are going to determine the class of one of the variables in the murders data frame. To extract variables from a data frame we use $, referred to as the accessor.\n",
    "\n",
    "In the editor we show an example of how to do this. Let`s try it out for ourselves."
   ]
  },
  {
   "cell_type": "code",
   "execution_count": 5,
   "metadata": {},
   "outputs": [
    {
     "data": {
      "text/html": [
       "'numeric'"
      ],
      "text/latex": [
       "'numeric'"
      ],
      "text/markdown": [
       "'numeric'"
      ],
      "text/plain": [
       "[1] \"numeric\""
      ]
     },
     "metadata": {},
     "output_type": "display_data"
    },
    {
     "data": {
      "text/html": [
       "'character'"
      ],
      "text/latex": [
       "'character'"
      ],
      "text/markdown": [
       "'character'"
      ],
      "text/plain": [
       "[1] \"character\""
      ]
     },
     "metadata": {},
     "output_type": "display_data"
    }
   ],
   "source": [
    "# To access the population variable from the murders dataset use this code:\n",
    "p <- murders$population \n",
    "\n",
    "# To determine the class of object `p` we use this code:\n",
    "class(p)\n",
    "\n",
    "# Use the accessor to extract state abbreviations and assign it to a\n",
    "a <- murders$abb\n",
    "# Determine the class of a\n",
    "class(a)"
   ]
  },
  {
   "cell_type": "markdown",
   "metadata": {},
   "source": [
    "### Multiple ways to access variables\n",
    "\n",
    "An important lesson you should learn early on is that there are multiple ways of doing things in R. For example, to generate the first five integers we note that 1:5, and seq(1,5) return the same result.\n",
    "\n",
    "There are also other ways to variables from a data frame. For example we can use the square brackets [[ instead of the accessor $. Example code is included in the editor.\n",
    "\n",
    "Now, if you instead try to access a columns with just one bracket\n",
    "```\n",
    "murders[\"population\"]\n",
    "```\n",
    "R returns a subset of the original data frame containing just this column. This new object will be of class data.frame rather than a vector. To access the column itself you need to use either the $ accessor or the double square brackets [[.\n",
    "\n",
    "This is an examaple of how R can be a bit idiosyncratic sometimes. It is very common to find it confusing at first."
   ]
  },
  {
   "cell_type": "code",
   "execution_count": 6,
   "metadata": {},
   "outputs": [
    {
     "data": {
      "text/html": [
       "TRUE"
      ],
      "text/latex": [
       "TRUE"
      ],
      "text/markdown": [
       "TRUE"
      ],
      "text/plain": [
       "[1] TRUE"
      ]
     },
     "metadata": {},
     "output_type": "display_data"
    },
    {
     "data": {
      "text/html": [
       "TRUE"
      ],
      "text/latex": [
       "TRUE"
      ],
      "text/markdown": [
       "TRUE"
      ],
      "text/plain": [
       "[1] TRUE"
      ]
     },
     "metadata": {},
     "output_type": "display_data"
    }
   ],
   "source": [
    "# We extract the population like this:\n",
    "p <- murders$population\n",
    "\n",
    "# This is how we do the same with the square brackets:\n",
    "o <- murders[[\"population\"]] \n",
    "\n",
    "# We can confirm these two are the same\n",
    "identical(o, p)\n",
    "\n",
    "# Use square brackets to extract `abb` from `murders` and assign it to b\n",
    "b <- murders[[\"abb\"]]\n",
    "# Check if `a` and `b` are identical \n",
    "identical(a, b)"
   ]
  },
  {
   "cell_type": "markdown",
   "metadata": {},
   "source": [
    "### Factors\n",
    "\n",
    "Using the str() command, we saw that the region column stores a factor. You can corroborate this by using the class command on the region column.\n",
    "\n",
    "The function levels shows us the categories for the factor."
   ]
  },
  {
   "cell_type": "code",
   "execution_count": 7,
   "metadata": {},
   "outputs": [
    {
     "data": {
      "text/html": [
       "'factor'"
      ],
      "text/latex": [
       "'factor'"
      ],
      "text/markdown": [
       "'factor'"
      ],
      "text/plain": [
       "[1] \"factor\""
      ]
     },
     "metadata": {},
     "output_type": "display_data"
    },
    {
     "data": {
      "text/html": [
       "4"
      ],
      "text/latex": [
       "4"
      ],
      "text/markdown": [
       "4"
      ],
      "text/plain": [
       "[1] 4"
      ]
     },
     "metadata": {},
     "output_type": "display_data"
    }
   ],
   "source": [
    "# We can see the class of the region variable using class\n",
    "class(murders$region)\n",
    "\n",
    "# Determine the number of regions included in this variable \n",
    "length(levels(murders$region))"
   ]
  },
  {
   "cell_type": "markdown",
   "metadata": {},
   "source": [
    "### Tables\n",
    "\n",
    "The function table takes a vector as input and returns the frequency of each unique element in the vector."
   ]
  },
  {
   "cell_type": "code",
   "execution_count": 8,
   "metadata": {},
   "outputs": [
    {
     "data": {
      "text/plain": [
       "x\n",
       "a b c \n",
       "2 3 1 "
      ]
     },
     "metadata": {},
     "output_type": "display_data"
    },
    {
     "data": {
      "text/plain": [
       "b\n",
       "    Northeast         South North Central          West \n",
       "            9            17            12            13 "
      ]
     },
     "metadata": {},
     "output_type": "display_data"
    }
   ],
   "source": [
    "# Here is an example of what the table function does\n",
    "x <- c(\"a\", \"a\", \"b\", \"b\", \"b\", \"c\")\n",
    "table(x)\n",
    "\n",
    "# Write one line of code to show the number of states per region\n",
    "a <- murders$state\n",
    "b <- murders$region\n",
    "table(b)"
   ]
  },
  {
   "cell_type": "markdown",
   "metadata": {},
   "source": [
    "### Numeric Vectors\n",
    "\n",
    "A vector is a series of values, all of the same type. They are the most basic data type in R and can hold numeric data, character data, or logical data. In R, you can create a vector with the combine function c(). You place the vector elements separated by a comma between the parentheses. For example a numeric vector would look something like this:\n",
    "```\n",
    "cost <- c(50, 75, 90, 100, 150)\n",
    "```"
   ]
  },
  {
   "cell_type": "code",
   "execution_count": 9,
   "metadata": {},
   "outputs": [],
   "source": [
    "# Here is an example creating a numeric vector named cost\n",
    "cost <- c(50, 75, 90, 100, 150)\n",
    "\n",
    "# Create a numeric vector to store the temperatures listed in the instructions into a vector named temp\n",
    "# Make sure to follow the same order in the instructions\n",
    "temp <- c(35, 88, 42, 84, 81, 30)"
   ]
  },
  {
   "cell_type": "markdown",
   "metadata": {},
   "source": [
    "### Character vectors\n",
    "\n",
    "As in the previous question, we are going to create a vector. Only this time, we learn to create character vectors. The main difference is that these have to be written as strings and so the names are enclosed within double quotes.\n",
    "\n",
    "A character vector would look something like this:\n",
    "```\n",
    "food <- c(\"pizza\", \"burgers\", \"salads\", \"cheese\", \"pasta\")\n",
    "```"
   ]
  },
  {
   "cell_type": "code",
   "execution_count": 10,
   "metadata": {},
   "outputs": [],
   "source": [
    "# here is an example of how to create a character vector\n",
    "food <- c(\"pizza\", \"burgers\", \"salads\", \"cheese\", \"pasta\")\n",
    "\n",
    "# Create a character vector called city to store the city names\n",
    "# Make sure to follow the same order as in the instructions\n",
    "city <- c(\"Beijing\", \"Lagos\", \"Paris\", \"Rio de Janeiro\", \"San Juan\", \"Toronto\")"
   ]
  },
  {
   "cell_type": "markdown",
   "metadata": {},
   "source": [
    "### Connecting Numeric and Character Vectors\n",
    "\n",
    "We have successfully assigned the temperatures as numeric values to temp and the city names as character values to city. But can we associate the temperature to it's related city? Yes! We can do so using a code we already know - names. We assign names to the numeric values.\n",
    "\n",
    "It would look like this:\n",
    "```\n",
    "cost <- c(50, 75, 90, 100, 150)\n",
    "food <- c(\"pizza\", \"burgers\", \"salads\", \"cheese\", \"pasta\")\n",
    "names(cost) <- food\n",
    "```"
   ]
  },
  {
   "cell_type": "code",
   "execution_count": 11,
   "metadata": {},
   "outputs": [],
   "source": [
    "# Associate the cost values with its corresponding food item\n",
    "cost <- c(50, 75, 90, 100, 150)\n",
    "food <- c(\"pizza\", \"burgers\", \"salads\", \"cheese\", \"pasta\")\n",
    "names(cost) <- food\n",
    "\n",
    "# You already wrote this code\n",
    "temp <- c(35, 88, 42, 84, 81, 30)\n",
    "city <- c(\"Beijing\", \"Lagos\", \"Paris\", \"Rio de Janeiro\", \"San Juan\", \"Toronto\")\n",
    "\n",
    "# Associate the temperature values with its corresponding city\n",
    "names(temp) <- city"
   ]
  },
  {
   "cell_type": "markdown",
   "metadata": {},
   "source": [
    "### Subsetting vectors\n",
    "\n",
    "If we want to display only selected values from the object, R can help us do that easily.\n",
    "\n",
    "For example, if we want to see the cost of the last 3 items in our food list, we would type:\n",
    "```\n",
    "cost[3:5]\n",
    "```\n",
    "Note here, that we could also type cost[c(3,4,5)] and get the same result. The : operator helps us condense the code and get consecutive values."
   ]
  },
  {
   "cell_type": "code",
   "execution_count": 12,
   "metadata": {},
   "outputs": [
    {
     "data": {
      "text/html": [
       "<dl class=dl-horizontal>\n",
       "\t<dt>salads</dt>\n",
       "\t\t<dd>90</dd>\n",
       "\t<dt>cheese</dt>\n",
       "\t\t<dd>100</dd>\n",
       "\t<dt>pasta</dt>\n",
       "\t\t<dd>150</dd>\n",
       "</dl>\n"
      ],
      "text/latex": [
       "\\begin{description*}\n",
       "\\item[salads] 90\n",
       "\\item[cheese] 100\n",
       "\\item[pasta] 150\n",
       "\\end{description*}\n"
      ],
      "text/markdown": [
       "salads\n",
       ":   90cheese\n",
       ":   100pasta\n",
       ":   150\n",
       "\n"
      ],
      "text/plain": [
       "salads cheese  pasta \n",
       "    90    100    150 "
      ]
     },
     "metadata": {},
     "output_type": "display_data"
    },
    {
     "data": {
      "text/html": [
       "<dl class=dl-horizontal>\n",
       "\t<dt>Beijing</dt>\n",
       "\t\t<dd>35</dd>\n",
       "\t<dt>Lagos</dt>\n",
       "\t\t<dd>88</dd>\n",
       "\t<dt>Paris</dt>\n",
       "\t\t<dd>42</dd>\n",
       "</dl>\n"
      ],
      "text/latex": [
       "\\begin{description*}\n",
       "\\item[Beijing] 35\n",
       "\\item[Lagos] 88\n",
       "\\item[Paris] 42\n",
       "\\end{description*}\n"
      ],
      "text/markdown": [
       "Beijing\n",
       ":   35Lagos\n",
       ":   88Paris\n",
       ":   42\n",
       "\n"
      ],
      "text/plain": [
       "Beijing   Lagos   Paris \n",
       "     35      88      42 "
      ]
     },
     "metadata": {},
     "output_type": "display_data"
    }
   ],
   "source": [
    "# cost of the last 3 items in our food list:\n",
    "cost[3:5]\n",
    "\n",
    "# temperatures of the first three cities in the list:\n",
    "temp[1:3]"
   ]
  },
  {
   "cell_type": "markdown",
   "metadata": {},
   "source": [
    "### Subsetting vectors continued...\n",
    "\n",
    "In the previous question, we accessed the temperature for consecutive cities (1st three). But what if we want to access the temperatures for any 2 specific cities?\n",
    "\n",
    "An example: To access the cost of pizza (1st) and pasta (5th food item) in our list, the code would be:\n",
    "```\n",
    "cost[c(1,5)]\n",
    "```"
   ]
  },
  {
   "cell_type": "code",
   "execution_count": 13,
   "metadata": {},
   "outputs": [
    {
     "data": {
      "text/html": [
       "<dl class=dl-horizontal>\n",
       "\t<dt>pizza</dt>\n",
       "\t\t<dd>50</dd>\n",
       "\t<dt>pasta</dt>\n",
       "\t\t<dd>150</dd>\n",
       "</dl>\n"
      ],
      "text/latex": [
       "\\begin{description*}\n",
       "\\item[pizza] 50\n",
       "\\item[pasta] 150\n",
       "\\end{description*}\n"
      ],
      "text/markdown": [
       "pizza\n",
       ":   50pasta\n",
       ":   150\n",
       "\n"
      ],
      "text/plain": [
       "pizza pasta \n",
       "   50   150 "
      ]
     },
     "metadata": {},
     "output_type": "display_data"
    },
    {
     "data": {
      "text/html": [
       "<dl class=dl-horizontal>\n",
       "\t<dt>Paris</dt>\n",
       "\t\t<dd>42</dd>\n",
       "\t<dt>San Juan</dt>\n",
       "\t\t<dd>81</dd>\n",
       "</dl>\n"
      ],
      "text/latex": [
       "\\begin{description*}\n",
       "\\item[Paris] 42\n",
       "\\item[San Juan] 81\n",
       "\\end{description*}\n"
      ],
      "text/markdown": [
       "Paris\n",
       ":   42San Juan\n",
       ":   81\n",
       "\n"
      ],
      "text/plain": [
       "   Paris San Juan \n",
       "      42       81 "
      ]
     },
     "metadata": {},
     "output_type": "display_data"
    }
   ],
   "source": [
    "# Access the cost of pizza and pasta from our food list \n",
    "cost[c(1,5)]\n",
    "\n",
    "# Define temp\n",
    "temp <- c(35, 88, 42, 84, 81, 30)\n",
    "city <- c(\"Beijing\", \"Lagos\", \"Paris\", \"Rio de Janeiro\", \"San Juan\", \"Toronto\")\n",
    "names(temp) <- city\n",
    "\n",
    "# Access the temperatures of Paris and San Juan\n",
    "temp[c(3,5)]"
   ]
  },
  {
   "cell_type": "markdown",
   "metadata": {},
   "source": [
    "### Sequences\n",
    "\n",
    "The : operator helps us create sequences of numbers. For example, 32:99 would create a list of numbers from 32 to 99.\n",
    "\n",
    "Then, if we want to know the length of this sequence, all we need to do use the length command."
   ]
  },
  {
   "cell_type": "code",
   "execution_count": 14,
   "metadata": {},
   "outputs": [
    {
     "data": {
      "text/html": [
       "68"
      ],
      "text/latex": [
       "68"
      ],
      "text/markdown": [
       "68"
      ],
      "text/plain": [
       "[1] 68"
      ]
     },
     "metadata": {},
     "output_type": "display_data"
    },
    {
     "data": {
      "text/html": [
       "62"
      ],
      "text/latex": [
       "62"
      ],
      "text/markdown": [
       "62"
      ],
      "text/plain": [
       "[1] 62"
      ]
     },
     "metadata": {},
     "output_type": "display_data"
    }
   ],
   "source": [
    "# Create a vector m of integers that starts at 32 and ends at 99.\n",
    "m <- 32:99\n",
    "\n",
    "# Determine the length of object m.\n",
    "length(m)\n",
    "\n",
    "# Create a vector x of integers that starts 12 and ends at 73.\n",
    "\n",
    "# Determine the length of object x.\n",
    "\n",
    "x <- 12:73\n",
    "length(x)"
   ]
  },
  {
   "cell_type": "markdown",
   "metadata": {},
   "source": [
    "### Sequences continued...\n",
    "\n",
    "We can also create different types of sequences in R. For example, in seq(7, 49, 7), the first argument defines the start, and the second the end. The default is to go up in increments of 1, but a third argument lets us tell it by what interval."
   ]
  },
  {
   "cell_type": "code",
   "execution_count": 15,
   "metadata": {},
   "outputs": [
    {
     "data": {
      "text/html": [
       "<ol class=list-inline>\n",
       "\t<li>7</li>\n",
       "\t<li>14</li>\n",
       "\t<li>21</li>\n",
       "\t<li>28</li>\n",
       "\t<li>35</li>\n",
       "\t<li>42</li>\n",
       "\t<li>49</li>\n",
       "</ol>\n"
      ],
      "text/latex": [
       "\\begin{enumerate*}\n",
       "\\item 7\n",
       "\\item 14\n",
       "\\item 21\n",
       "\\item 28\n",
       "\\item 35\n",
       "\\item 42\n",
       "\\item 49\n",
       "\\end{enumerate*}\n"
      ],
      "text/markdown": [
       "1. 7\n",
       "2. 14\n",
       "3. 21\n",
       "4. 28\n",
       "5. 35\n",
       "6. 42\n",
       "7. 49\n",
       "\n",
       "\n"
      ],
      "text/plain": [
       "[1]  7 14 21 28 35 42 49"
      ]
     },
     "metadata": {},
     "output_type": "display_data"
    },
    {
     "data": {
      "text/html": [
       "<ol class=list-inline>\n",
       "\t<li>1</li>\n",
       "\t<li>3</li>\n",
       "\t<li>5</li>\n",
       "\t<li>7</li>\n",
       "\t<li>9</li>\n",
       "\t<li>11</li>\n",
       "\t<li>13</li>\n",
       "\t<li>15</li>\n",
       "\t<li>17</li>\n",
       "\t<li>19</li>\n",
       "\t<li>21</li>\n",
       "\t<li>23</li>\n",
       "\t<li>25</li>\n",
       "\t<li>27</li>\n",
       "\t<li>29</li>\n",
       "\t<li>31</li>\n",
       "\t<li>33</li>\n",
       "\t<li>35</li>\n",
       "\t<li>37</li>\n",
       "\t<li>39</li>\n",
       "\t<li>41</li>\n",
       "\t<li>43</li>\n",
       "\t<li>45</li>\n",
       "\t<li>47</li>\n",
       "\t<li>49</li>\n",
       "\t<li>51</li>\n",
       "\t<li>53</li>\n",
       "\t<li>55</li>\n",
       "\t<li>57</li>\n",
       "\t<li>59</li>\n",
       "\t<li>61</li>\n",
       "\t<li>63</li>\n",
       "\t<li>65</li>\n",
       "\t<li>67</li>\n",
       "\t<li>69</li>\n",
       "\t<li>71</li>\n",
       "\t<li>73</li>\n",
       "\t<li>75</li>\n",
       "\t<li>77</li>\n",
       "\t<li>79</li>\n",
       "\t<li>81</li>\n",
       "\t<li>83</li>\n",
       "\t<li>85</li>\n",
       "\t<li>87</li>\n",
       "\t<li>89</li>\n",
       "\t<li>91</li>\n",
       "\t<li>93</li>\n",
       "\t<li>95</li>\n",
       "\t<li>97</li>\n",
       "\t<li>99</li>\n",
       "</ol>\n"
      ],
      "text/latex": [
       "\\begin{enumerate*}\n",
       "\\item 1\n",
       "\\item 3\n",
       "\\item 5\n",
       "\\item 7\n",
       "\\item 9\n",
       "\\item 11\n",
       "\\item 13\n",
       "\\item 15\n",
       "\\item 17\n",
       "\\item 19\n",
       "\\item 21\n",
       "\\item 23\n",
       "\\item 25\n",
       "\\item 27\n",
       "\\item 29\n",
       "\\item 31\n",
       "\\item 33\n",
       "\\item 35\n",
       "\\item 37\n",
       "\\item 39\n",
       "\\item 41\n",
       "\\item 43\n",
       "\\item 45\n",
       "\\item 47\n",
       "\\item 49\n",
       "\\item 51\n",
       "\\item 53\n",
       "\\item 55\n",
       "\\item 57\n",
       "\\item 59\n",
       "\\item 61\n",
       "\\item 63\n",
       "\\item 65\n",
       "\\item 67\n",
       "\\item 69\n",
       "\\item 71\n",
       "\\item 73\n",
       "\\item 75\n",
       "\\item 77\n",
       "\\item 79\n",
       "\\item 81\n",
       "\\item 83\n",
       "\\item 85\n",
       "\\item 87\n",
       "\\item 89\n",
       "\\item 91\n",
       "\\item 93\n",
       "\\item 95\n",
       "\\item 97\n",
       "\\item 99\n",
       "\\end{enumerate*}\n"
      ],
      "text/markdown": [
       "1. 1\n",
       "2. 3\n",
       "3. 5\n",
       "4. 7\n",
       "5. 9\n",
       "6. 11\n",
       "7. 13\n",
       "8. 15\n",
       "9. 17\n",
       "10. 19\n",
       "11. 21\n",
       "12. 23\n",
       "13. 25\n",
       "14. 27\n",
       "15. 29\n",
       "16. 31\n",
       "17. 33\n",
       "18. 35\n",
       "19. 37\n",
       "20. 39\n",
       "21. 41\n",
       "22. 43\n",
       "23. 45\n",
       "24. 47\n",
       "25. 49\n",
       "26. 51\n",
       "27. 53\n",
       "28. 55\n",
       "29. 57\n",
       "30. 59\n",
       "31. 61\n",
       "32. 63\n",
       "33. 65\n",
       "34. 67\n",
       "35. 69\n",
       "36. 71\n",
       "37. 73\n",
       "38. 75\n",
       "39. 77\n",
       "40. 79\n",
       "41. 81\n",
       "42. 83\n",
       "43. 85\n",
       "44. 87\n",
       "45. 89\n",
       "46. 91\n",
       "47. 93\n",
       "48. 95\n",
       "49. 97\n",
       "50. 99\n",
       "\n",
       "\n"
      ],
      "text/plain": [
       " [1]  1  3  5  7  9 11 13 15 17 19 21 23 25 27 29 31 33 35 37 39 41 43 45 47 49\n",
       "[26] 51 53 55 57 59 61 63 65 67 69 71 73 75 77 79 81 83 85 87 89 91 93 95 97 99"
      ]
     },
     "metadata": {},
     "output_type": "display_data"
    }
   ],
   "source": [
    "# Create a vector with the multiples of 7, smaller than 50.\n",
    "seq(7, 49, 7) \n",
    "\n",
    "# Create a vector containing all the positive odd numbers smaller than 100.\n",
    "# The numbers should be in ascending order\n",
    "seq(1,100,2)"
   ]
  },
  {
   "cell_type": "markdown",
   "metadata": {},
   "source": [
    "### Sequences and length\n",
    "\n",
    "The second argument of the function seq is actually a maximum, not necessarily the end. So if we type\n",
    "```\n",
    "seq(7, 50, 7)\n",
    "```\n",
    "we actually get the same vector of integers as if we type\n",
    "```\n",
    "seq(7, 49, 7)\n",
    "```\n",
    "This can be useful because sometimes all we want are sequential numbers that are smaller than some value.\n",
    "\n",
    "Let's look at an example."
   ]
  },
  {
   "cell_type": "code",
   "execution_count": 16,
   "metadata": {},
   "outputs": [
    {
     "data": {
      "text/html": [
       "<ol class=list-inline>\n",
       "\t<li>7</li>\n",
       "\t<li>14</li>\n",
       "\t<li>21</li>\n",
       "\t<li>28</li>\n",
       "\t<li>35</li>\n",
       "\t<li>42</li>\n",
       "\t<li>49</li>\n",
       "</ol>\n"
      ],
      "text/latex": [
       "\\begin{enumerate*}\n",
       "\\item 7\n",
       "\\item 14\n",
       "\\item 21\n",
       "\\item 28\n",
       "\\item 35\n",
       "\\item 42\n",
       "\\item 49\n",
       "\\end{enumerate*}\n"
      ],
      "text/markdown": [
       "1. 7\n",
       "2. 14\n",
       "3. 21\n",
       "4. 28\n",
       "5. 35\n",
       "6. 42\n",
       "7. 49\n",
       "\n",
       "\n"
      ],
      "text/plain": [
       "[1]  7 14 21 28 35 42 49"
      ]
     },
     "metadata": {},
     "output_type": "display_data"
    },
    {
     "data": {
      "text/html": [
       "<ol class=list-inline>\n",
       "\t<li>7</li>\n",
       "\t<li>14</li>\n",
       "\t<li>21</li>\n",
       "\t<li>28</li>\n",
       "\t<li>35</li>\n",
       "\t<li>42</li>\n",
       "\t<li>49</li>\n",
       "</ol>\n"
      ],
      "text/latex": [
       "\\begin{enumerate*}\n",
       "\\item 7\n",
       "\\item 14\n",
       "\\item 21\n",
       "\\item 28\n",
       "\\item 35\n",
       "\\item 42\n",
       "\\item 49\n",
       "\\end{enumerate*}\n"
      ],
      "text/markdown": [
       "1. 7\n",
       "2. 14\n",
       "3. 21\n",
       "4. 28\n",
       "5. 35\n",
       "6. 42\n",
       "7. 49\n",
       "\n",
       "\n"
      ],
      "text/plain": [
       "[1]  7 14 21 28 35 42 49"
      ]
     },
     "metadata": {},
     "output_type": "display_data"
    },
    {
     "data": {
      "text/html": [
       "86"
      ],
      "text/latex": [
       "86"
      ],
      "text/markdown": [
       "86"
      ],
      "text/plain": [
       "[1] 86"
      ]
     },
     "metadata": {},
     "output_type": "display_data"
    }
   ],
   "source": [
    "# We can a vector with the multiples of 7, smaller than 50 like this \n",
    "seq(7, 49, 7) \n",
    "\n",
    "# But note that the second argument does not need to be last number.\n",
    "# It simply determines the maximum value permitted.\n",
    "# so the following line of code produces the same vector as seq(7, 49, 7)\n",
    "seq(7, 50, 7)\n",
    "\n",
    "# Create a sequence of numbers from 6 to 55, with 4/7 increments and determine its length\n",
    "length(seq(6,55,4/7))"
   ]
  },
  {
   "cell_type": "markdown",
   "metadata": {},
   "source": [
    "### Sequences of certain length\n",
    "\n",
    "The seq() function has another useful argument. The argument length.out. This argument lets us generate sequences that are increasing by the same amount but are of the prespecified length.\n",
    "\n",
    "For example, this line of code\n",
    "```\n",
    "x <- seq(0, 100, length.out = 5)\n",
    "```\n",
    "produces the numbers 0, 25, 50, 75, 100.\n",
    "\n",
    "Let's create a vector and see what is the class of the object produced."
   ]
  },
  {
   "cell_type": "code",
   "execution_count": 17,
   "metadata": {},
   "outputs": [
    {
     "data": {
      "text/html": [
       "'numeric'"
      ],
      "text/latex": [
       "'numeric'"
      ],
      "text/markdown": [
       "'numeric'"
      ],
      "text/plain": [
       "[1] \"numeric\""
      ]
     },
     "metadata": {},
     "output_type": "display_data"
    }
   ],
   "source": [
    "# Store the sequence in the object a\n",
    "a <- seq(1, 10, length.out = 100)\n",
    "\n",
    "# Determine the class of a\n",
    "class(a)"
   ]
  },
  {
   "cell_type": "markdown",
   "metadata": {},
   "source": [
    "### Integers\n",
    "\n",
    "We have discussed the numeric class. We just saw that the seq function can generate objects of this class. For another example type\n",
    "```\n",
    "class(seq(1, 10, 0.5))\n",
    "```\n",
    "into the console and note that the class is numeric. R has another type of vector we have not described, the integer class. You can create an integer by adding the letter L after a whole number. If you type\n",
    "```\n",
    "class(3L)\n",
    "```\n",
    "in the console, you see this is an integer and not a numeric. For most practical purposes, integers and numerics are indistinguishable. For example 3, the integer, minus 3 the numeric is 0. To see this type this in the console\n",
    "```\n",
    "3L - 3\n",
    "```\n",
    "The main difference is that integers occupy less space in the computer memory, so for big computations using integers can have a substantial impact."
   ]
  },
  {
   "cell_type": "code",
   "execution_count": 18,
   "metadata": {},
   "outputs": [
    {
     "data": {
      "text/html": [
       "'integer'"
      ],
      "text/latex": [
       "'integer'"
      ],
      "text/markdown": [
       "'integer'"
      ],
      "text/plain": [
       "[1] \"integer\""
      ]
     },
     "metadata": {},
     "output_type": "display_data"
    }
   ],
   "source": [
    "# Store the sequence in the object a\n",
    "a <- seq(1, 10)\n",
    "\n",
    "# Determine the class of a\n",
    "class(a)"
   ]
  },
  {
   "cell_type": "markdown",
   "metadata": {},
   "source": [
    "### Integers and Numerics\n",
    "\n",
    "Let's confirm that 1L is an integer not a numeric."
   ]
  },
  {
   "cell_type": "code",
   "execution_count": 19,
   "metadata": {},
   "outputs": [
    {
     "data": {
      "text/html": [
       "'numeric'"
      ],
      "text/latex": [
       "'numeric'"
      ],
      "text/markdown": [
       "'numeric'"
      ],
      "text/plain": [
       "[1] \"numeric\""
      ]
     },
     "metadata": {},
     "output_type": "display_data"
    },
    {
     "data": {
      "text/html": [
       "'integer'"
      ],
      "text/latex": [
       "'integer'"
      ],
      "text/markdown": [
       "'integer'"
      ],
      "text/plain": [
       "[1] \"integer\""
      ]
     },
     "metadata": {},
     "output_type": "display_data"
    }
   ],
   "source": [
    "# Check the class of 1, assigned to the object a\n",
    "class(1)\n",
    "\n",
    "# Confirm the class of 1L is integer\n",
    "class(1L)"
   ]
  },
  {
   "cell_type": "markdown",
   "metadata": {},
   "source": [
    "### Coercion\n",
    "\n",
    "The concept of coercion is a very important one. Watching the video, we learned that when an entry does not match what an R function is expecting, R tries to guess what we meant before throwing an error. This might get confusing at times.\n",
    "\n",
    "As we've discussed in earlier questions, there are numeric and character vectors. The character vectors are placed in quotes and the numerics are not.\n",
    "\n",
    "We can avoid issues with coercion in R by changing characters to numerics and vice-versa. This is known as typecasting. The code, as.numeric(x) helps us convert character strings to integers. There is an equivalent function that converts integers to strings, as.character(x).\n",
    "\n",
    "Let's practice doing this!"
   ]
  },
  {
   "cell_type": "code",
   "execution_count": 20,
   "metadata": {},
   "outputs": [
    {
     "data": {
      "text/html": [
       "<ol class=list-inline>\n",
       "\t<li>'1'</li>\n",
       "\t<li>'3'</li>\n",
       "\t<li>'5'</li>\n",
       "\t<li>'a'</li>\n",
       "</ol>\n"
      ],
      "text/latex": [
       "\\begin{enumerate*}\n",
       "\\item '1'\n",
       "\\item '3'\n",
       "\\item '5'\n",
       "\\item 'a'\n",
       "\\end{enumerate*}\n"
      ],
      "text/markdown": [
       "1. '1'\n",
       "2. '3'\n",
       "3. '5'\n",
       "4. 'a'\n",
       "\n",
       "\n"
      ],
      "text/plain": [
       "[1] \"1\" \"3\" \"5\" \"a\""
      ]
     },
     "metadata": {},
     "output_type": "display_data"
    },
    {
     "name": "stderr",
     "output_type": "stream",
     "text": [
      "Warning message in eval(expr, envir, enclos):\n",
      "\"NAs introduced by coercion\""
     ]
    }
   ],
   "source": [
    "# Define the vector x\n",
    "x <- c(1, 3, 5,\"a\")\n",
    "\n",
    "# Note that the x is character vector\n",
    "x\n",
    "\n",
    "# Typecast the vector to get an integer vector\n",
    "# You will get a warning but that is ok\n",
    "x <- as.numeric(x)"
   ]
  },
  {
   "cell_type": "markdown",
   "metadata": {},
   "source": [
    "### sort\n",
    "\n",
    "When looking at a dataset, we may want to sort the data in an order that makes more sense for analysis. Let's learn to do this using the murders dataset as an example."
   ]
  },
  {
   "cell_type": "code",
   "execution_count": 21,
   "metadata": {},
   "outputs": [
    {
     "data": {
      "text/html": [
       "'Alabama'"
      ],
      "text/latex": [
       "'Alabama'"
      ],
      "text/markdown": [
       "'Alabama'"
      ],
      "text/plain": [
       "[1] \"Alabama\""
      ]
     },
     "metadata": {},
     "output_type": "display_data"
    },
    {
     "data": {
      "text/html": [
       "563626"
      ],
      "text/latex": [
       "563626"
      ],
      "text/markdown": [
       "563626"
      ],
      "text/plain": [
       "[1] 563626"
      ]
     },
     "metadata": {},
     "output_type": "display_data"
    }
   ],
   "source": [
    "# Access the `state` variable and store it in an object \n",
    "states <- murders$state \n",
    "\n",
    "# Sort the object alphabetically and redefine the object \n",
    "states <- sort(states) \n",
    "\n",
    "# Report the first alphabetical value  \n",
    "states[1]\n",
    "\n",
    "# Access population values from the dataset and store it in pop\n",
    "pop <- murders$population\n",
    "# Sort the object and save it in the same object \n",
    "pop <- sort(pop)\n",
    "# Report the smallest population size \n",
    "pop[1]"
   ]
  },
  {
   "cell_type": "markdown",
   "metadata": {},
   "source": [
    "### order\n",
    "\n",
    "The function order() returns the index vector needed to sort the vector. This implies that sort(x) and x[order(x)] give the same result.\n",
    "\n",
    "This can be useful for finding row numbers with certain properties such as \"the row for the state with the smallest population\". Remember that when we extract a variable from a data frame the order of the resulting vector is the same as the order of the rows of the data frame. So for example, the entries of the vector murders$state are ordered in the same way as the states if you go down the rows of murders."
   ]
  },
  {
   "cell_type": "code",
   "execution_count": 22,
   "metadata": {},
   "outputs": [
    {
     "data": {
      "text/html": [
       "51"
      ],
      "text/latex": [
       "51"
      ],
      "text/markdown": [
       "51"
      ],
      "text/plain": [
       "[1] 51"
      ]
     },
     "metadata": {},
     "output_type": "display_data"
    }
   ],
   "source": [
    "# Access population from the dataset and store it in pop\n",
    "pop <- murders$population\n",
    "# Use the command order, to order pop and store in object o\n",
    "o <- order(pop)\n",
    "# Find the index number of the entry with the smallest population size\n",
    "o[1]"
   ]
  },
  {
   "cell_type": "markdown",
   "metadata": {},
   "source": [
    "### New Codes\n",
    "\n",
    "We can actually perform the same operation as in the previous exercise using the function which.min. It basically tells us which is the minimum value."
   ]
  },
  {
   "cell_type": "code",
   "execution_count": 23,
   "metadata": {},
   "outputs": [
    {
     "data": {
      "text/html": [
       "46"
      ],
      "text/latex": [
       "46"
      ],
      "text/markdown": [
       "46"
      ],
      "text/plain": [
       "[1] 46"
      ]
     },
     "metadata": {},
     "output_type": "display_data"
    },
    {
     "data": {
      "text/html": [
       "51"
      ],
      "text/latex": [
       "51"
      ],
      "text/markdown": [
       "51"
      ],
      "text/plain": [
       "[1] 51"
      ]
     },
     "metadata": {},
     "output_type": "display_data"
    }
   ],
   "source": [
    "# Find the smallest value for variable total \n",
    "which.min(murders$total)\n",
    "\n",
    "# Find the smallest value for population\n",
    "which.min(murders$population)"
   ]
  },
  {
   "cell_type": "markdown",
   "metadata": {},
   "source": [
    "### Using the output of order\n",
    "\n",
    "Now we know how small the smallest state is and we know which row represents it. However, which state is it?"
   ]
  },
  {
   "cell_type": "code",
   "execution_count": 24,
   "metadata": {},
   "outputs": [
    {
     "data": {
      "text/html": [
       "'Wyoming'"
      ],
      "text/latex": [
       "'Wyoming'"
      ],
      "text/markdown": [
       "'Wyoming'"
      ],
      "text/plain": [
       "[1] \"Wyoming\""
      ]
     },
     "metadata": {},
     "output_type": "display_data"
    }
   ],
   "source": [
    "# Define the variable i to be the index of the smallest state\n",
    "i <- which.min(murders$population)\n",
    "\n",
    "# Define variable states to hold the states\n",
    "states <- murders$state\n",
    "# Use the index you just defined to find the state with the smallest population\n",
    "states[i]"
   ]
  },
  {
   "cell_type": "markdown",
   "metadata": {},
   "source": [
    "### Ranks\n",
    "\n",
    "You can create a data frame using the data.frame function. Here is a quick example:\n",
    "```\n",
    "temp <- c(35, 88, 42, 84, 81, 30)\n",
    "city <- c(\"Beijing\", \"Lagos\", \"Paris\", \"Rio de Janeiro\", \"San Juan\", \"Toronto\")\n",
    "city_temps <- data.frame(name = city, temperature = temp)\n",
    "```"
   ]
  },
  {
   "cell_type": "code",
   "execution_count": 25,
   "metadata": {},
   "outputs": [],
   "source": [
    "# Store temperatures in an object \n",
    "temp <- c(35, 88, 42, 84, 81, 30)\n",
    "\n",
    "# Store city names in an object \n",
    "city <- c(\"Beijing\", \"Lagos\", \"Paris\", \"Rio de Janeiro\", \"San Juan\", \"Toronto\")\n",
    "\n",
    "# Create data frame with city names and temperature \n",
    "city_temps <- data.frame(name = city, temperature = temp)\n",
    "\n",
    "# Define a variable states to be the state names \n",
    "states <- murders$state\n",
    "\n",
    "# Define a variable ranks to determine the population size ranks \n",
    "ranks <- rank(murders$population)\n",
    "\n",
    "# Create a data frame my_df with the state name and its rank\n",
    "my_df <- data.frame(name = states, rank = ranks)"
   ]
  },
  {
   "cell_type": "markdown",
   "metadata": {},
   "source": [
    "### Data Frames, Ranks and Orders\n",
    "\n",
    "This exercise is somewhat more challenging. We are going to repeat the previous exercise but this time order my_df so that the states are ordered from least populous to most."
   ]
  },
  {
   "cell_type": "code",
   "execution_count": 26,
   "metadata": {},
   "outputs": [],
   "source": [
    "# Define a variable states to be the state names from the murders data frame\n",
    "states <- murders$state\n",
    "\n",
    "# Define a variable ranks to determine the population size ranks \n",
    "ranks <- rank(murders$population)\n",
    "\n",
    "# Define a variable ind to store the indexes needed to order the population values\n",
    "o <- order(murders$population)\n",
    "ind <- o\n",
    "\n",
    "# Create a data frame my_df with the state name and its rank and ordered from least populous to most \n",
    "my_df <- data.frame(name = states[o], rank = ranks[o])\n"
   ]
  },
  {
   "cell_type": "markdown",
   "metadata": {},
   "source": [
    "### NA\n",
    "\n",
    "The na_example dataset represents a series of counts. It is included in the dslabs package. You can quickly examine the object using\n",
    "```\n",
    "library(dslabs)\n",
    "data(na_example)\n",
    "str(na_example)\n",
    "```\n",
    "However, when we compute the average we obtain an NA. You can see this by typing\n",
    "```\n",
    "mean(na_example)\n",
    "```"
   ]
  },
  {
   "cell_type": "code",
   "execution_count": 27,
   "metadata": {},
   "outputs": [
    {
     "name": "stdout",
     "output_type": "stream",
     "text": [
      " int [1:1000] 2 1 3 2 1 3 1 4 3 2 ...\n"
     ]
    },
    {
     "data": {
      "text/html": [
       "&lt;NA&gt;"
      ],
      "text/latex": [
       "<NA>"
      ],
      "text/markdown": [
       "&lt;NA&gt;"
      ],
      "text/plain": [
       "[1] NA"
      ]
     },
     "metadata": {},
     "output_type": "display_data"
    },
    {
     "data": {
      "text/html": [
       "145"
      ],
      "text/latex": [
       "145"
      ],
      "text/markdown": [
       "145"
      ],
      "text/plain": [
       "[1] 145"
      ]
     },
     "metadata": {},
     "output_type": "display_data"
    }
   ],
   "source": [
    "# Using new dataset \n",
    "library(dslabs)\n",
    "data(na_example)\n",
    "\n",
    "# Checking the structure \n",
    "str(na_example)\n",
    "\n",
    "# Find out the mean of the entire dataset \n",
    "mean(na_example)\n",
    "\n",
    "# Use is.na to create a logical index ind that tells which entries are NA\n",
    "ind <- is.na(na_example)\n",
    "# Determine how many NA ind has using the sum function\n",
    "sum(ind)"
   ]
  },
  {
   "cell_type": "markdown",
   "metadata": {},
   "source": [
    "### Removing NAs\n",
    "\n",
    "We previously computed the average of na_example using mean(na_example) and obtain NA. This is because the function mean returns NA if it encounters at least one NA. A common operation is therefore removing the entries that are NA and after that perform operations on the rest."
   ]
  },
  {
   "cell_type": "code",
   "execution_count": 28,
   "metadata": {},
   "outputs": [
    {
     "data": {
      "text/html": [
       "<ol class=list-inline>\n",
       "\t<li>1</li>\n",
       "\t<li>3</li>\n",
       "</ol>\n"
      ],
      "text/latex": [
       "\\begin{enumerate*}\n",
       "\\item 1\n",
       "\\item 3\n",
       "\\end{enumerate*}\n"
      ],
      "text/markdown": [
       "1. 1\n",
       "2. 3\n",
       "\n",
       "\n"
      ],
      "text/plain": [
       "[1] 1 3"
      ]
     },
     "metadata": {},
     "output_type": "display_data"
    },
    {
     "data": {
      "text/html": [
       "&lt;NA&gt;"
      ],
      "text/latex": [
       "<NA>"
      ],
      "text/markdown": [
       "&lt;NA&gt;"
      ],
      "text/plain": [
       "[1] NA"
      ]
     },
     "metadata": {},
     "output_type": "display_data"
    },
    {
     "data": {
      "text/html": [
       "2.30175438596491"
      ],
      "text/latex": [
       "2.30175438596491"
      ],
      "text/markdown": [
       "2.30175438596491"
      ],
      "text/plain": [
       "[1] 2.301754"
      ]
     },
     "metadata": {},
     "output_type": "display_data"
    }
   ],
   "source": [
    "# Note what we can do with the ! operator\n",
    "x <- c(1, 2, 3)\n",
    "ind <- c(FALSE, TRUE, FALSE)\n",
    "x[!ind]\n",
    "\n",
    "# Create the ind vector\n",
    "library(dslabs)\n",
    "data(na_example)\n",
    "ind <- is.na(na_example)\n",
    "\n",
    "# We saw that this gives an NA\n",
    "mean(na_example)\n",
    "\n",
    "# Compute the average, for entries of na_example that are not NA \n",
    "mean(na_example[!ind])"
   ]
  },
  {
   "cell_type": "markdown",
   "metadata": {},
   "source": [
    "### Vectorized operations\n",
    "\n",
    "Previously we created this data frame:\n",
    "```\n",
    "temp <- c(35, 88, 42, 84, 81, 30)\n",
    "city <- c(\"Beijing\", \"Lagos\", \"Paris\", \"Rio de Janeiro\", \"San Juan\", \"Toronto\")\n",
    "city_temps <- data.frame(name = city, temperature = temp)\n",
    "```"
   ]
  },
  {
   "cell_type": "code",
   "execution_count": 29,
   "metadata": {},
   "outputs": [],
   "source": [
    "# Assign city names to `city` \n",
    "city <- c(\"Beijing\", \"Lagos\", \"Paris\", \"Rio de Janeiro\", \"San Juan\", \"Toronto\")\n",
    "\n",
    "# Store temperature values in `temp`\n",
    "temp <- c(35, 88, 42, 84, 81, 30)\n",
    "\n",
    "# Convert temperature into Celsius and overwrite the original values of 'temp' with these Celsius values\n",
    "temp <- (temp - 32)*5/9\n",
    "# Create a data frame `city_temps` \n",
    "city_temps <- data.frame(name = city, temperature = temp)"
   ]
  },
  {
   "cell_type": "markdown",
   "metadata": {},
   "source": [
    "### Vectorized operations continued...\n",
    "\n",
    "We can use some of what we have learned to perform calculations that would otherwise be quite complicated. Let's see an example."
   ]
  },
  {
   "cell_type": "code",
   "execution_count": 30,
   "metadata": {},
   "outputs": [
    {
     "data": {
      "text/html": [
       "1.63498390018489"
      ],
      "text/latex": [
       "1.63498390018489"
      ],
      "text/markdown": [
       "1.63498390018489"
      ],
      "text/plain": [
       "[1] 1.634984"
      ]
     },
     "metadata": {},
     "output_type": "display_data"
    }
   ],
   "source": [
    "# Define an object `x` with the numbers 1 through 100\n",
    "x <- seq(1,100,1)\n",
    "# Compute the sum \n",
    "sum(1/x^2) "
   ]
  },
  {
   "cell_type": "markdown",
   "metadata": {},
   "source": [
    "### Vectorized operation continued...\n",
    "\n",
    "    Compute the per 100,000 murder rate for each state and store it in the object murder_rate.\n",
    "    Then compute the average of the state murder rates for the US using the function mean. What is this average?\n"
   ]
  },
  {
   "cell_type": "code",
   "execution_count": 31,
   "metadata": {},
   "outputs": [
    {
     "data": {
      "text/html": [
       "2.77912545066711"
      ],
      "text/latex": [
       "2.77912545066711"
      ],
      "text/markdown": [
       "2.77912545066711"
      ],
      "text/plain": [
       "[1] 2.779125"
      ]
     },
     "metadata": {},
     "output_type": "display_data"
    }
   ],
   "source": [
    "# Load the data\n",
    "library(dslabs)\n",
    "data(murders)\n",
    "\n",
    "# Store the per 100,000 murder rate for each state in murder_rate\n",
    "murder_rate <- (murders$total/murders$population)*100000\n",
    "# Calculate the average murder rate in the US \n",
    "mean(murder_rate)"
   ]
  },
  {
   "cell_type": "markdown",
   "metadata": {},
   "source": [
    "### Logical Vectors\n",
    "\n",
    "Here we will be using logical operators to create a logical vector."
   ]
  },
  {
   "cell_type": "code",
   "execution_count": 32,
   "metadata": {},
   "outputs": [],
   "source": [
    "# Store the murder rate per 100,000 for each state, in `murder_rate`\n",
    "murder_rate <- murders$total / murders$population * 100000\n",
    "\n",
    "# Store the `murder_rate < 1` in `low` \n",
    "low <- murder_rate < 1"
   ]
  },
  {
   "cell_type": "markdown",
   "metadata": {},
   "source": [
    "### which\n",
    "\n",
    "The function which() help us know directly, which values are low or high, etc. Let's use it in this question."
   ]
  },
  {
   "cell_type": "code",
   "execution_count": 33,
   "metadata": {},
   "outputs": [
    {
     "data": {
      "text/html": [
       "<ol class=list-inline>\n",
       "\t<li>12</li>\n",
       "\t<li>13</li>\n",
       "\t<li>16</li>\n",
       "\t<li>20</li>\n",
       "\t<li>24</li>\n",
       "\t<li>30</li>\n",
       "\t<li>35</li>\n",
       "\t<li>38</li>\n",
       "\t<li>42</li>\n",
       "\t<li>45</li>\n",
       "\t<li>46</li>\n",
       "\t<li>51</li>\n",
       "</ol>\n"
      ],
      "text/latex": [
       "\\begin{enumerate*}\n",
       "\\item 12\n",
       "\\item 13\n",
       "\\item 16\n",
       "\\item 20\n",
       "\\item 24\n",
       "\\item 30\n",
       "\\item 35\n",
       "\\item 38\n",
       "\\item 42\n",
       "\\item 45\n",
       "\\item 46\n",
       "\\item 51\n",
       "\\end{enumerate*}\n"
      ],
      "text/markdown": [
       "1. 12\n",
       "2. 13\n",
       "3. 16\n",
       "4. 20\n",
       "5. 24\n",
       "6. 30\n",
       "7. 35\n",
       "8. 38\n",
       "9. 42\n",
       "10. 45\n",
       "11. 46\n",
       "12. 51\n",
       "\n",
       "\n"
      ],
      "text/plain": [
       " [1] 12 13 16 20 24 30 35 38 42 45 46 51"
      ]
     },
     "metadata": {},
     "output_type": "display_data"
    }
   ],
   "source": [
    "# Store the murder rate per 100,000 for each state, in murder_rate\n",
    "murder_rate <- murders$total/murders$population*100000\n",
    "\n",
    "# Store the murder_rate < 1 in low \n",
    "low <- murder_rate < 1\n",
    "\n",
    "# Get the indices of entries that are below 1\n",
    "which(low)"
   ]
  },
  {
   "cell_type": "markdown",
   "metadata": {},
   "source": [
    "### Ordering vectors\n",
    "\n",
    "Note that if we want to know which entries of a vector are lower than some values we can use code like this:\n",
    "```\n",
    "small <- murders$population < 1000000\n",
    "murders$state[small]\n",
    "```\n",
    "The code above shows us the states with populations smaller than one million."
   ]
  },
  {
   "cell_type": "code",
   "execution_count": 34,
   "metadata": {},
   "outputs": [
    {
     "data": {
      "text/html": [
       "<ol class=list-inline>\n",
       "\t<li>'Hawaii'</li>\n",
       "\t<li>'Idaho'</li>\n",
       "\t<li>'Iowa'</li>\n",
       "\t<li>'Maine'</li>\n",
       "\t<li>'Minnesota'</li>\n",
       "\t<li>'New Hampshire'</li>\n",
       "\t<li>'North Dakota'</li>\n",
       "\t<li>'Oregon'</li>\n",
       "\t<li>'South Dakota'</li>\n",
       "\t<li>'Utah'</li>\n",
       "\t<li>'Vermont'</li>\n",
       "\t<li>'Wyoming'</li>\n",
       "</ol>\n"
      ],
      "text/latex": [
       "\\begin{enumerate*}\n",
       "\\item 'Hawaii'\n",
       "\\item 'Idaho'\n",
       "\\item 'Iowa'\n",
       "\\item 'Maine'\n",
       "\\item 'Minnesota'\n",
       "\\item 'New Hampshire'\n",
       "\\item 'North Dakota'\n",
       "\\item 'Oregon'\n",
       "\\item 'South Dakota'\n",
       "\\item 'Utah'\n",
       "\\item 'Vermont'\n",
       "\\item 'Wyoming'\n",
       "\\end{enumerate*}\n"
      ],
      "text/markdown": [
       "1. 'Hawaii'\n",
       "2. 'Idaho'\n",
       "3. 'Iowa'\n",
       "4. 'Maine'\n",
       "5. 'Minnesota'\n",
       "6. 'New Hampshire'\n",
       "7. 'North Dakota'\n",
       "8. 'Oregon'\n",
       "9. 'South Dakota'\n",
       "10. 'Utah'\n",
       "11. 'Vermont'\n",
       "12. 'Wyoming'\n",
       "\n",
       "\n"
      ],
      "text/plain": [
       " [1] \"Hawaii\"        \"Idaho\"         \"Iowa\"          \"Maine\"        \n",
       " [5] \"Minnesota\"     \"New Hampshire\" \"North Dakota\"  \"Oregon\"       \n",
       " [9] \"South Dakota\"  \"Utah\"          \"Vermont\"       \"Wyoming\"      "
      ]
     },
     "metadata": {},
     "output_type": "display_data"
    }
   ],
   "source": [
    "# Store the murder rate per 100,000 for each state, in murder_rate\n",
    "murder_rate <- murders$total/murders$population*100000\n",
    "\n",
    "# Store the murder_rate < 1 in low \n",
    "low <- murder_rate < 1\n",
    "\n",
    "# Names of states with murder rates lower than 1\n",
    "murders$state[low]"
   ]
  },
  {
   "cell_type": "markdown",
   "metadata": {},
   "source": [
    "### Filtering\n",
    "\n",
    "Now we will extend the code from the previous exercises to report the states in the Northeast with murder rates lower than 1.\n",
    "\n",
    "    Define low as before.\n",
    "    Use the & operator to create a new object ind that is true when low is true and the state is in the Northeast\n",
    "    Use the brackets [ and ind to show the state names that satisfy this condition\n"
   ]
  },
  {
   "cell_type": "code",
   "execution_count": 35,
   "metadata": {},
   "outputs": [
    {
     "data": {
      "text/html": [
       "<ol class=list-inline>\n",
       "\t<li>'Maine'</li>\n",
       "\t<li>'New Hampshire'</li>\n",
       "\t<li>'Vermont'</li>\n",
       "</ol>\n"
      ],
      "text/latex": [
       "\\begin{enumerate*}\n",
       "\\item 'Maine'\n",
       "\\item 'New Hampshire'\n",
       "\\item 'Vermont'\n",
       "\\end{enumerate*}\n"
      ],
      "text/markdown": [
       "1. 'Maine'\n",
       "2. 'New Hampshire'\n",
       "3. 'Vermont'\n",
       "\n",
       "\n"
      ],
      "text/plain": [
       "[1] \"Maine\"         \"New Hampshire\" \"Vermont\"      "
      ]
     },
     "metadata": {},
     "output_type": "display_data"
    }
   ],
   "source": [
    "# Store the murder rate per 100,000 for each state, in `murder_rate`\n",
    "murder_rate <- murders$total/murders$population*100000\n",
    "\n",
    "# Store the `murder_rate < 1` in `low` \n",
    "low <- murder_rate < 1\n",
    "\n",
    "# Create a vector ind for states in the Northeast and with murder rates lower than 1. \n",
    "ind <- (murders$region==\"Northeast\" & low)\n",
    "# Names of states in `ind` \n",
    "murders$state[ind]"
   ]
  },
  {
   "cell_type": "markdown",
   "metadata": {},
   "source": [
    "### Filtering continued\n",
    "\n",
    "In a previous exercise we computed the murder rate for each state and the average of these numbers.\n",
    "\n",
    "    How many states are below the average?\n"
   ]
  },
  {
   "cell_type": "code",
   "execution_count": 36,
   "metadata": {},
   "outputs": [
    {
     "data": {
      "text/html": [
       "27"
      ],
      "text/latex": [
       "27"
      ],
      "text/markdown": [
       "27"
      ],
      "text/plain": [
       "[1] 27"
      ]
     },
     "metadata": {},
     "output_type": "display_data"
    }
   ],
   "source": [
    "# Store the murder rate per 100,000 for each state, in murder_rate\n",
    "murder_rate <- murders$total/murders$population*100000\n",
    "\n",
    "\n",
    "# Compute average murder rate and store in avg using `mean` \n",
    "avg <- mean(murder_rate)\n",
    "\n",
    "# How many states have murder rates below avg ? Check using sum \n",
    "sum(murder_rate < avg)"
   ]
  },
  {
   "cell_type": "markdown",
   "metadata": {},
   "source": [
    "### Match\n",
    "\n",
    "In this exercise we use the match function to identify the states with abbreviations AK, MI, and IA."
   ]
  },
  {
   "cell_type": "code",
   "execution_count": 37,
   "metadata": {},
   "outputs": [
    {
     "data": {
      "text/html": [
       "<ol class=list-inline>\n",
       "\t<li>'Alaska'</li>\n",
       "\t<li>'Michigan'</li>\n",
       "\t<li>'Iowa'</li>\n",
       "</ol>\n"
      ],
      "text/latex": [
       "\\begin{enumerate*}\n",
       "\\item 'Alaska'\n",
       "\\item 'Michigan'\n",
       "\\item 'Iowa'\n",
       "\\end{enumerate*}\n"
      ],
      "text/markdown": [
       "1. 'Alaska'\n",
       "2. 'Michigan'\n",
       "3. 'Iowa'\n",
       "\n",
       "\n"
      ],
      "text/plain": [
       "[1] \"Alaska\"   \"Michigan\" \"Iowa\"    "
      ]
     },
     "metadata": {},
     "output_type": "display_data"
    }
   ],
   "source": [
    "# Store the 3 abbreviations in abbs in a vector (remember that they are character vectors and need quotes)\n",
    "abbs <- c(\"AK\", \"MI\", \"IA\")\n",
    "# Match the abbs to the murders$abb and store in ind\n",
    "ind <- match(abbs, murders$abb)\n",
    "# Print state names from ind\n",
    "murders$state[ind]"
   ]
  },
  {
   "cell_type": "markdown",
   "metadata": {},
   "source": [
    "### %in%\n",
    "\n",
    "If rather than an index we want a logical that tells us whether or not each element of a first vector is in we can use the function %in%. For example:\n",
    "```\n",
    "x <- c(2, 3, 5)\n",
    "y <- c(1, 2, 3, 4)\n",
    "x%in%y\n",
    "```\n",
    "Gives us a two TRUE followed by a FALSE because 2 and 3 are in y."
   ]
  },
  {
   "cell_type": "code",
   "execution_count": 38,
   "metadata": {},
   "outputs": [
    {
     "data": {
      "text/html": [
       "<ol class=list-inline>\n",
       "\t<li>TRUE</li>\n",
       "\t<li>TRUE</li>\n",
       "\t<li>TRUE</li>\n",
       "\t<li>TRUE</li>\n",
       "\t<li>FALSE</li>\n",
       "</ol>\n"
      ],
      "text/latex": [
       "\\begin{enumerate*}\n",
       "\\item TRUE\n",
       "\\item TRUE\n",
       "\\item TRUE\n",
       "\\item TRUE\n",
       "\\item FALSE\n",
       "\\end{enumerate*}\n"
      ],
      "text/markdown": [
       "1. TRUE\n",
       "2. TRUE\n",
       "3. TRUE\n",
       "4. TRUE\n",
       "5. FALSE\n",
       "\n",
       "\n"
      ],
      "text/plain": [
       "[1]  TRUE  TRUE  TRUE  TRUE FALSE"
      ]
     },
     "metadata": {},
     "output_type": "display_data"
    }
   ],
   "source": [
    "# Store the 5 abbreviations in `abbs`. (remember that they are character vectors)\n",
    "abbs <- c(\"MA\", \"ME\", \"MI\", \"MO\", \"MU\")\n",
    "\n",
    "# Use the %in% command to check if the entries of abbs are abbreviations in the the murders data frame\n",
    "abbs%in%murders$abb"
   ]
  },
  {
   "cell_type": "markdown",
   "metadata": {},
   "source": [
    "### Logical operator\n",
    "\n",
    "We are again working with the characters abbs <- c(\"MA\", \"ME\", \"MI\", \"MO\", \"MU\")\n",
    "\n",
    "    In a previous exercise we computed the index abbs%in%murders$abb. Use which and the ! operator to get the index of the entries of abbs that are not abbreviations.\n",
    "    Show the entries of abbs that are not actual abbreviations.\n"
   ]
  },
  {
   "cell_type": "code",
   "execution_count": 39,
   "metadata": {},
   "outputs": [
    {
     "data": {
      "text/html": [
       "'MU'"
      ],
      "text/latex": [
       "'MU'"
      ],
      "text/markdown": [
       "'MU'"
      ],
      "text/plain": [
       "[1] \"MU\""
      ]
     },
     "metadata": {},
     "output_type": "display_data"
    }
   ],
   "source": [
    "# Store the 5 abbreviations in abbs. (remember that they are character vectors)\n",
    "abbs <- c(\"MA\", \"ME\", \"MI\", \"MO\", \"MU\") \n",
    "\n",
    "# Use the `which` command and `!` operator to find out which abbreviation are not actually part of the dataset and store in ind\n",
    "ind <- which(!abbs%in%murders$abb)\n",
    "# What are the entries of abbs that are not actual abbreviations\n",
    "abbs[ind]"
   ]
  },
  {
   "cell_type": "markdown",
   "metadata": {},
   "source": [
    "### dplyr\n",
    "\n",
    "Load the dplyr package and the murders dataset.\n",
    "```\n",
    "library(dplyr)\n",
    "library(dslabs)\n",
    "data(murders)\n",
    "```\n",
    "You can add columns using the dplyr function mutate. This function is aware of the column names and inside the function you can call them unquoted. Like this:\n",
    "```\n",
    "murders <- mutate(murders, population_in_millions = population / 10^6)\n",
    "```\n",
    "Note that we can write population rather than murders$population. The function mutate knows we are grabing columns from murders."
   ]
  },
  {
   "cell_type": "code",
   "execution_count": 40,
   "metadata": {},
   "outputs": [
    {
     "name": "stderr",
     "output_type": "stream",
     "text": [
      "\n",
      "Attaching package: 'dplyr'\n",
      "\n",
      "The following objects are masked from 'package:stats':\n",
      "\n",
      "    filter, lag\n",
      "\n",
      "The following objects are masked from 'package:base':\n",
      "\n",
      "    intersect, setdiff, setequal, union\n",
      "\n"
     ]
    }
   ],
   "source": [
    "# Loading data\n",
    "library(dslabs)\n",
    "data(murders)\n",
    "\n",
    "# Loading dplyr\n",
    "library(dplyr)\n",
    "\n",
    "# Redefine murders so that it includes column named rate with the per 100,000 murder rates\n",
    "murders <- mutate(murders, rate = total/(population/100000))"
   ]
  },
  {
   "cell_type": "markdown",
   "metadata": {},
   "source": [
    "### mutate\n",
    "\n",
    "Note that if rank(x) gives you the ranks of x from lowest to highest, rank(-x) gives you the ranks from highest to lowest."
   ]
  },
  {
   "cell_type": "code",
   "execution_count": 41,
   "metadata": {},
   "outputs": [
    {
     "data": {
      "text/html": [
       "<ol class=list-inline>\n",
       "\t<li>4</li>\n",
       "\t<li>1</li>\n",
       "\t<li>5</li>\n",
       "\t<li>3</li>\n",
       "\t<li>2</li>\n",
       "</ol>\n"
      ],
      "text/latex": [
       "\\begin{enumerate*}\n",
       "\\item 4\n",
       "\\item 1\n",
       "\\item 5\n",
       "\\item 3\n",
       "\\item 2\n",
       "\\end{enumerate*}\n"
      ],
      "text/markdown": [
       "1. 4\n",
       "2. 1\n",
       "3. 5\n",
       "4. 3\n",
       "5. 2\n",
       "\n",
       "\n"
      ],
      "text/plain": [
       "[1] 4 1 5 3 2"
      ]
     },
     "metadata": {},
     "output_type": "display_data"
    }
   ],
   "source": [
    "# Note that if you want ranks from highest to lowest you can take the negative and then compute the ranks \n",
    "x <- c(88, 100, 83, 92, 94)\n",
    "rank(-x)\n",
    "\n",
    "# Defining rate\n",
    "rate <-  murders$total/ murders$population * 100000\n",
    "\n",
    "# Redefine murders to include a column named rank\n",
    "# with the ranks of rate from highest to lowest\n",
    "murders <- mutate(murders, rank = rank(-rate))"
   ]
  },
  {
   "cell_type": "markdown",
   "metadata": {},
   "source": [
    "### select\n",
    "\n",
    "With dplyr we can use select to show only certain columns. For example with this code we would only show the states and population sizes:\n",
    "```\n",
    "select(murders, state, population)\n",
    "```"
   ]
  },
  {
   "cell_type": "code",
   "execution_count": 42,
   "metadata": {},
   "outputs": [
    {
     "data": {
      "text/html": [
       "<table>\n",
       "<thead><tr><th scope=col>state</th><th scope=col>abb</th></tr></thead>\n",
       "<tbody>\n",
       "\t<tr><td>Alabama             </td><td>AL                  </td></tr>\n",
       "\t<tr><td>Alaska              </td><td>AK                  </td></tr>\n",
       "\t<tr><td>Arizona             </td><td>AZ                  </td></tr>\n",
       "\t<tr><td>Arkansas            </td><td>AR                  </td></tr>\n",
       "\t<tr><td>California          </td><td>CA                  </td></tr>\n",
       "\t<tr><td>Colorado            </td><td>CO                  </td></tr>\n",
       "\t<tr><td>Connecticut         </td><td>CT                  </td></tr>\n",
       "\t<tr><td>Delaware            </td><td>DE                  </td></tr>\n",
       "\t<tr><td>District of Columbia</td><td>DC                  </td></tr>\n",
       "\t<tr><td>Florida             </td><td>FL                  </td></tr>\n",
       "\t<tr><td>Georgia             </td><td>GA                  </td></tr>\n",
       "\t<tr><td>Hawaii              </td><td>HI                  </td></tr>\n",
       "\t<tr><td>Idaho               </td><td>ID                  </td></tr>\n",
       "\t<tr><td>Illinois            </td><td>IL                  </td></tr>\n",
       "\t<tr><td>Indiana             </td><td>IN                  </td></tr>\n",
       "\t<tr><td>Iowa                </td><td>IA                  </td></tr>\n",
       "\t<tr><td>Kansas              </td><td>KS                  </td></tr>\n",
       "\t<tr><td>Kentucky            </td><td>KY                  </td></tr>\n",
       "\t<tr><td>Louisiana           </td><td>LA                  </td></tr>\n",
       "\t<tr><td>Maine               </td><td>ME                  </td></tr>\n",
       "\t<tr><td>Maryland            </td><td>MD                  </td></tr>\n",
       "\t<tr><td>Massachusetts       </td><td>MA                  </td></tr>\n",
       "\t<tr><td>Michigan            </td><td>MI                  </td></tr>\n",
       "\t<tr><td>Minnesota           </td><td>MN                  </td></tr>\n",
       "\t<tr><td>Mississippi         </td><td>MS                  </td></tr>\n",
       "\t<tr><td>Missouri            </td><td>MO                  </td></tr>\n",
       "\t<tr><td>Montana             </td><td>MT                  </td></tr>\n",
       "\t<tr><td>Nebraska            </td><td>NE                  </td></tr>\n",
       "\t<tr><td>Nevada              </td><td>NV                  </td></tr>\n",
       "\t<tr><td>New Hampshire       </td><td>NH                  </td></tr>\n",
       "\t<tr><td>New Jersey          </td><td>NJ                  </td></tr>\n",
       "\t<tr><td>New Mexico          </td><td>NM                  </td></tr>\n",
       "\t<tr><td>New York            </td><td>NY                  </td></tr>\n",
       "\t<tr><td>North Carolina      </td><td>NC                  </td></tr>\n",
       "\t<tr><td>North Dakota        </td><td>ND                  </td></tr>\n",
       "\t<tr><td>Ohio                </td><td>OH                  </td></tr>\n",
       "\t<tr><td>Oklahoma            </td><td>OK                  </td></tr>\n",
       "\t<tr><td>Oregon              </td><td>OR                  </td></tr>\n",
       "\t<tr><td>Pennsylvania        </td><td>PA                  </td></tr>\n",
       "\t<tr><td>Rhode Island        </td><td>RI                  </td></tr>\n",
       "\t<tr><td>South Carolina      </td><td>SC                  </td></tr>\n",
       "\t<tr><td>South Dakota        </td><td>SD                  </td></tr>\n",
       "\t<tr><td>Tennessee           </td><td>TN                  </td></tr>\n",
       "\t<tr><td>Texas               </td><td>TX                  </td></tr>\n",
       "\t<tr><td>Utah                </td><td>UT                  </td></tr>\n",
       "\t<tr><td>Vermont             </td><td>VT                  </td></tr>\n",
       "\t<tr><td>Virginia            </td><td>VA                  </td></tr>\n",
       "\t<tr><td>Washington          </td><td>WA                  </td></tr>\n",
       "\t<tr><td>West Virginia       </td><td>WV                  </td></tr>\n",
       "\t<tr><td>Wisconsin           </td><td>WI                  </td></tr>\n",
       "\t<tr><td>Wyoming             </td><td>WY                  </td></tr>\n",
       "</tbody>\n",
       "</table>\n"
      ],
      "text/latex": [
       "\\begin{tabular}{r|ll}\n",
       " state & abb\\\\\n",
       "\\hline\n",
       "\t Alabama              & AL                  \\\\\n",
       "\t Alaska               & AK                  \\\\\n",
       "\t Arizona              & AZ                  \\\\\n",
       "\t Arkansas             & AR                  \\\\\n",
       "\t California           & CA                  \\\\\n",
       "\t Colorado             & CO                  \\\\\n",
       "\t Connecticut          & CT                  \\\\\n",
       "\t Delaware             & DE                  \\\\\n",
       "\t District of Columbia & DC                  \\\\\n",
       "\t Florida              & FL                  \\\\\n",
       "\t Georgia              & GA                  \\\\\n",
       "\t Hawaii               & HI                  \\\\\n",
       "\t Idaho                & ID                  \\\\\n",
       "\t Illinois             & IL                  \\\\\n",
       "\t Indiana              & IN                  \\\\\n",
       "\t Iowa                 & IA                  \\\\\n",
       "\t Kansas               & KS                  \\\\\n",
       "\t Kentucky             & KY                  \\\\\n",
       "\t Louisiana            & LA                  \\\\\n",
       "\t Maine                & ME                  \\\\\n",
       "\t Maryland             & MD                  \\\\\n",
       "\t Massachusetts        & MA                  \\\\\n",
       "\t Michigan             & MI                  \\\\\n",
       "\t Minnesota            & MN                  \\\\\n",
       "\t Mississippi          & MS                  \\\\\n",
       "\t Missouri             & MO                  \\\\\n",
       "\t Montana              & MT                  \\\\\n",
       "\t Nebraska             & NE                  \\\\\n",
       "\t Nevada               & NV                  \\\\\n",
       "\t New Hampshire        & NH                  \\\\\n",
       "\t New Jersey           & NJ                  \\\\\n",
       "\t New Mexico           & NM                  \\\\\n",
       "\t New York             & NY                  \\\\\n",
       "\t North Carolina       & NC                  \\\\\n",
       "\t North Dakota         & ND                  \\\\\n",
       "\t Ohio                 & OH                  \\\\\n",
       "\t Oklahoma             & OK                  \\\\\n",
       "\t Oregon               & OR                  \\\\\n",
       "\t Pennsylvania         & PA                  \\\\\n",
       "\t Rhode Island         & RI                  \\\\\n",
       "\t South Carolina       & SC                  \\\\\n",
       "\t South Dakota         & SD                  \\\\\n",
       "\t Tennessee            & TN                  \\\\\n",
       "\t Texas                & TX                  \\\\\n",
       "\t Utah                 & UT                  \\\\\n",
       "\t Vermont              & VT                  \\\\\n",
       "\t Virginia             & VA                  \\\\\n",
       "\t Washington           & WA                  \\\\\n",
       "\t West Virginia        & WV                  \\\\\n",
       "\t Wisconsin            & WI                  \\\\\n",
       "\t Wyoming              & WY                  \\\\\n",
       "\\end{tabular}\n"
      ],
      "text/markdown": [
       "\n",
       "state | abb | \n",
       "|---|---|---|---|---|---|---|---|---|---|---|---|---|---|---|---|---|---|---|---|---|---|---|---|---|---|---|---|---|---|---|---|---|---|---|---|---|---|---|---|---|---|---|---|---|---|---|---|---|---|---|\n",
       "| Alabama              | AL                   | \n",
       "| Alaska               | AK                   | \n",
       "| Arizona              | AZ                   | \n",
       "| Arkansas             | AR                   | \n",
       "| California           | CA                   | \n",
       "| Colorado             | CO                   | \n",
       "| Connecticut          | CT                   | \n",
       "| Delaware             | DE                   | \n",
       "| District of Columbia | DC                   | \n",
       "| Florida              | FL                   | \n",
       "| Georgia              | GA                   | \n",
       "| Hawaii               | HI                   | \n",
       "| Idaho                | ID                   | \n",
       "| Illinois             | IL                   | \n",
       "| Indiana              | IN                   | \n",
       "| Iowa                 | IA                   | \n",
       "| Kansas               | KS                   | \n",
       "| Kentucky             | KY                   | \n",
       "| Louisiana            | LA                   | \n",
       "| Maine                | ME                   | \n",
       "| Maryland             | MD                   | \n",
       "| Massachusetts        | MA                   | \n",
       "| Michigan             | MI                   | \n",
       "| Minnesota            | MN                   | \n",
       "| Mississippi          | MS                   | \n",
       "| Missouri             | MO                   | \n",
       "| Montana              | MT                   | \n",
       "| Nebraska             | NE                   | \n",
       "| Nevada               | NV                   | \n",
       "| New Hampshire        | NH                   | \n",
       "| New Jersey           | NJ                   | \n",
       "| New Mexico           | NM                   | \n",
       "| New York             | NY                   | \n",
       "| North Carolina       | NC                   | \n",
       "| North Dakota         | ND                   | \n",
       "| Ohio                 | OH                   | \n",
       "| Oklahoma             | OK                   | \n",
       "| Oregon               | OR                   | \n",
       "| Pennsylvania         | PA                   | \n",
       "| Rhode Island         | RI                   | \n",
       "| South Carolina       | SC                   | \n",
       "| South Dakota         | SD                   | \n",
       "| Tennessee            | TN                   | \n",
       "| Texas                | TX                   | \n",
       "| Utah                 | UT                   | \n",
       "| Vermont              | VT                   | \n",
       "| Virginia             | VA                   | \n",
       "| Washington           | WA                   | \n",
       "| West Virginia        | WV                   | \n",
       "| Wisconsin            | WI                   | \n",
       "| Wyoming              | WY                   | \n",
       "\n",
       "\n"
      ],
      "text/plain": [
       "   state                abb\n",
       "1  Alabama              AL \n",
       "2  Alaska               AK \n",
       "3  Arizona              AZ \n",
       "4  Arkansas             AR \n",
       "5  California           CA \n",
       "6  Colorado             CO \n",
       "7  Connecticut          CT \n",
       "8  Delaware             DE \n",
       "9  District of Columbia DC \n",
       "10 Florida              FL \n",
       "11 Georgia              GA \n",
       "12 Hawaii               HI \n",
       "13 Idaho                ID \n",
       "14 Illinois             IL \n",
       "15 Indiana              IN \n",
       "16 Iowa                 IA \n",
       "17 Kansas               KS \n",
       "18 Kentucky             KY \n",
       "19 Louisiana            LA \n",
       "20 Maine                ME \n",
       "21 Maryland             MD \n",
       "22 Massachusetts        MA \n",
       "23 Michigan             MI \n",
       "24 Minnesota            MN \n",
       "25 Mississippi          MS \n",
       "26 Missouri             MO \n",
       "27 Montana              MT \n",
       "28 Nebraska             NE \n",
       "29 Nevada               NV \n",
       "30 New Hampshire        NH \n",
       "31 New Jersey           NJ \n",
       "32 New Mexico           NM \n",
       "33 New York             NY \n",
       "34 North Carolina       NC \n",
       "35 North Dakota         ND \n",
       "36 Ohio                 OH \n",
       "37 Oklahoma             OK \n",
       "38 Oregon               OR \n",
       "39 Pennsylvania         PA \n",
       "40 Rhode Island         RI \n",
       "41 South Carolina       SC \n",
       "42 South Dakota         SD \n",
       "43 Tennessee            TN \n",
       "44 Texas                TX \n",
       "45 Utah                 UT \n",
       "46 Vermont              VT \n",
       "47 Virginia             VA \n",
       "48 Washington           WA \n",
       "49 West Virginia        WV \n",
       "50 Wisconsin            WI \n",
       "51 Wyoming              WY "
      ]
     },
     "metadata": {},
     "output_type": "display_data"
    }
   ],
   "source": [
    "# Load dplyr\n",
    "library(dplyr)\n",
    "\n",
    "# Use select to only show state names and abbreviations from murders\n",
    "select (murders, state, abb)"
   ]
  },
  {
   "cell_type": "markdown",
   "metadata": {},
   "source": [
    "### filter\n",
    "\n",
    "The dplyr function filter is used to choose specific rows of the data frame to keep. Unlke select which is for columns, filter is for rows. For example you can show just New York row like this:\n",
    "```\n",
    "filter(murders, state == \"New York\")\n",
    "```\n",
    "You can use other logical vector to filter rows."
   ]
  },
  {
   "cell_type": "code",
   "execution_count": 43,
   "metadata": {},
   "outputs": [
    {
     "data": {
      "text/html": [
       "<table>\n",
       "<thead><tr><th scope=col>state</th><th scope=col>abb</th><th scope=col>region</th><th scope=col>population</th><th scope=col>total</th><th scope=col>rate</th><th scope=col>rank</th></tr></thead>\n",
       "<tbody>\n",
       "\t<tr><td>District of Columbia</td><td>DC                  </td><td>South               </td><td> 601723             </td><td> 99                 </td><td>16.452753           </td><td>1                   </td></tr>\n",
       "\t<tr><td>Louisiana           </td><td>LA                  </td><td>South               </td><td>4533372             </td><td>351                 </td><td> 7.742581           </td><td>2                   </td></tr>\n",
       "\t<tr><td>Maryland            </td><td>MD                  </td><td>South               </td><td>5773552             </td><td>293                 </td><td> 5.074866           </td><td>4                   </td></tr>\n",
       "\t<tr><td>Missouri            </td><td>MO                  </td><td>North Central       </td><td>5988927             </td><td>321                 </td><td> 5.359892           </td><td>3                   </td></tr>\n",
       "\t<tr><td>South Carolina      </td><td>SC                  </td><td>South               </td><td>4625364             </td><td>207                 </td><td> 4.475323           </td><td>5                   </td></tr>\n",
       "</tbody>\n",
       "</table>\n"
      ],
      "text/latex": [
       "\\begin{tabular}{r|lllllll}\n",
       " state & abb & region & population & total & rate & rank\\\\\n",
       "\\hline\n",
       "\t District of Columbia & DC                   & South                &  601723              &  99                  & 16.452753            & 1                   \\\\\n",
       "\t Louisiana            & LA                   & South                & 4533372              & 351                  &  7.742581            & 2                   \\\\\n",
       "\t Maryland             & MD                   & South                & 5773552              & 293                  &  5.074866            & 4                   \\\\\n",
       "\t Missouri             & MO                   & North Central        & 5988927              & 321                  &  5.359892            & 3                   \\\\\n",
       "\t South Carolina       & SC                   & South                & 4625364              & 207                  &  4.475323            & 5                   \\\\\n",
       "\\end{tabular}\n"
      ],
      "text/markdown": [
       "\n",
       "state | abb | region | population | total | rate | rank | \n",
       "|---|---|---|---|---|\n",
       "| District of Columbia | DC                   | South                |  601723              |  99                  | 16.452753            | 1                    | \n",
       "| Louisiana            | LA                   | South                | 4533372              | 351                  |  7.742581            | 2                    | \n",
       "| Maryland             | MD                   | South                | 5773552              | 293                  |  5.074866            | 4                    | \n",
       "| Missouri             | MO                   | North Central        | 5988927              | 321                  |  5.359892            | 3                    | \n",
       "| South Carolina       | SC                   | South                | 4625364              | 207                  |  4.475323            | 5                    | \n",
       "\n",
       "\n"
      ],
      "text/plain": [
       "  state                abb region        population total rate      rank\n",
       "1 District of Columbia DC  South          601723     99   16.452753 1   \n",
       "2 Louisiana            LA  South         4533372    351    7.742581 2   \n",
       "3 Maryland             MD  South         5773552    293    5.074866 4   \n",
       "4 Missouri             MO  North Central 5988927    321    5.359892 3   \n",
       "5 South Carolina       SC  South         4625364    207    4.475323 5   "
      ]
     },
     "metadata": {},
     "output_type": "display_data"
    }
   ],
   "source": [
    "# Add the necessary columns\n",
    "murders <- mutate(murders, rate = total/population * 100000, rank = rank(-rate))\n",
    "\n",
    "# Filter to show the top 5 states with the highest murder rates\n",
    "filter(murders, rank < 6)"
   ]
  },
  {
   "cell_type": "markdown",
   "metadata": {},
   "source": [
    "### filter with !=\n",
    "\n",
    "We can remove rows using the != operator. For example to remove Florida we would do this:\n",
    "```\n",
    "no_florida <- filter(murders, state != \"Florida\")\n",
    "```"
   ]
  },
  {
   "cell_type": "code",
   "execution_count": 44,
   "metadata": {},
   "outputs": [
    {
     "data": {
      "text/html": [
       "34"
      ],
      "text/latex": [
       "34"
      ],
      "text/markdown": [
       "34"
      ],
      "text/plain": [
       "[1] 34"
      ]
     },
     "metadata": {},
     "output_type": "display_data"
    }
   ],
   "source": [
    "# Use filter to create a new data frame no_south\n",
    "no_south <- filter(murders, region != \"South\")\n",
    "# Use nrow() to calculate the number of rows\n",
    "nrow(no_south)"
   ]
  },
  {
   "cell_type": "markdown",
   "metadata": {},
   "source": [
    "### filter with %in%\n",
    "\n",
    "We can also use the %in% to filter with dplyr. For example you can see the data from New York and Texas like this:\n",
    "```\n",
    "filter(murders, state %in% c(\"New York\", \"Texas\"))\n",
    "```"
   ]
  },
  {
   "cell_type": "code",
   "execution_count": 45,
   "metadata": {},
   "outputs": [
    {
     "data": {
      "text/html": [
       "22"
      ],
      "text/latex": [
       "22"
      ],
      "text/markdown": [
       "22"
      ],
      "text/plain": [
       "[1] 22"
      ]
     },
     "metadata": {},
     "output_type": "display_data"
    }
   ],
   "source": [
    "# Create a new data frame called murders_nw with only the states from the northeast and the west\n",
    "murders_nw <- filter(murders, region %in% c(\"Northeast\", \"West\"))\n",
    "# Number of states (rows) in this category \n",
    "nrow(murders_nw)"
   ]
  },
  {
   "cell_type": "markdown",
   "metadata": {},
   "source": [
    "### filtering by two conditions\n",
    "\n",
    "Suppose you want to live in the Northeast or West and want the murder rate to be less than 1. We want to see the data for the states satisfying these options. Note that you can use logical operators with filter:\n",
    "```\n",
    "filter(murders, population < 5000000 & region == \"Northeast\")\n",
    "```"
   ]
  },
  {
   "cell_type": "code",
   "execution_count": 46,
   "metadata": {},
   "outputs": [
    {
     "data": {
      "text/html": [
       "<table>\n",
       "<thead><tr><th scope=col>state</th><th scope=col>rate</th><th scope=col>rank</th></tr></thead>\n",
       "<tbody>\n",
       "\t<tr><td>Hawaii       </td><td>0.5145920    </td><td>49           </td></tr>\n",
       "\t<tr><td>Idaho        </td><td>0.7655102    </td><td>46           </td></tr>\n",
       "\t<tr><td>Maine        </td><td>0.8280881    </td><td>44           </td></tr>\n",
       "\t<tr><td>New Hampshire</td><td>0.3798036    </td><td>50           </td></tr>\n",
       "\t<tr><td>Oregon       </td><td>0.9396843    </td><td>42           </td></tr>\n",
       "\t<tr><td>Utah         </td><td>0.7959810    </td><td>45           </td></tr>\n",
       "\t<tr><td>Vermont      </td><td>0.3196211    </td><td>51           </td></tr>\n",
       "\t<tr><td>Wyoming      </td><td>0.8871131    </td><td>43           </td></tr>\n",
       "</tbody>\n",
       "</table>\n"
      ],
      "text/latex": [
       "\\begin{tabular}{r|lll}\n",
       " state & rate & rank\\\\\n",
       "\\hline\n",
       "\t Hawaii        & 0.5145920     & 49           \\\\\n",
       "\t Idaho         & 0.7655102     & 46           \\\\\n",
       "\t Maine         & 0.8280881     & 44           \\\\\n",
       "\t New Hampshire & 0.3798036     & 50           \\\\\n",
       "\t Oregon        & 0.9396843     & 42           \\\\\n",
       "\t Utah          & 0.7959810     & 45           \\\\\n",
       "\t Vermont       & 0.3196211     & 51           \\\\\n",
       "\t Wyoming       & 0.8871131     & 43           \\\\\n",
       "\\end{tabular}\n"
      ],
      "text/markdown": [
       "\n",
       "state | rate | rank | \n",
       "|---|---|---|---|---|---|---|---|\n",
       "| Hawaii        | 0.5145920     | 49            | \n",
       "| Idaho         | 0.7655102     | 46            | \n",
       "| Maine         | 0.8280881     | 44            | \n",
       "| New Hampshire | 0.3798036     | 50            | \n",
       "| Oregon        | 0.9396843     | 42            | \n",
       "| Utah          | 0.7959810     | 45            | \n",
       "| Vermont       | 0.3196211     | 51            | \n",
       "| Wyoming       | 0.8871131     | 43            | \n",
       "\n",
       "\n"
      ],
      "text/plain": [
       "  state         rate      rank\n",
       "1 Hawaii        0.5145920 49  \n",
       "2 Idaho         0.7655102 46  \n",
       "3 Maine         0.8280881 44  \n",
       "4 New Hampshire 0.3798036 50  \n",
       "5 Oregon        0.9396843 42  \n",
       "6 Utah          0.7959810 45  \n",
       "7 Vermont       0.3196211 51  \n",
       "8 Wyoming       0.8871131 43  "
      ]
     },
     "metadata": {},
     "output_type": "display_data"
    }
   ],
   "source": [
    "# add the rate column\n",
    "murders <- mutate(murders, rate =  total / population * 100000, rank = rank(-rate))\n",
    "\n",
    "# Create a table, call it my_states, that satisfies both the conditions \n",
    "my_states <- filter(murders, rate < 1 & region %in% c(\"Northeast\", \"West\"))\n",
    "# Use select to show only the state name, the murder rate and the rank\n",
    "select(my_states, state, rate, rank)"
   ]
  },
  {
   "cell_type": "markdown",
   "metadata": {},
   "source": [
    "### Using the pipe %>%\n",
    "\n",
    "The pipe %>% can be used to perform operations sequentially without having to define intermediate objects. After redefining murder to include rate and rank.\n",
    "```\n",
    "library(dplyr)\n",
    "murders <- mutate(murders, rate =  total / population * 100000, rank = (-rate))\n",
    "```\n",
    "in the solution to the previous exercise we did the following:\n",
    "```\n",
    "# Created a table \n",
    "my_states <- filter(murders, region %in% c(\"Northeast\", \"West\") & rate < 1)\n",
    "\n",
    "# Used select to show only the state name, the murder rate and the rank\n",
    "select(my_states, state, rate, rank)\n",
    "\n",
    "The pipe %>% permits us to perform both operation sequentially and without having to define an intermediate variable my_states\n",
    "\n",
    "For example we could have mutated and selected in the same line like this:\n",
    "\n",
    "mutate(murders, rate =  total / population * 100000, rank = (-rate)) %>% \n",
    "    select(state, rate, rank)\n",
    "```\n",
    "Note that select no longer has a data frame as the first argument. The first argument is assumed to be the result of the operation conducted right before the %>%"
   ]
  },
  {
   "cell_type": "code",
   "execution_count": 47,
   "metadata": {},
   "outputs": [
    {
     "data": {
      "text/html": [
       "<table>\n",
       "<thead><tr><th scope=col>state</th><th scope=col>rate</th><th scope=col>rank</th></tr></thead>\n",
       "<tbody>\n",
       "\t<tr><td>Hawaii       </td><td>0.5145920    </td><td>49           </td></tr>\n",
       "\t<tr><td>Idaho        </td><td>0.7655102    </td><td>46           </td></tr>\n",
       "\t<tr><td>Maine        </td><td>0.8280881    </td><td>44           </td></tr>\n",
       "\t<tr><td>New Hampshire</td><td>0.3798036    </td><td>50           </td></tr>\n",
       "\t<tr><td>Oregon       </td><td>0.9396843    </td><td>42           </td></tr>\n",
       "\t<tr><td>Utah         </td><td>0.7959810    </td><td>45           </td></tr>\n",
       "\t<tr><td>Vermont      </td><td>0.3196211    </td><td>51           </td></tr>\n",
       "\t<tr><td>Wyoming      </td><td>0.8871131    </td><td>43           </td></tr>\n",
       "</tbody>\n",
       "</table>\n"
      ],
      "text/latex": [
       "\\begin{tabular}{r|lll}\n",
       " state & rate & rank\\\\\n",
       "\\hline\n",
       "\t Hawaii        & 0.5145920     & 49           \\\\\n",
       "\t Idaho         & 0.7655102     & 46           \\\\\n",
       "\t Maine         & 0.8280881     & 44           \\\\\n",
       "\t New Hampshire & 0.3798036     & 50           \\\\\n",
       "\t Oregon        & 0.9396843     & 42           \\\\\n",
       "\t Utah          & 0.7959810     & 45           \\\\\n",
       "\t Vermont       & 0.3196211     & 51           \\\\\n",
       "\t Wyoming       & 0.8871131     & 43           \\\\\n",
       "\\end{tabular}\n"
      ],
      "text/markdown": [
       "\n",
       "state | rate | rank | \n",
       "|---|---|---|---|---|---|---|---|\n",
       "| Hawaii        | 0.5145920     | 49            | \n",
       "| Idaho         | 0.7655102     | 46            | \n",
       "| Maine         | 0.8280881     | 44            | \n",
       "| New Hampshire | 0.3798036     | 50            | \n",
       "| Oregon        | 0.9396843     | 42            | \n",
       "| Utah          | 0.7959810     | 45            | \n",
       "| Vermont       | 0.3196211     | 51            | \n",
       "| Wyoming       | 0.8871131     | 43            | \n",
       "\n",
       "\n"
      ],
      "text/plain": [
       "  state         rate      rank\n",
       "1 Hawaii        0.5145920 49  \n",
       "2 Idaho         0.7655102 46  \n",
       "3 Maine         0.8280881 44  \n",
       "4 New Hampshire 0.3798036 50  \n",
       "5 Oregon        0.9396843 42  \n",
       "6 Utah          0.7959810 45  \n",
       "7 Vermont       0.3196211 51  \n",
       "8 Wyoming       0.8871131 43  "
      ]
     },
     "metadata": {},
     "output_type": "display_data"
    }
   ],
   "source": [
    "# Load library\n",
    "library(dplyr)\n",
    "\n",
    "## Define the rate column\n",
    "murders <- mutate(murders, rate =  total / population * 100000, rank = rank(-rate))\n",
    "\n",
    "# show the result and only include the state, rate, and rank columns, all in one line\n",
    "filter(murders, region %in% c(\"Northeast\", \"West\") & rate < 1) %>% select(state, rate, rank)"
   ]
  },
  {
   "cell_type": "markdown",
   "metadata": {},
   "source": [
    "### mutate, filter and select\n",
    "\n",
    "Now we will make murders the original table one gets when loading using data(murders). Use just one line to create a new data frame, called, my_states that has murder rate and rank column, consider only states in the Northeast or West, which have a murder rate lower than 1 and contain only the state, rate, and rank columns. The line should have four components separated by three %>%.\n",
    "\n",
    "    The original dataset murders\n",
    "    A call to mutate to add the murder rate and the rank.\n",
    "    A call to filter to keep only the states from the Northeast or West and that have a murder rate below 1\n",
    "    A call to select that keeps only the columns with the stata name, the murder rate and the rank.\n",
    "\n",
    "The line should look something like this my_states <- murders %>% mutate something %>% filter something %>% select something. Please, make sure the columns in the final data frame must be in the order: state, rate, rank."
   ]
  },
  {
   "cell_type": "code",
   "execution_count": 48,
   "metadata": {},
   "outputs": [],
   "source": [
    "# Loading the libraries\n",
    "library(dplyr)\n",
    "data(murders)\n",
    "\n",
    "# Create new data frame called my_states (with specifications in the instructions)\n",
    "my_states <- murders %>% \n",
    "    mutate(rate =  total / population * 100000, rank = rank(-rate)) %>%\n",
    "    filter(region %in% c(\"Northeast\", \"West\") & rate < 1) %>%\n",
    "    select(state, rate, rank)"
   ]
  },
  {
   "cell_type": "markdown",
   "metadata": {},
   "source": [
    "# Section 3: Indexing, Data Wrangling, Plots \n",
    "## 3.3 Basic Plots \n",
    "\n",
    "### Scatterplots\n",
    "\n",
    "We made a plot of total murders versus population and noted a strong relationship: not surprisingly states with larger populations had more murders. You can run the code in the console to get the plot.\n",
    "```\n",
    "library(dslabs)\n",
    "data(murders)\n",
    "\n",
    "population_in_millions <- murders$population/10^6\n",
    "total_gun_murders <- murders$total\n",
    "\n",
    "plot(population_in_millions, total_gun_murders)\n",
    "```\n",
    "Note that many states have populations below 5 million and are bunched up in the plot. We may gain further insights from making this plot in the log scale."
   ]
  },
  {
   "cell_type": "code",
   "execution_count": 49,
   "metadata": {},
   "outputs": [
    {
     "data": {
      "image/png": "[encoded data removed]",
      "text/plain": [
       "plot without title"
      ]
     },
     "metadata": {},
     "output_type": "display_data"
    }
   ],
   "source": [
    "# Load the datasets and define some variables\n",
    "library(dslabs)\n",
    "data(murders)\n",
    "\n",
    "population_in_millions <- murders$population/10^6\n",
    "total_gun_murders <- murders$total\n",
    "\n",
    "plot(population_in_millions, total_gun_murders)\n",
    "\n",
    "# Transform population using the log10 transformation and save to object log10_population\n",
    "log10_population <- log10(murders$population)\n",
    "# Transform total gun murders using log10 transformation and save to object log10_total_gun_murders\n",
    "log10_total_gun_murders <- log10(total_gun_murders)\n",
    "# Create a scatterplot with the log scale transformed population and murders \n",
    "plot(population_in_millions, total_gun_murders)\n"
   ]
  },
  {
   "cell_type": "markdown",
   "metadata": {},
   "source": [
    "### Histograms\n",
    "\n",
    "Now we are going to make a histogram.\n",
    "\n",
    "    Compute the population in millions and save it to the object population_in_millions\n",
    "    Create a histogram of the state populations using the function hist\n"
   ]
  },
  {
   "cell_type": "code",
   "execution_count": 50,
   "metadata": {},
   "outputs": [
    {
     "data": {
      "image/png": "[encoded data removed]",
      "text/plain": [
       "Plot with title \"Histogram of population_in_millions\""
      ]
     },
     "metadata": {},
     "output_type": "display_data"
    }
   ],
   "source": [
    "# Store the population in millions and save to population_in_millions \n",
    "population_in_millions <- murders$population/10^6\n",
    "\n",
    "\n",
    "# Create a histogram of this variable\n",
    "hist(population_in_millions)"
   ]
  },
  {
   "cell_type": "markdown",
   "metadata": {},
   "source": [
    "### Boxplots\n",
    "\n",
    "Now we are going to make boxplots. Boxplots are useful when we want a summary of several variables or several strata of the same variables. Making too many histograms can become too cumbersome."
   ]
  },
  {
   "cell_type": "code",
   "execution_count": 51,
   "metadata": {},
   "outputs": [
    {
     "data": {
      "image/png": "[encoded data removed]",
      "text/plain": [
       "plot without title"
      ]
     },
     "metadata": {},
     "output_type": "display_data"
    }
   ],
   "source": [
    "# Create a boxplot of state populations by region for the murders dataset\n",
    "boxplot(population~region, data = murders)"
   ]
  },
  {
   "cell_type": "markdown",
   "metadata": {},
   "source": [
    "#  Section 4: Programming Basics \n",
    "\n",
    "### Conditionals\n",
    "\n",
    "What will this conditional expression return? Run it from the console.\n",
    "```\n",
    "x <- c(1,2,-3,4)\n",
    "if(all(x>0)){\n",
    "    print(\"All Positives\")\n",
    "  } else{\n",
    "     print(\"Not All Positives\")\n",
    "  }\n",
    "```"
   ]
  },
  {
   "cell_type": "markdown",
   "metadata": {},
   "source": [
    "```\n",
    "Not All Positives\n",
    "```"
   ]
  },
  {
   "cell_type": "markdown",
   "metadata": {},
   "source": [
    "### Conditional continued\n",
    "\n",
    "Which of the following expressions is always FALSE when at least one entry of a logical vector x is TRUE? You can try examples in the R console."
   ]
  },
  {
   "cell_type": "markdown",
   "metadata": {},
   "source": [
    "```\n",
    "all(!x)\n",
    "```"
   ]
  },
  {
   "cell_type": "markdown",
   "metadata": {},
   "source": [
    "### ifelse\n",
    "\n",
    "The function nchar tells you how many characters long a character vector is. For example:\n",
    "```\n",
    "char_len <- nchar(murders$state)\n",
    "head(char_len)\n",
    "```\n",
    "The function ifelse is useful because you convert a vector of logicals into something else. For example, some datasets use the number -999 to denote NA. A bad practice! You can convert the -999 in a vector to NA using the following ifelse call:\n",
    "```\n",
    "x <- c(2, 3, -999, 1, 4, 5, -999, 3, 2, 9)\n",
    "ifelse(x == -999, NA, x)\n",
    "```\n",
    "If the entry is -999 it returns NA, otherwise it returns the entry."
   ]
  },
  {
   "cell_type": "code",
   "execution_count": null,
   "metadata": {},
   "outputs": [],
   "source": [
    "# Assign the state abbreviation when the state name is longer than 8 characters \n",
    "new_names <- ifelse(nchar(murders$state) > 8, murders$abb, murders$state)"
   ]
  },
  {
   "cell_type": "markdown",
   "metadata": {},
   "source": [
    "### Defining functions\n",
    "\n",
    "You will encounter situations in which the function you need does not already exist. R permits you to write your own. Let's practice one such situation, in which you first need to define the function to be used. The functions you define can have multiple arguments as well as default values.\n",
    "\n",
    "To define functions we use function. For example the following function adds 1 to the number it receives as an argument:\n",
    "```\n",
    "my_func <- function(x){\n",
    "    y <- x + 1\n",
    "    y\n",
    "}\n",
    "```\n",
    "The last value in the function, in this case that stored in y, gets returned.\n",
    "\n",
    "If you run the code above R does not show anything. This means you defined the function. You can test it out like this:\n",
    "```\n",
    "my_func(5)\n",
    "```"
   ]
  },
  {
   "cell_type": "code",
   "execution_count": null,
   "metadata": {},
   "outputs": [],
   "source": [
    "# Create function called `sum_n`\n",
    "sum_n <- function(n){\n",
    "  n <- 1:n\n",
    "  sum(n)\n",
    "}\n",
    "# Use the function to determine the sum of integers from 1 to 5000\n",
    "sum_n(5000)"
   ]
  },
  {
   "cell_type": "markdown",
   "metadata": {},
   "source": [
    "### Defining functions continued...\n",
    "\n",
    "We will make another function for this exercise. We will define a function altman_plot that takes two arguments x and y and plots the difference y-x in the y-axis against the sum x+y in the x-axis.\n",
    "\n",
    "You can define functions with as many variables as you want. For example, here we need at least two, x and y. The following function plots log transformed values:\n",
    "```\n",
    "log_plot <- function(x, y){\n",
    "    plot(log10(x), log10(y))\n",
    "}\n",
    "```\n",
    "This function does not return anything. It just makes a plot."
   ]
  },
  {
   "cell_type": "code",
   "execution_count": null,
   "metadata": {},
   "outputs": [],
   "source": [
    "# Create `altman_plot` \n",
    "altman_plot <- function(x, y){\n",
    "  plot(x+y, y-x)\n",
    "}"
   ]
  },
  {
   "cell_type": "markdown",
   "metadata": {},
   "source": [
    "### Lexical scope\n",
    "\n",
    "Lexical scoping is a convention used by many languages that determine when an object is available by its name. When you run the code below you will see which x is available when.\n",
    "```\n",
    "x <- 8\n",
    "my_func <- function(y){\n",
    "    x <- 9\n",
    "    print(x)\n",
    "    y + x\n",
    "}\n",
    "my_func(x)\n",
    "print(x)\n",
    "```\n",
    "Note that when we define x as 9, this is inside the function, but it is 8 after you run the function. The x changed inside the function but not outside."
   ]
  },
  {
   "cell_type": "code",
   "execution_count": null,
   "metadata": {},
   "outputs": [],
   "source": [
    "# Run this code \n",
    "x <- 3\n",
    "    my_func <- function(y){\n",
    "    x <- 5\n",
    "    y+5\n",
    "}\n",
    "\n",
    "# Print value of x \n",
    "print(x)"
   ]
  },
  {
   "cell_type": "markdown",
   "metadata": {},
   "source": [
    "### for loops\n",
    "\n",
    "In the next exercise we are going to write a for-loop. In that for-loop we are going to call a function. We define that function here.\n",
    "\n",
    "Write a function compute_s_n that for any given $n$ computes the sum $S_n=1^2+2^2+3^2+⋯+n^2$\n",
    "\n",
    "Report the value of the sum when n=10."
   ]
  },
  {
   "cell_type": "code",
   "execution_count": null,
   "metadata": {},
   "outputs": [],
   "source": [
    "# Here is an example of function that adds numbers from 1 to n\n",
    "example_func <- function(n){\n",
    "    x <- 1:n\n",
    "    sum(x)\n",
    "}\n",
    "\n",
    "# Here is the sum of the first 100 numbers\n",
    "example_func(100)\n",
    "\n",
    "# Write a function compute_s_n that with argument n and returns of 1 + 2^2 + ...+ n^2\n",
    "compute_s_n <- function(n){\n",
    "  x <- 1:n\n",
    "  sum(x^2)\n",
    "}\n",
    "# Report the value of the sum when n=10\n",
    "compute_s_n(10)"
   ]
  },
  {
   "cell_type": "markdown",
   "metadata": {},
   "source": [
    "### For loops continued...\n",
    "\n",
    "Now we are going to compute the sum of the squares for several values of n\n",
    "\n",
    ". We will use a for-loop for this. Here is an example of a for-loop:\n",
    "```\n",
    "results <- vector(\"numeric\", 10)\n",
    "n <- 10\n",
    "for(i in 1:n){\n",
    "    x <- 1:i\n",
    "    results[i] <- sum(x)\n",
    "}\n",
    "```\n",
    "Note that we start with a call to vector which constructs an empty vector that we will fill while the loop runs."
   ]
  },
  {
   "cell_type": "code",
   "execution_count": null,
   "metadata": {},
   "outputs": [],
   "source": [
    "# Define a function and store it in `compute_s_n`\n",
    "compute_s_n <- function(n){\n",
    "  x <- 1:n\n",
    "  sum(x^2)\n",
    "}\n",
    "\n",
    "# Create a vector for storing results\n",
    "s_n <- vector(\"numeric\", 25)\n",
    "\n",
    "# write a for-loop to store the results in s_n\n",
    "for(i in 1:25){\n",
    "  s_n[i] <- compute_s_n(i)\n",
    "}"
   ]
  },
  {
   "cell_type": "markdown",
   "metadata": {},
   "source": [
    "### Checking our math\n",
    "\n",
    "If we do the math, we can show that $S_n = 1^2+2^2+3^2+⋯+n^2 = n(n+1)(2n+1)/6$\n",
    "\n",
    "We have already computed the values of $S_n$ from 1 to 25 using a for loop.\n",
    "\n",
    "If the formula is correct then a plot of $S_n$ versus n should look cubic. Let's make this plot."
   ]
  },
  {
   "cell_type": "code",
   "execution_count": null,
   "metadata": {},
   "outputs": [],
   "source": [
    "# Define the function\n",
    "compute_s_n <- function(n){\n",
    "  x <- 1:n\n",
    "  sum(x^2)\n",
    "}\n",
    "\n",
    "# Define the vector of n\n",
    "n <- 1:25\n",
    "\n",
    "# Define the vector to store data\n",
    "s_n <- vector(\"numeric\", 25)\n",
    "for(i in n){\n",
    "  s_n[i] <- compute_s_n(i)\n",
    "}\n",
    "\n",
    "#  Create the plot \n",
    "plot(n, s_n)"
   ]
  },
  {
   "cell_type": "markdown",
   "metadata": {},
   "source": [
    "### Checking our math continued\n",
    "\n",
    "Now let's actually check if we get the exact same answer.\n",
    "\n",
    "    Confirm that s_n and n(n+1)(2n+1)/6\n",
    "\n",
    "are the same using the identical command."
   ]
  },
  {
   "cell_type": "code",
   "execution_count": null,
   "metadata": {},
   "outputs": [],
   "source": [
    "# Define the function\n",
    "compute_s_n <- function(n){\n",
    "  x <- 1:n\n",
    "  sum(x^2)\n",
    "}\n",
    "\n",
    "# Define the vector of n\n",
    "n <- 1:25\n",
    "\n",
    "# Define the vector to store data\n",
    "s_n <- vector(\"numeric\", 25)\n",
    "for(i in n){\n",
    "  s_n[i] <- compute_s_n(i)\n",
    "}\n",
    "\n",
    "# Check that s_n is identical to the formula given in the instructions.\n",
    "identical(s_n, n*(n+1)*(2*n+1)/6)"
   ]
  },
  {
   "cell_type": "code",
   "execution_count": null,
   "metadata": {},
   "outputs": [],
   "source": [
    "print(\"DONE!\")"
   ]
  }
 ],
 "metadata": {
  "kernelspec": {
   "display_name": "R",
   "language": "R",
   "name": "ir"
  },
  "language_info": {
   "codemirror_mode": "r",
   "file_extension": ".r",
   "mimetype": "text/x-r-source",
   "name": "R",
   "pygments_lexer": "r",
   "version": "3.5.1"
  }
 },
 "nbformat": 4,
 "nbformat_minor": 2
}

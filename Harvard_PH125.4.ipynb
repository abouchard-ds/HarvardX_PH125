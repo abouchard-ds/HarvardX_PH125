{
 "cells": [
  {
   "cell_type": "markdown",
   "metadata": {},
   "source": [
    "# HarvardX: PH125.4x \n",
    "## Data Science: Inference and Modeling\n",
    "\n"
   ]
  },
  {
   "cell_type": "markdown",
   "metadata": {},
   "source": [
    "# Section 1 Parameters and estimates\n",
    "\n",
    "Exercise 1. Polling - expected value of S\n",
    "\n",
    "Suppose you poll a population in which a proportion p of voters are Democrats and 1−p are Republicans. Your sample size is N=25. Consider the random variable S, which is the total number of Democrats in your sample.\n",
    "\n",
    "What is the expected value of this random variable S?"
   ]
  },
  {
   "cell_type": "code",
   "execution_count": 1,
   "metadata": {},
   "outputs": [],
   "source": [
    "# 2- E(S)=25p"
   ]
  },
  {
   "cell_type": "markdown",
   "metadata": {},
   "source": [
    "Exercise 2. Polling - standard error of S\n",
    "\n",
    "Again, consider the random variable S\n",
    ", which is the total number of Democrats in your sample of 25 voters. The variable p describes the proportion of Democrats in the sample, whereas 1−p\n",
    "\n",
    "describes the proportion of Republicans.\n",
    "\n",
    "What is the standard error of S\n",
    "?"
   ]
  },
  {
   "cell_type": "code",
   "execution_count": null,
   "metadata": {},
   "outputs": [],
   "source": [
    "# 3- SE(S)=25p(1−p)−−−−−−−−√"
   ]
  },
  {
   "cell_type": "markdown",
   "metadata": {},
   "source": [
    "Exercise 3. Polling - expected value of X-bar\n",
    "\n",
    "Consider the random variable S/N\n",
    ", which is equivalent to the sample average that we have been denoting as X¯. The variable N represents the sample size and p\n",
    "\n",
    "is the proportion of Democrats in the population.\n",
    "\n",
    "What is the expected value of X¯\n",
    "?"
   ]
  },
  {
   "cell_type": "code",
   "execution_count": null,
   "metadata": {},
   "outputs": [],
   "source": [
    "# 1- E(X¯)=p"
   ]
  },
  {
   "cell_type": "markdown",
   "metadata": {},
   "source": [
    "Exercise 4. Polling - standard error of X-bar\n",
    "\n",
    "What is the standard error of the sample average, X¯\n",
    "\n",
    "?\n",
    "\n",
    "The variable N\n",
    "represents the sample size and p is the proportion of Democrats in the population."
   ]
  },
  {
   "cell_type": "code",
   "execution_count": null,
   "metadata": {},
   "outputs": [],
   "source": [
    "# 2- E(X¯)=p(1−p)/N−−−−−−−−−√"
   ]
  },
  {
   "cell_type": "markdown",
   "metadata": {},
   "source": [
    "#### Exercise 5"
   ]
  },
  {
   "cell_type": "code",
   "execution_count": null,
   "metadata": {},
   "outputs": [],
   "source": [
    "# `N` represents the number of people polled\n",
    "N <- 25\n",
    "\n",
    "# Create a variable `p` that contains 100 proportions ranging from 0 to 1 using the `seq` function\n",
    "p <- seq(0, 1, length = 100)\n",
    "\n",
    "# Create a variable `se` that contains the standard error of each sample average\n",
    "se <- sqrt(p*(1-p)/N)\n",
    "\n",
    "# Plot `p` on the x-axis and `se` on the y-axis\n",
    "plot(p, se)"
   ]
  },
  {
   "cell_type": "markdown",
   "metadata": {},
   "source": [
    "#### Exercise 6"
   ]
  },
  {
   "cell_type": "code",
   "execution_count": null,
   "metadata": {},
   "outputs": [],
   "source": [
    "# The vector `p` contains 100 proportions of Democrats ranging from 0 to 1 using the `seq` function\n",
    "p <- seq(0, 1, length = 100)\n",
    "\n",
    "# The vector `sample_sizes` contains the three sample sizes\n",
    "sample_sizes <- c(25, 100, 1000)\n",
    "\n",
    "# Write a for-loop that calculates the standard error `se` for every value of `p` for each of the three samples \n",
    "# sizes `N` in the vector `sample_sizes`. Plot the three graphs, using the `ylim` argument to standardize the y-axis across all three plots.\n",
    "for(samples in sample_sizes){\n",
    "  se <- sqrt(p*(1-p)/samples)\n",
    "  plot(p,se,ylim=c(0, 0.1))\n",
    "}"
   ]
  },
  {
   "cell_type": "markdown",
   "metadata": {},
   "source": [
    "#### Exercise 7. Expected value of d\n",
    "Our estimate for the difference in proportions of Democrats and Republicans is d=X¯−(1−X¯)\n",
    "\n",
    "Which derivation correctly uses the rules we learned about sums of random variables and scaled random variables to derive the expected value of d\n",
    "?"
   ]
  },
  {
   "cell_type": "code",
   "execution_count": null,
   "metadata": {},
   "outputs": [],
   "source": [
    "# 4"
   ]
  },
  {
   "cell_type": "markdown",
   "metadata": {},
   "source": [
    "#### Exercise 8. Standard error of d\n",
    "\n",
    "Our estimate for the difference in proportions of Democrats and Republicans is d=X¯−(1−X¯)\n",
    "\n",
    "Which derivation correctly uses the rules we learned about sums of random variables and scaled random variables to derive the standard error of d\n",
    "?"
   ]
  },
  {
   "cell_type": "code",
   "execution_count": null,
   "metadata": {},
   "outputs": [],
   "source": [
    "# 3"
   ]
  },
  {
   "cell_type": "markdown",
   "metadata": {},
   "source": [
    "#### Exercise 9. Standard error of the spread\n",
    "\n",
    "Say the actual proportion of Democratic voters is p=0.45\n",
    ". In this case, the Republican party is winning by a relatively large margin of d=−0.1, or a 10% margin of victory. What is the standard error of the spread 2X¯−1 in this case?\n"
   ]
  },
  {
   "cell_type": "code",
   "execution_count": null,
   "metadata": {},
   "outputs": [],
   "source": [
    "# `N` represents the number of people polled\n",
    "N <- 25\n",
    "\n",
    "# `p` represents the proportion of Democratic voters\n",
    "p <- 0.45\n",
    "\n",
    "# Calculate the standard error of the spread. Print this value to the console.\n",
    "2 * sqrt(p * (1 - p) / N) "
   ]
  },
  {
   "cell_type": "markdown",
   "metadata": {},
   "source": [
    "#### Exercise 10. Sample size\n",
    "\n",
    "So far we have said that the difference between the proportion of Democratic voters and Republican voters is about 10% and that the standard error of this spread is about 0.2 when N=25\n",
    ". Select the statement that explains why this sample size is sufficient or not."
   ]
  },
  {
   "cell_type": "code",
   "execution_count": null,
   "metadata": {},
   "outputs": [],
   "source": [
    "# 2"
   ]
  },
  {
   "cell_type": "markdown",
   "metadata": {},
   "source": [
    "# Section 2: The Central Limit Theorem in Practice \n",
    "\n",
    "#### Exercise 1. Sample average\n",
    "\n",
    "Write function called take_sample that takes the proportion of Democrats p and the sample size N\n",
    "\n",
    "as arguments and returns the sample average of Democrats (1) and Republicans (0).\n",
    "\n",
    "Calculate the sample average if the proportion of Democrats equals 0.45 and the sample size is 100."
   ]
  },
  {
   "cell_type": "code",
   "execution_count": null,
   "metadata": {},
   "outputs": [],
   "source": [
    "# Write a function called `take_sample` that takes `p` and `N` as arguements and returns the average value of a randomly sampled population.\n",
    "take_sample <- function(p, N){\n",
    "  mean(sample(0:1, N, replace=T, prob=c(1-p,p)))\n",
    "}\n",
    "           \n",
    "# Use the `set.seed` function to make sure your answer matches the expected result after random sampling\n",
    "set.seed(1)\n",
    "\n",
    "# Define `p` as the proportion of Democrats in the population being polled\n",
    "p <- 0.45\n",
    "\n",
    "# Define `N` as the number of people polled\n",
    "N <- 100\n",
    "\n",
    "# Call the `take_sample` function to determine the sample average of `N` randomly selected people from a population containing a proportion of Democrats equal to `p`. Print this value to the console.\n",
    "take_sample(p,N)\n"
   ]
  },
  {
   "cell_type": "markdown",
   "metadata": {},
   "source": [
    "#### Exercise 2. Distribution of errors - 1\n",
    "\n",
    "Assume the proportion of Democrats in the population p\n",
    "equals 0.45 and that your sample size N is 100 polled voters. The take_sample function you defined previously generates our estimate, X¯\n",
    "\n",
    ".\n",
    "\n",
    "Replicate the random sampling 10,000 times and calculate p−X¯\n",
    "for each random sample. Save these differences as a vector called errors. Find the average of errors and plot a histogram of the distribution.\n",
    "\n",
    "https://www.rdocumentation.org/packages/Rpdb/versions/2.2/topics/replicate"
   ]
  },
  {
   "cell_type": "code",
   "execution_count": null,
   "metadata": {},
   "outputs": [],
   "source": [
    "# Define `p` as the proportion of Democrats in the population being polled\n",
    "p <- 0.45\n",
    "\n",
    "# Define `N` as the number of people polled\n",
    "N <- 100\n",
    "\n",
    "# The variable `B` specifies the number of times we want the sample to be replicated\n",
    "B <- 10000\n",
    "\n",
    "# Use the `set.seed` function to make sure your answer matches the expected result after random sampling\n",
    "set.seed(1)\n",
    "\n",
    "# Create an objected called `errors` that replicates subtracting the result of the `take_sample` function from `p` for `B` replications\n",
    "errors <- replicate(B, {p - take_sample(p,N)})\n",
    "\n",
    "# Calculate the mean of the errors. Print this value to the console.\n",
    "mean(errors)"
   ]
  },
  {
   "cell_type": "markdown",
   "metadata": {},
   "source": [
    "#### Exercise 3. Distribution of errors - 2\n",
    "\n",
    "In the last exercise, you made a vector of differences between the actual value for p\n",
    "and an estimate, X¯\n",
    "\n",
    ". We called these differences between the actual and estimated values errors.\n",
    "\n",
    "The errors object has already been loaded for you. Use the hist function to plot a histogram of the values contained in the vector errors. Which statement best describes the distribution of the errors?\n"
   ]
  },
  {
   "cell_type": "code",
   "execution_count": null,
   "metadata": {},
   "outputs": [],
   "source": [
    "hist(errors)\n",
    "3"
   ]
  },
  {
   "cell_type": "markdown",
   "metadata": {},
   "source": [
    "#### Exercise 4. Average size of error\n",
    "\n",
    "The error p−X¯\n",
    "is a random variable. In practice, the error is not observed because we do not know the actual proportion of Democratic voters, p\n",
    "\n",
    ". However, we can describe the size of the error by constructing a simulation.\n",
    "\n",
    "What is the average size of the error if we define the size by taking the absolute value ∣p−X¯∣\n",
    "?\n"
   ]
  },
  {
   "cell_type": "code",
   "execution_count": null,
   "metadata": {},
   "outputs": [],
   "source": [
    "# Define `p` as the proportion of Democrats in the population being polled\n",
    "p <- 0.45\n",
    "\n",
    "# Define `N` as the number of people polled\n",
    "N <- 100\n",
    "\n",
    "# The variable `B` specifies the number of times we want the sample to be replicated\n",
    "B <- 10000\n",
    "\n",
    "# Use the `set.seed` function to make sure your answer matches the expected result after random sampling\n",
    "set.seed(1)\n",
    "\n",
    "# We generated `errors` by subtracting the estimate from the actual proportion of Democratic voters\n",
    "errors <- replicate(B, p - take_sample(p, N))\n",
    "\n",
    "# Calculate the mean of the absolute value of each simulated error. Print this value to the console.\n",
    "mean(abs(errors))"
   ]
  },
  {
   "cell_type": "markdown",
   "metadata": {},
   "source": [
    "#### Exercise 5. Standard deviation of the spread\n",
    "\n",
    "The standard error is related to the typical size of the error we make when predicting. We say size because, as we just saw, the errors are centered around 0. In that sense, the typical error is 0. For mathematical reasons related to the central limit theorem, we actually use the standard deviation of errors rather than the average of the absolute values.\n",
    "\n",
    "As we have discussed, the standard error is the square root of the average squared distance (X¯−p)2\n",
    "\n",
    ". The standard deviation is defined as the square root of the distance squared.\n",
    "\n",
    "Calculate the standard deviation of the spread."
   ]
  },
  {
   "cell_type": "code",
   "execution_count": null,
   "metadata": {},
   "outputs": [],
   "source": [
    "# Define `p` as the proportion of Democrats in the population being polled\n",
    "p <- 0.45\n",
    "\n",
    "# Define `N` as the number of people polled\n",
    "N <- 100\n",
    "\n",
    "# The variable `B` specifies the number of times we want the sample to be replicated\n",
    "B <- 10000\n",
    "\n",
    "# Use the `set.seed` function to make sure your answer matches the expected result after random sampling\n",
    "set.seed(1)\n",
    "\n",
    "# We generated `errors` by subtracting the estimate from the actual proportion of Democratic voters\n",
    "errors <- replicate(B, p - take_sample(p, N))\n",
    "\n",
    "# Calculate the standard deviation of `errors`\n",
    "sqrt(mean(errors^2))"
   ]
  },
  {
   "cell_type": "markdown",
   "metadata": {},
   "source": [
    "#### Exercise 6. Estimating the standard error\n",
    "\n",
    "The theory we just learned tells us what this standard deviation is going to be because it is the standard error of X¯\n",
    "\n",
    ".\n",
    "\n",
    "Estimate the standard error given an expected value of 0.45 and a sample size of 100."
   ]
  },
  {
   "cell_type": "code",
   "execution_count": null,
   "metadata": {},
   "outputs": [],
   "source": [
    "# Define `p` as the expected value equal to 0.45\n",
    "p <- 0.45\n",
    "\n",
    "# Define `N` as the sample size\n",
    "N <- 100\n",
    "\n",
    "# Calculate the standard error\n",
    "sqrt(p*(1-p)/N)"
   ]
  },
  {
   "cell_type": "markdown",
   "metadata": {},
   "source": [
    "dddd"
   ]
  },
  {
   "cell_type": "code",
   "execution_count": null,
   "metadata": {},
   "outputs": [],
   "source": [
    "# Define `p` as a proportion of Democratic voters to simulate\n",
    "p <- 0.45\n",
    "\n",
    "# Define `N` as the sample size\n",
    "N <- 100\n",
    "\n",
    "# Use the `set.seed` function to make sure your answer matches the expected result after random sampling\n",
    "set.seed(1)\n",
    "\n",
    "# Define `X` as a random sample of `N` voters with a probability of picking a Democrat ('1') equal to `p`\n",
    "X <- sample(0:1, N, replace=T, p=c(1-p,p))\n",
    "\n",
    "# Define `X_bar` as the average sampled proportion\n",
    "X_bar <- mean(X)\n",
    "\n",
    "# Calculate the standard error of the estimate. Print the result to the console.\n",
    "sqrt(X_bar*(1-X_bar)/N)"
   ]
  },
  {
   "cell_type": "markdown",
   "metadata": {},
   "source": [
    "#### Exercise 8. Plotting the standard error\n",
    "\n",
    "The standard error estimates obtained from the Monte Carlo simulation, the theoretical prediction, and the estimate of the theoretical prediction are all very close, which tells us that the theory is working. This gives us a practical approach to knowing the typical error we will make if we predict p\n",
    "with X^. The theoretical result gives us an idea of how large a sample size is required to obtain the precision we need. Earlier we learned that the largest standard errors occur for p=0.5\n",
    "\n",
    ".\n",
    "\n",
    "Create a plot of the largest standard error for N\n",
    "\n",
    "ranging from 100 to 5,000. Based on this plot, how large does the sample size have to be to have a standard error of about 1%?\n",
    "\n",
    "N <- seq(100, 5000, len = 100)\n",
    "p <- 0.5\n",
    "se <- sqrt(p*(1-p)/N)\n"
   ]
  },
  {
   "cell_type": "code",
   "execution_count": null,
   "metadata": {},
   "outputs": [],
   "source": [
    "plot(N,se)\n",
    "3"
   ]
  },
  {
   "cell_type": "markdown",
   "metadata": {},
   "source": [
    "#### Exercise 9. Distribution of X-hat\n",
    "\n",
    "For N=100\n",
    ", the central limit theorem tells us that the distribution of X^ is..."
   ]
  },
  {
   "cell_type": "code",
   "execution_count": null,
   "metadata": {},
   "outputs": [],
   "source": [
    "# 2"
   ]
  },
  {
   "cell_type": "markdown",
   "metadata": {},
   "source": [
    "#### Exercise 10. Distribution of the errors\n",
    "\n",
    "We calculated a vector errors that contained, for each simulated sample, the difference between the actual value p\n",
    "and our estimate X^\n",
    "\n",
    ".\n",
    "\n",
    "The errors X¯−p\n",
    "are:"
   ]
  },
  {
   "cell_type": "code",
   "execution_count": null,
   "metadata": {},
   "outputs": [],
   "source": [
    "# 2"
   ]
  },
  {
   "cell_type": "markdown",
   "metadata": {},
   "source": [
    "#### Exercise 11. Plotting the errors\n",
    "\n",
    "Make a qq-plot of the errors you generated previously to see if they follow a normal distribution."
   ]
  },
  {
   "cell_type": "code",
   "execution_count": null,
   "metadata": {},
   "outputs": [],
   "source": [
    "# Define `p` as the proportion of Democrats in the population being polled\n",
    "p <- 0.45\n",
    "\n",
    "# Define `N` as the number of people polled\n",
    "N <- 100\n",
    "\n",
    "# The variable `B` specifies the number of times we want the sample to be replicated\n",
    "B <- 10000\n",
    "\n",
    "# Use the `set.seed` function to make sure your answer matches the expected result after random sampling\n",
    "set.seed(1)\n",
    "\n",
    "# Generate `errors` by subtracting the estimate from the actual proportion of Democratic voters\n",
    "errors <- replicate(B, p - take_sample(p, N))\n",
    "\n",
    "# Generate a qq-plot of `errors` with a qq-line showing a normal distribution\n",
    "qqnorm(errors)\n",
    "qqline(errors)"
   ]
  },
  {
   "cell_type": "markdown",
   "metadata": {},
   "source": [
    "#### Exercise 12. Estimating the probability of a specific value of X-bar\n",
    "\n",
    "If p=0.45\n",
    "and N=100, use the central limit theorem to estimate the probability that X¯>0.5."
   ]
  },
  {
   "cell_type": "code",
   "execution_count": null,
   "metadata": {},
   "outputs": [],
   "source": [
    "# Define `p` as the proportion of Democrats in the population being polled\n",
    "p <- 0.45\n",
    "\n",
    "# Define `N` as the number of people polled\n",
    "N <- 100\n",
    "\n",
    "# Calculate the probability that the estimated proportion of Democrats in the population is greater than 0.5. Print this value to the console.\n",
    "1-pnorm(0.5, mean = p, sd=(sqrt(p*(1-p)/N)))"
   ]
  },
  {
   "cell_type": "markdown",
   "metadata": {},
   "source": [
    "#### Exercise 13. Estimating the probability of a specific error size\n",
    "\n",
    "Assume you are in a practical situation and you don't know p\n",
    ". Take a sample of size N=100 and obtain a sample average of X¯=0.51\n",
    "\n",
    ".\n",
    "\n",
    "What is the CLT approximation for the probability that your error is equal or larger than 0.01?"
   ]
  },
  {
   "cell_type": "code",
   "execution_count": null,
   "metadata": {},
   "outputs": [],
   "source": [
    "# Define `N` as the number of people polled\n",
    "N <-100\n",
    "\n",
    "# Define `X_hat` as the sample average\n",
    "X_hat <- 0.51\n",
    "\n",
    "# Define `se_hat` as the standard error of the sample average\n",
    "se_hat <- sqrt(X_hat*(1-X_hat)/N)\n",
    "\n",
    "# Calculate the probability that the error is 0.01 or larger\n",
    "1 - pnorm(.01, 0, se_hat) + pnorm(-0.01, 0, se_hat)"
   ]
  },
  {
   "cell_type": "markdown",
   "metadata": {},
   "source": [
    "# Section 3 Confidence intervals and p-Values\n",
    "\n",
    "#### Exercise 1. Confidence interval for p\n",
    "\n",
    "For the following exercises, we will use actual poll data from the 2016 election. The exercises will contain pre-loaded data from the dslabs package.\n",
    "\n",
    "library(dslabs)\n",
    "data(\"polls_us_election_2016\")\n",
    "\n",
    "We will use all the national polls that ended within a few weeks before the election.\n",
    "\n",
    "Assume there are only two candidates and construct a 95% confidence interval for the election night proportion p\n",
    "."
   ]
  },
  {
   "cell_type": "code",
   "execution_count": null,
   "metadata": {},
   "outputs": [],
   "source": [
    "# Load the data\n",
    "data(polls_us_election_2016)\n",
    "\n",
    "# Generate an object `polls` that contains data filtered for polls that ended on or after October 31, 2016 in the United States\n",
    "polls <- filter(polls_us_election_2016, enddate >= \"2016-10-31\" & state == \"U.S.\")\n",
    "\n",
    "# How many rows does `polls` contain? Print this value to the console.\n",
    "nrow(polls)\n",
    "\n",
    "# Assign the sample size of the first poll in `polls` to a variable called `N`. Print this value to the console.\n",
    "N <- head(polls$samplesize,1)\n",
    "N\n",
    "\n",
    "# For the first poll in `polls`, assign the estimated percentage of Clinton voters to a variable called `X_hat`. Print this value to the console.\n",
    "X_hat <- (head(polls$rawpoll_clinton,1)/100)\n",
    "X_hat\n",
    "\n",
    "# Calculate the standard error of `X_hat` and save it to a variable called `se_hat`. Print this value to the console.\n",
    "se_hat <- sqrt(X_hat*(1-X_hat)/N)\n",
    "se_hat\n",
    "\n",
    "# Use `qnorm` to calculate the 95% confidence interval for the proportion of Clinton voters. Save the lower and then the upper confidence interval to a variable called `ci`.\n",
    "qnorm(0.975)\n",
    "ci <- c(X_hat - qnorm(0.975)*se_hat, X_hat + qnorm(0.975)*se_hat)"
   ]
  },
  {
   "cell_type": "markdown",
   "metadata": {},
   "source": [
    "#### Exercise 2. Pollster results for p\n",
    "\n",
    "Create a new object called pollster_results that contains the pollster's name, the end date of the poll, the proportion of voters who declared a vote for Clinton, the standard error of this estimate, and the lower and upper bounds of the confidence interval for the estimate."
   ]
  },
  {
   "cell_type": "code",
   "execution_count": null,
   "metadata": {},
   "outputs": [],
   "source": [
    "# The `polls` object that filtered all the data by date and nation has already been loaded. Examine it using the `head` function.\n",
    "head(polls)\n",
    "\n",
    "# Create a new object called `pollster_results` that contains columns for pollster name, end date, X_hat, lower confidence interval, and upper confidence interval for each poll.\n",
    "polls <- mutate(polls, X_hat = polls$rawpoll_clinton/100, se_hat = sqrt(X_hat*(1-X_hat)/polls$samplesize), lower = X_hat - qnorm(0.975)*se_hat, upper = X_hat + qnorm(0.975)*se_hat)\n",
    "pollster_results <- select(polls, pollster, enddate, X_hat, se_hat, lower, upper)"
   ]
  },
  {
   "cell_type": "markdown",
   "metadata": {},
   "source": [
    "#### Exercise 3. Comparing to actual results - p\n",
    "\n",
    "The final tally for the popular vote was Clinton 48.2% and Trump 46.1%. Add a column called hit to pollster_results that states if the confidence interval included the true proportion p=0.482\n",
    "or not. What proportion of confidence intervals included p?"
   ]
  },
  {
   "cell_type": "code",
   "execution_count": null,
   "metadata": {},
   "outputs": [],
   "source": [
    "# The `pollster_results` object has already been loaded. Examine it using the `head` function.\n",
    "head(pollster_results)\n",
    "\n",
    "# Add a logical variable called `hit` that indicates whether the actual value exists within the confidence interval of each poll. Summarize the average `hit` result to determine the proportion of polls with confidence intervals include the actual value. Save the result as an object called `avg_hit`.\n",
    "avg_hit <- pollster_results %>% mutate(hit=(lower<0.482 & upper>0.482)) %>% summarize(mean(hit))\n",
    "avg_hit"
   ]
  },
  {
   "cell_type": "markdown",
   "metadata": {},
   "source": [
    "#### Exercise 5. Confidence interval for d\n",
    "\n",
    "A much smaller proportion of the polls than expected produce confidence intervals containing p\n",
    ". Notice that most polls that fail to include p\n",
    "\n",
    "are underestimating. The rationale for this is that undecided voters historically divide evenly between the two main candidates on election day.\n",
    "\n",
    "In this case, it is more informative to estimate the spread or the difference between the proportion of two candidates d\n",
    ", or 0.482−0.461=0.021\n",
    "\n",
    "for this election.\n",
    "\n",
    "Assume that there are only two parties and that d=2p−1\n",
    ". Construct a 95% confidence interval for difference in proportions on election night."
   ]
  },
  {
   "cell_type": "code",
   "execution_count": 4,
   "metadata": {},
   "outputs": [
    {
     "data": {
      "text/html": [
       "2220"
      ],
      "text/latex": [
       "2220"
      ],
      "text/markdown": [
       "2220"
      ],
      "text/plain": [
       "[1] 2220"
      ]
     },
     "metadata": {},
     "output_type": "display_data"
    },
    {
     "data": {
      "text/html": [
       "<table>\n",
       "<thead><tr><th scope=col>state</th><th scope=col>startdate</th><th scope=col>enddate</th><th scope=col>pollster</th><th scope=col>grade</th><th scope=col>samplesize</th><th scope=col>population</th><th scope=col>rawpoll_clinton</th><th scope=col>rawpoll_trump</th><th scope=col>rawpoll_johnson</th><th scope=col>rawpoll_mcmullin</th><th scope=col>adjpoll_clinton</th><th scope=col>adjpoll_trump</th><th scope=col>adjpoll_johnson</th><th scope=col>adjpoll_mcmullin</th><th scope=col>d_hat</th></tr></thead>\n",
       "<tbody>\n",
       "\t<tr><td>U.S.                                                      </td><td>2016-11-03                                                </td><td>2016-11-06                                                </td><td>ABC News/Washington Post                                  </td><td>A+                                                        </td><td> 2220                                                     </td><td>lv                                                        </td><td>47.00                                                     </td><td>43.00                                                     </td><td>4.00                                                      </td><td>NA                                                        </td><td>45.20163                                                  </td><td>41.72430                                                  </td><td>4.626221                                                  </td><td>NA                                                        </td><td>-0.0400                                                   </td></tr>\n",
       "\t<tr><td>U.S.                                                      </td><td>2016-11-01                                                </td><td>2016-11-07                                                </td><td>Google Consumer Surveys                                   </td><td>B                                                         </td><td>26574                                                     </td><td>lv                                                        </td><td>38.03                                                     </td><td>35.69                                                     </td><td>5.46                                                      </td><td>NA                                                        </td><td>43.34557                                                  </td><td>41.21439                                                  </td><td>5.175792                                                  </td><td>NA                                                        </td><td>-0.0234                                                   </td></tr>\n",
       "\t<tr><td>U.S.                                                      </td><td>2016-11-02                                                </td><td>2016-11-06                                                </td><td>Ipsos                                                     </td><td>A-                                                        </td><td> 2195                                                     </td><td>lv                                                        </td><td>42.00                                                     </td><td>39.00                                                     </td><td>6.00                                                      </td><td>NA                                                        </td><td>42.02638                                                  </td><td>38.81620                                                  </td><td>6.844734                                                  </td><td>NA                                                        </td><td>-0.0300                                                   </td></tr>\n",
       "\t<tr><td>U.S.                                                      </td><td>2016-11-04                                                </td><td>2016-11-07                                                </td><td>YouGov                                                    </td><td>B                                                         </td><td> 3677                                                     </td><td>lv                                                        </td><td>45.00                                                     </td><td>41.00                                                     </td><td>5.00                                                      </td><td>NA                                                        </td><td>45.65676                                                  </td><td>40.92004                                                  </td><td>6.069454                                                  </td><td>NA                                                        </td><td>-0.0400                                                   </td></tr>\n",
       "\t<tr><td>U.S.                                                      </td><td>2016-11-03                                                </td><td>2016-11-06                                                </td><td>Gravis Marketing                                          </td><td>B-                                                        </td><td>16639                                                     </td><td>rv                                                        </td><td>47.00                                                     </td><td>43.00                                                     </td><td>3.00                                                      </td><td>NA                                                        </td><td>46.84089                                                  </td><td>42.33184                                                  </td><td>3.726098                                                  </td><td>NA                                                        </td><td>-0.0400                                                   </td></tr>\n",
       "\t<tr><td>U.S.                                                          </td><td>2016-11-03                                                    </td><td>2016-11-06                                                    </td><td>Fox News/Anderson Robbins Research/Shaw &amp; Company Research</td><td>A                                                             </td><td> 1295                                                         </td><td>lv                                                            </td><td>48.00                                                         </td><td>44.00                                                         </td><td>3.00                                                          </td><td>NA                                                            </td><td>49.02208                                                      </td><td>43.95631                                                      </td><td>3.057876                                                      </td><td>NA                                                            </td><td>-0.0400                                                       </td></tr>\n",
       "\t<tr><td>U.S.                                                      </td><td>2016-11-02                                                </td><td>2016-11-06                                                </td><td>CBS News/New York Times                                   </td><td>A-                                                        </td><td> 1426                                                     </td><td>lv                                                        </td><td>45.00                                                     </td><td>41.00                                                     </td><td>5.00                                                      </td><td>NA                                                        </td><td>45.11649                                                  </td><td>40.92722                                                  </td><td>4.341786                                                  </td><td>NA                                                        </td><td>-0.0400                                                   </td></tr>\n",
       "\t<tr><td>U.S.                                                      </td><td>2016-11-03                                                </td><td>2016-11-05                                                </td><td>NBC News/Wall Street Journal                              </td><td>A-                                                        </td><td> 1282                                                     </td><td>lv                                                        </td><td>44.00                                                     </td><td>40.00                                                     </td><td>6.00                                                      </td><td>NA                                                        </td><td>43.58576                                                  </td><td>40.77325                                                  </td><td>5.365788                                                  </td><td>NA                                                        </td><td>-0.0400                                                   </td></tr>\n",
       "\t<tr><td>U.S.                                                      </td><td>2016-11-04                                                </td><td>2016-11-07                                                </td><td>IBD/TIPP                                                  </td><td>A-                                                        </td><td> 1107                                                     </td><td>lv                                                        </td><td>41.20                                                     </td><td>42.70                                                     </td><td>7.10                                                      </td><td>NA                                                        </td><td>42.92745                                                  </td><td>42.23545                                                  </td><td>6.316175                                                  </td><td>NA                                                        </td><td> 0.0150                                                   </td></tr>\n",
       "\t<tr><td>U.S.                                                                                                  </td><td>2016-11-04                                                                                            </td><td>2016-11-06                                                                                            </td><td><span style=white-space:pre-wrap>Selzer &amp; Company                                          </span></td><td>A+                                                                                                    </td><td><span style=white-space:pre-wrap>  799</span>                                                         </td><td>lv                                                                                                    </td><td>44.00                                                                                                 </td><td>41.00                                                                                                 </td><td>4.00                                                                                                  </td><td>NA                                                                                                    </td><td>44.21714                                                                                              </td><td>40.57082                                                                                              </td><td>4.068708                                                                                              </td><td>NA                                                                                                    </td><td>-0.0300                                                                                               </td></tr>\n",
       "\t<tr><td>U.S.                                                      </td><td>2016-11-01                                                </td><td>2016-11-04                                                </td><td>Angus Reid Global                                         </td><td>A-                                                        </td><td> 1151                                                     </td><td>lv                                                        </td><td>48.00                                                     </td><td>44.00                                                     </td><td>6.00                                                      </td><td>NA                                                        </td><td>47.57171                                                  </td><td>43.68125                                                  </td><td>5.556625                                                  </td><td>NA                                                        </td><td>-0.0400                                                   </td></tr>\n",
       "\t<tr><td>U.S.                                                      </td><td>2016-11-03                                                </td><td>2016-11-06                                                </td><td>Monmouth University                                       </td><td>A+                                                        </td><td>  748                                                     </td><td>lv                                                        </td><td>50.00                                                     </td><td>44.00                                                     </td><td>4.00                                                      </td><td>NA                                                        </td><td>48.86765                                                  </td><td>43.39600                                                  </td><td>4.838600                                                  </td><td>NA                                                        </td><td>-0.0600                                                   </td></tr>\n",
       "\t<tr><td>U.S.                                                      </td><td>2016-11-01                                                </td><td>2016-11-03                                                </td><td>Marist College                                            </td><td>A                                                         </td><td>  940                                                     </td><td>lv                                                        </td><td>44.00                                                     </td><td>43.00                                                     </td><td>6.00                                                      </td><td>NA                                                        </td><td>42.83406                                                  </td><td>43.43819                                                  </td><td>4.780429                                                  </td><td>NA                                                        </td><td>-0.0100                                                   </td></tr>\n",
       "\t<tr><td>U.S.                                                      </td><td>2016-11-05                                                </td><td>2016-11-07                                                </td><td>The Times-Picayune/Lucid                                  </td><td>NA                                                        </td><td> 2521                                                     </td><td>lv                                                        </td><td>45.00                                                     </td><td>40.00                                                     </td><td>5.00                                                      </td><td>NA                                                        </td><td>45.13966                                                  </td><td>42.26495                                                  </td><td>3.679914                                                  </td><td>NA                                                        </td><td>-0.0500                                                   </td></tr>\n",
       "\t<tr><td>U.S.                                                      </td><td>2016-11-01                                                </td><td>2016-11-07                                                </td><td>USC Dornsife/LA Times                                     </td><td>NA                                                        </td><td> 2972                                                     </td><td>lv                                                        </td><td>43.61                                                     </td><td>46.84                                                     </td><td>  NA                                                      </td><td>NA                                                        </td><td>45.32156                                                  </td><td>43.38579                                                  </td><td>      NA                                                  </td><td>NA                                                        </td><td> 0.0323                                                   </td></tr>\n",
       "\t<tr><td>U.S.                                                      </td><td>2016-11-01                                                </td><td>2016-11-05                                                </td><td>RKM Research and Communications, Inc.                     </td><td>B+                                                        </td><td> 1009                                                     </td><td>lv                                                        </td><td>47.60                                                     </td><td>44.40                                                     </td><td>4.30                                                      </td><td>NA                                                        </td><td>47.63973                                                  </td><td>43.16080                                                  </td><td>4.761112                                                  </td><td>NA                                                        </td><td>-0.0320                                                   </td></tr>\n",
       "\t<tr><td>U.S.                                                      </td><td>2016-10-31                                                </td><td>2016-11-06                                                </td><td>CVOTER International                                      </td><td>C+                                                        </td><td> 1625                                                     </td><td>lv                                                        </td><td>48.91                                                     </td><td>46.13                                                     </td><td>  NA                                                      </td><td>NA                                                        </td><td>47.01806                                                  </td><td>42.04561                                                  </td><td>      NA                                                  </td><td>NA                                                        </td><td>-0.0278                                                   </td></tr>\n",
       "\t<tr><td>U.S.                                                      </td><td>2016-11-04                                                </td><td>2016-11-05                                                </td><td>Morning Consult                                           </td><td>NA                                                        </td><td> 1482                                                     </td><td>lv                                                        </td><td>45.00                                                     </td><td>42.00                                                     </td><td>8.00                                                      </td><td>NA                                                        </td><td>46.28310                                                  </td><td>43.27167                                                  </td><td>6.904304                                                  </td><td>NA                                                        </td><td>-0.0300                                                   </td></tr>\n",
       "\t<tr><td>U.S.                                                      </td><td>2016-10-31                                                </td><td>2016-11-06                                                </td><td>SurveyMonkey                                              </td><td>C-                                                        </td><td>70194                                                     </td><td>lv                                                        </td><td>47.00                                                     </td><td>41.00                                                     </td><td>6.00                                                      </td><td>NA                                                        </td><td>45.65592                                                  </td><td>40.37888                                                  </td><td>3.677361                                                  </td><td>NA                                                        </td><td>-0.0600                                                   </td></tr>\n",
       "\t<tr><td>U.S.                                                      </td><td>2016-11-02                                                </td><td>2016-11-06                                                </td><td>Rasmussen Reports/Pulse Opinion Research                  </td><td>C+                                                        </td><td> 1500                                                     </td><td>lv                                                        </td><td>45.00                                                     </td><td>43.00                                                     </td><td>4.00                                                      </td><td>NA                                                        </td><td>45.56041                                                  </td><td>43.13745                                                  </td><td>4.418502                                                  </td><td>NA                                                        </td><td>-0.0200                                                   </td></tr>\n",
       "\t<tr><td>U.S.                                                      </td><td>2016-11-04                                                </td><td>2016-11-07                                                </td><td>Insights West                                             </td><td>NA                                                        </td><td>  940                                                     </td><td>lv                                                        </td><td>49.00                                                     </td><td>45.00                                                     </td><td>4.00                                                      </td><td>NA                                                        </td><td>49.14547                                                  </td><td>45.12675                                                  </td><td>4.253578                                                  </td><td>NA                                                        </td><td>-0.0400                                                   </td></tr>\n",
       "\t<tr><td>U.S.                                                      </td><td>2016-10-20                                                </td><td>2016-11-01                                                </td><td>RAND (American Life Panel)                                </td><td>B-                                                        </td><td> 2269                                                     </td><td>lv                                                        </td><td>43.70                                                     </td><td>34.60                                                     </td><td>7.70                                                      </td><td>NA                                                        </td><td>43.13676                                                  </td><td>38.24491                                                  </td><td>5.957800                                                  </td><td>NA                                                        </td><td>-0.0910                                                   </td></tr>\n",
       "\t<tr><td>U.S.                                                          </td><td>2016-11-01                                                    </td><td>2016-11-03                                                    </td><td>Fox News/Anderson Robbins Research/Shaw &amp; Company Research</td><td>A                                                             </td><td> 1107                                                         </td><td>lv                                                            </td><td>45.50                                                         </td><td>44.00                                                         </td><td>5.00                                                          </td><td>NA                                                            </td><td>46.70731                                                      </td><td>44.14856                                                      </td><td>4.979693                                                      </td><td>NA                                                            </td><td>-0.0150                                                       </td></tr>\n",
       "\t<tr><td>U.S.                                                      </td><td>2016-10-28                                                </td><td>2016-11-01                                                </td><td>CBS News/New York Times                                   </td><td>A-                                                        </td><td>  927                                                     </td><td>lv                                                        </td><td>45.00                                                     </td><td>42.00                                                     </td><td>5.00                                                      </td><td>NA                                                        </td><td>45.23948                                                  </td><td>42.55291                                                  </td><td>3.928672                                                  </td><td>NA                                                        </td><td>-0.0300                                                   </td></tr>\n",
       "\t<tr><td>U.S.                                                      </td><td>2016-11-02                                                </td><td>2016-11-05                                                </td><td>ABC News/Washington Post                                  </td><td>A+                                                        </td><td> 1937                                                     </td><td>lv                                                        </td><td>47.00                                                     </td><td>43.00                                                     </td><td>4.00                                                      </td><td>NA                                                        </td><td>45.28374                                                  </td><td>41.76419                                                  </td><td>4.635295                                                  </td><td>NA                                                        </td><td>-0.0400                                                   </td></tr>\n",
       "\t<tr><td>U.S.                                                      </td><td>2016-10-31                                                </td><td>2016-11-04                                                </td><td>Ipsos                                                     </td><td>A-                                                        </td><td> 2244                                                     </td><td>lv                                                        </td><td>43.00                                                     </td><td>39.00                                                     </td><td>6.00                                                      </td><td>NA                                                        </td><td>43.12950                                                  </td><td>38.96855                                                  </td><td>6.757478                                                  </td><td>NA                                                        </td><td>-0.0400                                                   </td></tr>\n",
       "\t<tr><td>U.S.                                                      </td><td>2016-11-01                                                </td><td>2016-11-04                                                </td><td>ABC News/Washington Post                                  </td><td>A+                                                        </td><td> 1685                                                     </td><td>lv                                                        </td><td>48.00                                                     </td><td>43.00                                                     </td><td>4.00                                                      </td><td>NA                                                        </td><td>46.34620                                                  </td><td>41.81491                                                  </td><td>4.620226                                                  </td><td>NA                                                        </td><td>-0.0500                                                   </td></tr>\n",
       "\t<tr><td>U.S.                                                      </td><td>2016-10-04                                                </td><td>2016-11-06                                                </td><td>YouGov                                                    </td><td>B                                                         </td><td>84292                                                     </td><td>lv                                                        </td><td>42.90                                                     </td><td>39.00                                                     </td><td>4.70                                                      </td><td>NA                                                        </td><td>43.74084                                                  </td><td>41.38541                                                  </td><td>4.411561                                                  </td><td>NA                                                        </td><td>-0.0390                                                   </td></tr>\n",
       "\t<tr><td>U.S.                                                      </td><td>2016-11-03                                                </td><td>2016-11-06                                                </td><td>IBD/TIPP                                                  </td><td>A-                                                        </td><td> 1026                                                     </td><td>lv                                                        </td><td>40.70                                                     </td><td>43.10                                                     </td><td>6.30                                                      </td><td>NA                                                        </td><td>42.51610                                                  </td><td>42.67482                                                  </td><td>5.607142                                                  </td><td>NA                                                        </td><td> 0.0240                                                   </td></tr>\n",
       "\t<tr><td>U.S.                                                      </td><td>2016-10-31                                                </td><td>2016-11-03                                                </td><td>ABC News/Washington Post                                  </td><td>A+                                                        </td><td> 1419                                                     </td><td>lv                                                        </td><td>47.00                                                     </td><td>43.00                                                     </td><td>4.00                                                      </td><td>NA                                                        </td><td>45.38686                                                  </td><td>41.91655                                                  </td><td>4.548039                                                  </td><td>NA                                                        </td><td>-0.0400                                                   </td></tr>\n",
       "\t<tr><td>...</td><td>...</td><td>...</td><td>...</td><td>...</td><td>...</td><td>...</td><td>...</td><td>...</td><td>...</td><td>...</td><td>...</td><td>...</td><td>...</td><td>...</td><td>...</td></tr>\n",
       "\t<tr><td>U.S.                                    </td><td>2016-11-01                              </td><td>2016-11-03                              </td><td>Rasmussen Reports/Pulse Opinion Research</td><td>C+                                      </td><td> 1500                                   </td><td>lv                                      </td><td>44.00                                   </td><td>44.00                                   </td><td>4.00                                    </td><td>NA                                      </td><td>44.66353                                </td><td>44.28981                                </td><td>4.331246                                </td><td>NA                                      </td><td> 0.0000                                 </td></tr>\n",
       "\t<tr><td>U.S.                                    </td><td>2016-11-04                              </td><td>2016-11-06                              </td><td>The Times-Picayune/Lucid                </td><td>NA                                      </td><td> 2584                                   </td><td>lv                                      </td><td>45.00                                   </td><td>40.00                                   </td><td>5.00                                    </td><td>NA                                      </td><td>45.22830                                </td><td>42.30433                                </td><td>3.770880                                </td><td>NA                                      </td><td>-0.0500                                 </td></tr>\n",
       "\t<tr><td>U.S.                                    </td><td>2016-10-28                              </td><td>2016-11-01                              </td><td>Ipsos                                   </td><td>A-                                      </td><td> 1772                                   </td><td>lv                                      </td><td>44.70                                   </td><td>37.40                                   </td><td>5.30                                    </td><td>NA                                      </td><td>44.84936                                </td><td>37.84188                                </td><td>5.731620                                </td><td>NA                                      </td><td>-0.0730                                 </td></tr>\n",
       "\t<tr><td>U.S.                                    </td><td>2016-10-29                              </td><td>2016-11-02                              </td><td>IBD/TIPP                                </td><td>A-                                      </td><td>  867                                   </td><td>lv                                      </td><td>44.00                                   </td><td>44.10                                   </td><td>3.90                                    </td><td>NA                                      </td><td>46.01937                                </td><td>44.14133                                </td><td>2.935885                                </td><td>NA                                      </td><td> 0.0010                                 </td></tr>\n",
       "\t<tr><td>U.S.                                    </td><td>2016-10-28                              </td><td>2016-11-01                              </td><td>IBD/TIPP                                </td><td>A-                                      </td><td>  862                                   </td><td>lv                                      </td><td>44.00                                   </td><td>44.40                                   </td><td>4.10                                    </td><td>NA                                      </td><td>46.02119                                </td><td>44.64041                                </td><td>3.003101                                </td><td>NA                                      </td><td> 0.0040                                 </td></tr>\n",
       "\t<tr><td>U.S.                                    </td><td>2016-10-31                              </td><td>2016-11-02                              </td><td>Rasmussen Reports/Pulse Opinion Research</td><td>C+                                      </td><td> 1500                                   </td><td>lv                                      </td><td>42.00                                   </td><td>45.00                                   </td><td>4.00                                    </td><td>NA                                      </td><td>42.67626                                </td><td>45.41689                                </td><td>4.239500                                </td><td>NA                                      </td><td> 0.0300                                 </td></tr>\n",
       "\t<tr><td>U.S.                                    </td><td>2016-10-27                              </td><td>2016-10-31                              </td><td>Ipsos                                   </td><td>A-                                      </td><td> 1464                                   </td><td>lv                                      </td><td>44.00                                   </td><td>37.20                                   </td><td>5.90                                    </td><td>NA                                      </td><td>44.14389                                </td><td>37.86409                                </td><td>6.197528                                </td><td>NA                                      </td><td>-0.0680                                 </td></tr>\n",
       "\t<tr><td>U.S.                                    </td><td>2016-11-03                              </td><td>2016-11-05                              </td><td>The Times-Picayune/Lucid                </td><td>NA                                      </td><td> 2526                                   </td><td>lv                                      </td><td>45.00                                   </td><td>40.00                                   </td><td>5.00                                    </td><td>NA                                      </td><td>45.31041                                </td><td>42.34422                                </td><td>3.779955                                </td><td>NA                                      </td><td>-0.0500                                 </td></tr>\n",
       "\t<tr><td>U.S.                                    </td><td>2016-10-27                              </td><td>2016-10-31                              </td><td>Rasmussen Reports/Pulse Opinion Research</td><td>C+                                      </td><td> 1500                                   </td><td>lv                                      </td><td>44.00                                   </td><td>44.00                                   </td><td>5.00                                    </td><td>NA                                      </td><td>44.67792                                </td><td>44.98535                                </td><td>4.871296                                </td><td>NA                                      </td><td> 0.0000                                 </td></tr>\n",
       "\t<tr><td>U.S.                                    </td><td>2016-10-25                              </td><td>2016-10-31                              </td><td>Google Consumer Surveys                 </td><td>B                                       </td><td>24316                                   </td><td>lv                                      </td><td>37.69                                   </td><td>35.07                                   </td><td>6.18                                    </td><td>NA                                      </td><td>43.11401                                </td><td>41.64819                                </td><td>5.238244                                </td><td>NA                                      </td><td>-0.0262                                 </td></tr>\n",
       "\t<tr><td>U.S.                                    </td><td>2016-10-30                              </td><td>2016-11-05                              </td><td>CVOTER International                    </td><td>C+                                      </td><td> 1572                                   </td><td>lv                                      </td><td>49.25                                   </td><td>45.92                                   </td><td>  NA                                    </td><td>NA                                      </td><td>47.36662                                </td><td>41.90514                                </td><td>      NA                                </td><td>NA                                      </td><td>-0.0333                                 </td></tr>\n",
       "\t<tr><td>U.S.                                    </td><td>2016-10-30                              </td><td>2016-11-01                              </td><td>Rasmussen Reports/Pulse Opinion Research</td><td>C+                                      </td><td> 1500                                   </td><td>lv                                      </td><td>44.00                                   </td><td>44.00                                   </td><td>5.00                                    </td><td>NA                                      </td><td>44.68157                                </td><td>44.56407                                </td><td>5.138172                                </td><td>NA                                      </td><td> 0.0000                                 </td></tr>\n",
       "\t<tr><td>U.S.                                    </td><td>2016-10-29                              </td><td>2016-11-04                              </td><td>CVOTER International                    </td><td>C+                                      </td><td> 1479                                   </td><td>lv                                      </td><td>49.06                                   </td><td>47.82                                   </td><td>  NA                                    </td><td>NA                                      </td><td>47.15442                                </td><td>43.89729                                </td><td>      NA                                </td><td>NA                                      </td><td>-0.0124                                 </td></tr>\n",
       "\t<tr><td>U.S.                                    </td><td>2016-11-02                              </td><td>2016-11-04                              </td><td>The Times-Picayune/Lucid                </td><td>NA                                      </td><td> 2561                                   </td><td>lv                                      </td><td>45.00                                   </td><td>39.00                                   </td><td>5.00                                    </td><td>NA                                      </td><td>45.37288                                </td><td>41.39494                                </td><td>3.764886                                </td><td>NA                                      </td><td>-0.0600                                 </td></tr>\n",
       "\t<tr><td>U.S.                                    </td><td>2016-10-31                              </td><td>2016-11-06                              </td><td>USC Dornsife/LA Times                   </td><td>NA                                      </td><td> 2935                                   </td><td>lv                                      </td><td>43.23                                   </td><td>47.98                                   </td><td>  NA                                    </td><td>NA                                      </td><td>44.98547                                </td><td>44.55796                                </td><td>      NA                                </td><td>NA                                      </td><td> 0.0475                                 </td></tr>\n",
       "\t<tr><td>U.S.                                    </td><td>2016-10-28                              </td><td>2016-11-03                              </td><td>CVOTER International                    </td><td>C+                                      </td><td> 1395                                   </td><td>lv                                      </td><td>48.53                                   </td><td>48.44                                   </td><td>  NA                                    </td><td>NA                                      </td><td>46.59161                                </td><td>44.62636                                </td><td>      NA                                </td><td>NA                                      </td><td>-0.0009                                 </td></tr>\n",
       "\t<tr><td>U.S.                                    </td><td>2016-11-01                              </td><td>2016-11-03                              </td><td>The Times-Picayune/Lucid                </td><td>NA                                      </td><td> 2627                                   </td><td>lv                                      </td><td>44.00                                   </td><td>39.00                                   </td><td>6.00                                    </td><td>NA                                      </td><td>44.41354                                </td><td>41.49658                                </td><td>4.692698                                </td><td>NA                                      </td><td>-0.0500                                 </td></tr>\n",
       "\t<tr><td>U.S.                                    </td><td>2016-10-30                              </td><td>2016-11-05                              </td><td>USC Dornsife/LA Times                   </td><td>NA                                      </td><td> 2988                                   </td><td>lv                                      </td><td>42.63                                   </td><td>48.16                                   </td><td>  NA                                    </td><td>NA                                      </td><td>44.39404                                </td><td>44.80749                                </td><td>      NA                                </td><td>NA                                      </td><td> 0.0553                                 </td></tr>\n",
       "\t<tr><td>U.S.                                    </td><td>2016-10-27                              </td><td>2016-11-02                              </td><td>CVOTER International                    </td><td>C+                                      </td><td> 1329                                   </td><td>lv                                      </td><td>48.78                                   </td><td>48.22                                   </td><td>  NA                                    </td><td>NA                                      </td><td>46.79931                                </td><td>44.56131                                </td><td>      NA                                </td><td>NA                                      </td><td>-0.0056                                 </td></tr>\n",
       "\t<tr><td>U.S.                                    </td><td>2016-10-29                              </td><td>2016-11-04                              </td><td>USC Dornsife/LA Times                   </td><td>NA                                      </td><td> 2987                                   </td><td>lv                                      </td><td>42.56                                   </td><td>47.96                                   </td><td>  NA                                    </td><td>NA                                      </td><td>44.30183                                </td><td>44.69964                                </td><td>      NA                                </td><td>NA                                      </td><td> 0.0540                                 </td></tr>\n",
       "\t<tr><td>U.S.                                    </td><td>2016-10-26                              </td><td>2016-11-01                              </td><td>CVOTER International                    </td><td>C+                                      </td><td> 1383                                   </td><td>lv                                      </td><td>48.81                                   </td><td>48.14                                   </td><td>  NA                                    </td><td>NA                                      </td><td>46.77929                                </td><td>44.65897                                </td><td>      NA                                </td><td>NA                                      </td><td>-0.0067                                 </td></tr>\n",
       "\t<tr><td>U.S.                                    </td><td>2016-10-31                              </td><td>2016-11-02                              </td><td>The Times-Picayune/Lucid                </td><td>NA                                      </td><td> 2620                                   </td><td>lv                                      </td><td>44.00                                   </td><td>39.00                                   </td><td>6.00                                    </td><td>NA                                      </td><td>44.42627                                </td><td>41.62366                                </td><td>4.600952                                </td><td>NA                                      </td><td>-0.0500                                 </td></tr>\n",
       "\t<tr><td>U.S.                                    </td><td>2016-10-31                              </td><td>2016-10-31                              </td><td>Gravis Marketing                        </td><td>B-                                      </td><td> 5360                                   </td><td>rv                                      </td><td>46.00                                   </td><td>45.00                                   </td><td>4.00                                    </td><td>NA                                      </td><td>46.04416                                </td><td>44.79836                                </td><td>4.454841                                </td><td>NA                                      </td><td>-0.0100                                 </td></tr>\n",
       "\t<tr><td>U.S.                                    </td><td>2016-10-28                              </td><td>2016-11-03                              </td><td>USC Dornsife/LA Times                   </td><td>NA                                      </td><td> 2962                                   </td><td>lv                                      </td><td>43.38                                   </td><td>46.89                                   </td><td>  NA                                    </td><td>NA                                      </td><td>45.08903                                </td><td>43.73871                                </td><td>      NA                                </td><td>NA                                      </td><td> 0.0351                                 </td></tr>\n",
       "\t<tr><td>U.S.                                    </td><td>2016-10-30                              </td><td>2016-11-01                              </td><td>The Times-Picayune/Lucid                </td><td>NA                                      </td><td> 2617                                   </td><td>lv                                      </td><td>43.00                                   </td><td>40.00                                   </td><td>6.00                                    </td><td>NA                                      </td><td>43.43158                                </td><td>42.77084                                </td><td>4.499624                                </td><td>NA                                      </td><td>-0.0300                                 </td></tr>\n",
       "\t<tr><td>U.S.                                    </td><td>2016-10-27                              </td><td>2016-11-02                              </td><td>USC Dornsife/LA Times                   </td><td>NA                                      </td><td> 2938                                   </td><td>lv                                      </td><td>42.47                                   </td><td>47.50                                   </td><td>  NA                                    </td><td>NA                                      </td><td>44.13673                                </td><td>44.50366                                </td><td>      NA                                </td><td>NA                                      </td><td> 0.0503                                 </td></tr>\n",
       "\t<tr><td>U.S.                                    </td><td>2016-11-01                              </td><td>2016-11-02                              </td><td>Gravis Marketing                        </td><td>B-                                      </td><td> 2435                                   </td><td>rv                                      </td><td>47.00                                   </td><td>45.00                                   </td><td>3.00                                    </td><td>NA                                      </td><td>47.02612                                </td><td>44.52409                                </td><td>3.647916                                </td><td>NA                                      </td><td>-0.0200                                 </td></tr>\n",
       "\t<tr><td>U.S.                                    </td><td>2016-10-26                              </td><td>2016-11-01                              </td><td>USC Dornsife/LA Times                   </td><td>NA                                      </td><td> 3004                                   </td><td>lv                                      </td><td>42.36                                   </td><td>47.83                                   </td><td>  NA                                    </td><td>NA                                      </td><td>43.97671                                </td><td>45.01132                                </td><td>      NA                                </td><td>NA                                      </td><td> 0.0547                                 </td></tr>\n",
       "\t<tr><td>U.S.                                    </td><td>2016-10-29                              </td><td>2016-10-31                              </td><td>The Times-Picayune/Lucid                </td><td>NA                                      </td><td> 2600                                   </td><td>lv                                      </td><td>42.00                                   </td><td>40.00                                   </td><td>5.00                                    </td><td>NA                                      </td><td>42.43340                                </td><td>42.96991                                </td><td>3.366840                                </td><td>NA                                      </td><td>-0.0200                                 </td></tr>\n",
       "\t<tr><td>U.S.                                    </td><td>2016-10-25                              </td><td>2016-10-31                              </td><td>USC Dornsife/LA Times                   </td><td>NA                                      </td><td> 3145                                   </td><td>lv                                      </td><td>43.28                                   </td><td>46.90                                   </td><td>  NA                                    </td><td>NA                                      </td><td>44.84075                                </td><td>44.24033                                </td><td>      NA                                </td><td>NA                                      </td><td> 0.0362                                 </td></tr>\n",
       "</tbody>\n",
       "</table>\n"
      ],
      "text/latex": [
       "\\begin{tabular}{r|llllllllllllllll}\n",
       " state & startdate & enddate & pollster & grade & samplesize & population & rawpoll\\_clinton & rawpoll\\_trump & rawpoll\\_johnson & rawpoll\\_mcmullin & adjpoll\\_clinton & adjpoll\\_trump & adjpoll\\_johnson & adjpoll\\_mcmullin & d\\_hat\\\\\n",
       "\\hline\n",
       "\t U.S.                                                       & 2016-11-03                                                 & 2016-11-06                                                 & ABC News/Washington Post                                   & A+                                                         &  2220                                                      & lv                                                         & 47.00                                                      & 43.00                                                      & 4.00                                                       & NA                                                         & 45.20163                                                   & 41.72430                                                   & 4.626221                                                   & NA                                                         & -0.0400                                                   \\\\\n",
       "\t U.S.                                                       & 2016-11-01                                                 & 2016-11-07                                                 & Google Consumer Surveys                                    & B                                                          & 26574                                                      & lv                                                         & 38.03                                                      & 35.69                                                      & 5.46                                                       & NA                                                         & 43.34557                                                   & 41.21439                                                   & 5.175792                                                   & NA                                                         & -0.0234                                                   \\\\\n",
       "\t U.S.                                                       & 2016-11-02                                                 & 2016-11-06                                                 & Ipsos                                                      & A-                                                         &  2195                                                      & lv                                                         & 42.00                                                      & 39.00                                                      & 6.00                                                       & NA                                                         & 42.02638                                                   & 38.81620                                                   & 6.844734                                                   & NA                                                         & -0.0300                                                   \\\\\n",
       "\t U.S.                                                       & 2016-11-04                                                 & 2016-11-07                                                 & YouGov                                                     & B                                                          &  3677                                                      & lv                                                         & 45.00                                                      & 41.00                                                      & 5.00                                                       & NA                                                         & 45.65676                                                   & 40.92004                                                   & 6.069454                                                   & NA                                                         & -0.0400                                                   \\\\\n",
       "\t U.S.                                                       & 2016-11-03                                                 & 2016-11-06                                                 & Gravis Marketing                                           & B-                                                         & 16639                                                      & rv                                                         & 47.00                                                      & 43.00                                                      & 3.00                                                       & NA                                                         & 46.84089                                                   & 42.33184                                                   & 3.726098                                                   & NA                                                         & -0.0400                                                   \\\\\n",
       "\t U.S.                                                         & 2016-11-03                                                   & 2016-11-06                                                   & Fox News/Anderson Robbins Research/Shaw \\& Company Research & A                                                            &  1295                                                        & lv                                                           & 48.00                                                        & 44.00                                                        & 3.00                                                         & NA                                                           & 49.02208                                                     & 43.95631                                                     & 3.057876                                                     & NA                                                           & -0.0400                                                     \\\\\n",
       "\t U.S.                                                       & 2016-11-02                                                 & 2016-11-06                                                 & CBS News/New York Times                                    & A-                                                         &  1426                                                      & lv                                                         & 45.00                                                      & 41.00                                                      & 5.00                                                       & NA                                                         & 45.11649                                                   & 40.92722                                                   & 4.341786                                                   & NA                                                         & -0.0400                                                   \\\\\n",
       "\t U.S.                                                       & 2016-11-03                                                 & 2016-11-05                                                 & NBC News/Wall Street Journal                               & A-                                                         &  1282                                                      & lv                                                         & 44.00                                                      & 40.00                                                      & 6.00                                                       & NA                                                         & 43.58576                                                   & 40.77325                                                   & 5.365788                                                   & NA                                                         & -0.0400                                                   \\\\\n",
       "\t U.S.                                                       & 2016-11-04                                                 & 2016-11-07                                                 & IBD/TIPP                                                   & A-                                                         &  1107                                                      & lv                                                         & 41.20                                                      & 42.70                                                      & 7.10                                                       & NA                                                         & 42.92745                                                   & 42.23545                                                   & 6.316175                                                   & NA                                                         &  0.0150                                                   \\\\\n",
       "\t U.S.                                                         & 2016-11-04                                                   & 2016-11-06                                                   & Selzer \\& Company                                           & A+                                                           &   799                                                        & lv                                                           & 44.00                                                        & 41.00                                                        & 4.00                                                         & NA                                                           & 44.21714                                                     & 40.57082                                                     & 4.068708                                                     & NA                                                           & -0.0300                                                     \\\\\n",
       "\t U.S.                                                       & 2016-11-01                                                 & 2016-11-04                                                 & Angus Reid Global                                          & A-                                                         &  1151                                                      & lv                                                         & 48.00                                                      & 44.00                                                      & 6.00                                                       & NA                                                         & 47.57171                                                   & 43.68125                                                   & 5.556625                                                   & NA                                                         & -0.0400                                                   \\\\\n",
       "\t U.S.                                                       & 2016-11-03                                                 & 2016-11-06                                                 & Monmouth University                                        & A+                                                         &   748                                                      & lv                                                         & 50.00                                                      & 44.00                                                      & 4.00                                                       & NA                                                         & 48.86765                                                   & 43.39600                                                   & 4.838600                                                   & NA                                                         & -0.0600                                                   \\\\\n",
       "\t U.S.                                                       & 2016-11-01                                                 & 2016-11-03                                                 & Marist College                                             & A                                                          &   940                                                      & lv                                                         & 44.00                                                      & 43.00                                                      & 6.00                                                       & NA                                                         & 42.83406                                                   & 43.43819                                                   & 4.780429                                                   & NA                                                         & -0.0100                                                   \\\\\n",
       "\t U.S.                                                       & 2016-11-05                                                 & 2016-11-07                                                 & The Times-Picayune/Lucid                                   & NA                                                         &  2521                                                      & lv                                                         & 45.00                                                      & 40.00                                                      & 5.00                                                       & NA                                                         & 45.13966                                                   & 42.26495                                                   & 3.679914                                                   & NA                                                         & -0.0500                                                   \\\\\n",
       "\t U.S.                                                       & 2016-11-01                                                 & 2016-11-07                                                 & USC Dornsife/LA Times                                      & NA                                                         &  2972                                                      & lv                                                         & 43.61                                                      & 46.84                                                      &   NA                                                       & NA                                                         & 45.32156                                                   & 43.38579                                                   &       NA                                                   & NA                                                         &  0.0323                                                   \\\\\n",
       "\t U.S.                                                       & 2016-11-01                                                 & 2016-11-05                                                 & RKM Research and Communications, Inc.                      & B+                                                         &  1009                                                      & lv                                                         & 47.60                                                      & 44.40                                                      & 4.30                                                       & NA                                                         & 47.63973                                                   & 43.16080                                                   & 4.761112                                                   & NA                                                         & -0.0320                                                   \\\\\n",
       "\t U.S.                                                       & 2016-10-31                                                 & 2016-11-06                                                 & CVOTER International                                       & C+                                                         &  1625                                                      & lv                                                         & 48.91                                                      & 46.13                                                      &   NA                                                       & NA                                                         & 47.01806                                                   & 42.04561                                                   &       NA                                                   & NA                                                         & -0.0278                                                   \\\\\n",
       "\t U.S.                                                       & 2016-11-04                                                 & 2016-11-05                                                 & Morning Consult                                            & NA                                                         &  1482                                                      & lv                                                         & 45.00                                                      & 42.00                                                      & 8.00                                                       & NA                                                         & 46.28310                                                   & 43.27167                                                   & 6.904304                                                   & NA                                                         & -0.0300                                                   \\\\\n",
       "\t U.S.                                                       & 2016-10-31                                                 & 2016-11-06                                                 & SurveyMonkey                                               & C-                                                         & 70194                                                      & lv                                                         & 47.00                                                      & 41.00                                                      & 6.00                                                       & NA                                                         & 45.65592                                                   & 40.37888                                                   & 3.677361                                                   & NA                                                         & -0.0600                                                   \\\\\n",
       "\t U.S.                                                       & 2016-11-02                                                 & 2016-11-06                                                 & Rasmussen Reports/Pulse Opinion Research                   & C+                                                         &  1500                                                      & lv                                                         & 45.00                                                      & 43.00                                                      & 4.00                                                       & NA                                                         & 45.56041                                                   & 43.13745                                                   & 4.418502                                                   & NA                                                         & -0.0200                                                   \\\\\n",
       "\t U.S.                                                       & 2016-11-04                                                 & 2016-11-07                                                 & Insights West                                              & NA                                                         &   940                                                      & lv                                                         & 49.00                                                      & 45.00                                                      & 4.00                                                       & NA                                                         & 49.14547                                                   & 45.12675                                                   & 4.253578                                                   & NA                                                         & -0.0400                                                   \\\\\n",
       "\t U.S.                                                       & 2016-10-20                                                 & 2016-11-01                                                 & RAND (American Life Panel)                                 & B-                                                         &  2269                                                      & lv                                                         & 43.70                                                      & 34.60                                                      & 7.70                                                       & NA                                                         & 43.13676                                                   & 38.24491                                                   & 5.957800                                                   & NA                                                         & -0.0910                                                   \\\\\n",
       "\t U.S.                                                         & 2016-11-01                                                   & 2016-11-03                                                   & Fox News/Anderson Robbins Research/Shaw \\& Company Research & A                                                            &  1107                                                        & lv                                                           & 45.50                                                        & 44.00                                                        & 5.00                                                         & NA                                                           & 46.70731                                                     & 44.14856                                                     & 4.979693                                                     & NA                                                           & -0.0150                                                     \\\\\n",
       "\t U.S.                                                       & 2016-10-28                                                 & 2016-11-01                                                 & CBS News/New York Times                                    & A-                                                         &   927                                                      & lv                                                         & 45.00                                                      & 42.00                                                      & 5.00                                                       & NA                                                         & 45.23948                                                   & 42.55291                                                   & 3.928672                                                   & NA                                                         & -0.0300                                                   \\\\\n",
       "\t U.S.                                                       & 2016-11-02                                                 & 2016-11-05                                                 & ABC News/Washington Post                                   & A+                                                         &  1937                                                      & lv                                                         & 47.00                                                      & 43.00                                                      & 4.00                                                       & NA                                                         & 45.28374                                                   & 41.76419                                                   & 4.635295                                                   & NA                                                         & -0.0400                                                   \\\\\n",
       "\t U.S.                                                       & 2016-10-31                                                 & 2016-11-04                                                 & Ipsos                                                      & A-                                                         &  2244                                                      & lv                                                         & 43.00                                                      & 39.00                                                      & 6.00                                                       & NA                                                         & 43.12950                                                   & 38.96855                                                   & 6.757478                                                   & NA                                                         & -0.0400                                                   \\\\\n",
       "\t U.S.                                                       & 2016-11-01                                                 & 2016-11-04                                                 & ABC News/Washington Post                                   & A+                                                         &  1685                                                      & lv                                                         & 48.00                                                      & 43.00                                                      & 4.00                                                       & NA                                                         & 46.34620                                                   & 41.81491                                                   & 4.620226                                                   & NA                                                         & -0.0500                                                   \\\\\n",
       "\t U.S.                                                       & 2016-10-04                                                 & 2016-11-06                                                 & YouGov                                                     & B                                                          & 84292                                                      & lv                                                         & 42.90                                                      & 39.00                                                      & 4.70                                                       & NA                                                         & 43.74084                                                   & 41.38541                                                   & 4.411561                                                   & NA                                                         & -0.0390                                                   \\\\\n",
       "\t U.S.                                                       & 2016-11-03                                                 & 2016-11-06                                                 & IBD/TIPP                                                   & A-                                                         &  1026                                                      & lv                                                         & 40.70                                                      & 43.10                                                      & 6.30                                                       & NA                                                         & 42.51610                                                   & 42.67482                                                   & 5.607142                                                   & NA                                                         &  0.0240                                                   \\\\\n",
       "\t U.S.                                                       & 2016-10-31                                                 & 2016-11-03                                                 & ABC News/Washington Post                                   & A+                                                         &  1419                                                      & lv                                                         & 47.00                                                      & 43.00                                                      & 4.00                                                       & NA                                                         & 45.38686                                                   & 41.91655                                                   & 4.548039                                                   & NA                                                         & -0.0400                                                   \\\\\n",
       "\t ... & ... & ... & ... & ... & ... & ... & ... & ... & ... & ... & ... & ... & ... & ... & ...\\\\\n",
       "\t U.S.                                     & 2016-11-01                               & 2016-11-03                               & Rasmussen Reports/Pulse Opinion Research & C+                                       &  1500                                    & lv                                       & 44.00                                    & 44.00                                    & 4.00                                     & NA                                       & 44.66353                                 & 44.28981                                 & 4.331246                                 & NA                                       &  0.0000                                 \\\\\n",
       "\t U.S.                                     & 2016-11-04                               & 2016-11-06                               & The Times-Picayune/Lucid                 & NA                                       &  2584                                    & lv                                       & 45.00                                    & 40.00                                    & 5.00                                     & NA                                       & 45.22830                                 & 42.30433                                 & 3.770880                                 & NA                                       & -0.0500                                 \\\\\n",
       "\t U.S.                                     & 2016-10-28                               & 2016-11-01                               & Ipsos                                    & A-                                       &  1772                                    & lv                                       & 44.70                                    & 37.40                                    & 5.30                                     & NA                                       & 44.84936                                 & 37.84188                                 & 5.731620                                 & NA                                       & -0.0730                                 \\\\\n",
       "\t U.S.                                     & 2016-10-29                               & 2016-11-02                               & IBD/TIPP                                 & A-                                       &   867                                    & lv                                       & 44.00                                    & 44.10                                    & 3.90                                     & NA                                       & 46.01937                                 & 44.14133                                 & 2.935885                                 & NA                                       &  0.0010                                 \\\\\n",
       "\t U.S.                                     & 2016-10-28                               & 2016-11-01                               & IBD/TIPP                                 & A-                                       &   862                                    & lv                                       & 44.00                                    & 44.40                                    & 4.10                                     & NA                                       & 46.02119                                 & 44.64041                                 & 3.003101                                 & NA                                       &  0.0040                                 \\\\\n",
       "\t U.S.                                     & 2016-10-31                               & 2016-11-02                               & Rasmussen Reports/Pulse Opinion Research & C+                                       &  1500                                    & lv                                       & 42.00                                    & 45.00                                    & 4.00                                     & NA                                       & 42.67626                                 & 45.41689                                 & 4.239500                                 & NA                                       &  0.0300                                 \\\\\n",
       "\t U.S.                                     & 2016-10-27                               & 2016-10-31                               & Ipsos                                    & A-                                       &  1464                                    & lv                                       & 44.00                                    & 37.20                                    & 5.90                                     & NA                                       & 44.14389                                 & 37.86409                                 & 6.197528                                 & NA                                       & -0.0680                                 \\\\\n",
       "\t U.S.                                     & 2016-11-03                               & 2016-11-05                               & The Times-Picayune/Lucid                 & NA                                       &  2526                                    & lv                                       & 45.00                                    & 40.00                                    & 5.00                                     & NA                                       & 45.31041                                 & 42.34422                                 & 3.779955                                 & NA                                       & -0.0500                                 \\\\\n",
       "\t U.S.                                     & 2016-10-27                               & 2016-10-31                               & Rasmussen Reports/Pulse Opinion Research & C+                                       &  1500                                    & lv                                       & 44.00                                    & 44.00                                    & 5.00                                     & NA                                       & 44.67792                                 & 44.98535                                 & 4.871296                                 & NA                                       &  0.0000                                 \\\\\n",
       "\t U.S.                                     & 2016-10-25                               & 2016-10-31                               & Google Consumer Surveys                  & B                                        & 24316                                    & lv                                       & 37.69                                    & 35.07                                    & 6.18                                     & NA                                       & 43.11401                                 & 41.64819                                 & 5.238244                                 & NA                                       & -0.0262                                 \\\\\n",
       "\t U.S.                                     & 2016-10-30                               & 2016-11-05                               & CVOTER International                     & C+                                       &  1572                                    & lv                                       & 49.25                                    & 45.92                                    &   NA                                     & NA                                       & 47.36662                                 & 41.90514                                 &       NA                                 & NA                                       & -0.0333                                 \\\\\n",
       "\t U.S.                                     & 2016-10-30                               & 2016-11-01                               & Rasmussen Reports/Pulse Opinion Research & C+                                       &  1500                                    & lv                                       & 44.00                                    & 44.00                                    & 5.00                                     & NA                                       & 44.68157                                 & 44.56407                                 & 5.138172                                 & NA                                       &  0.0000                                 \\\\\n",
       "\t U.S.                                     & 2016-10-29                               & 2016-11-04                               & CVOTER International                     & C+                                       &  1479                                    & lv                                       & 49.06                                    & 47.82                                    &   NA                                     & NA                                       & 47.15442                                 & 43.89729                                 &       NA                                 & NA                                       & -0.0124                                 \\\\\n",
       "\t U.S.                                     & 2016-11-02                               & 2016-11-04                               & The Times-Picayune/Lucid                 & NA                                       &  2561                                    & lv                                       & 45.00                                    & 39.00                                    & 5.00                                     & NA                                       & 45.37288                                 & 41.39494                                 & 3.764886                                 & NA                                       & -0.0600                                 \\\\\n",
       "\t U.S.                                     & 2016-10-31                               & 2016-11-06                               & USC Dornsife/LA Times                    & NA                                       &  2935                                    & lv                                       & 43.23                                    & 47.98                                    &   NA                                     & NA                                       & 44.98547                                 & 44.55796                                 &       NA                                 & NA                                       &  0.0475                                 \\\\\n",
       "\t U.S.                                     & 2016-10-28                               & 2016-11-03                               & CVOTER International                     & C+                                       &  1395                                    & lv                                       & 48.53                                    & 48.44                                    &   NA                                     & NA                                       & 46.59161                                 & 44.62636                                 &       NA                                 & NA                                       & -0.0009                                 \\\\\n",
       "\t U.S.                                     & 2016-11-01                               & 2016-11-03                               & The Times-Picayune/Lucid                 & NA                                       &  2627                                    & lv                                       & 44.00                                    & 39.00                                    & 6.00                                     & NA                                       & 44.41354                                 & 41.49658                                 & 4.692698                                 & NA                                       & -0.0500                                 \\\\\n",
       "\t U.S.                                     & 2016-10-30                               & 2016-11-05                               & USC Dornsife/LA Times                    & NA                                       &  2988                                    & lv                                       & 42.63                                    & 48.16                                    &   NA                                     & NA                                       & 44.39404                                 & 44.80749                                 &       NA                                 & NA                                       &  0.0553                                 \\\\\n",
       "\t U.S.                                     & 2016-10-27                               & 2016-11-02                               & CVOTER International                     & C+                                       &  1329                                    & lv                                       & 48.78                                    & 48.22                                    &   NA                                     & NA                                       & 46.79931                                 & 44.56131                                 &       NA                                 & NA                                       & -0.0056                                 \\\\\n",
       "\t U.S.                                     & 2016-10-29                               & 2016-11-04                               & USC Dornsife/LA Times                    & NA                                       &  2987                                    & lv                                       & 42.56                                    & 47.96                                    &   NA                                     & NA                                       & 44.30183                                 & 44.69964                                 &       NA                                 & NA                                       &  0.0540                                 \\\\\n",
       "\t U.S.                                     & 2016-10-26                               & 2016-11-01                               & CVOTER International                     & C+                                       &  1383                                    & lv                                       & 48.81                                    & 48.14                                    &   NA                                     & NA                                       & 46.77929                                 & 44.65897                                 &       NA                                 & NA                                       & -0.0067                                 \\\\\n",
       "\t U.S.                                     & 2016-10-31                               & 2016-11-02                               & The Times-Picayune/Lucid                 & NA                                       &  2620                                    & lv                                       & 44.00                                    & 39.00                                    & 6.00                                     & NA                                       & 44.42627                                 & 41.62366                                 & 4.600952                                 & NA                                       & -0.0500                                 \\\\\n",
       "\t U.S.                                     & 2016-10-31                               & 2016-10-31                               & Gravis Marketing                         & B-                                       &  5360                                    & rv                                       & 46.00                                    & 45.00                                    & 4.00                                     & NA                                       & 46.04416                                 & 44.79836                                 & 4.454841                                 & NA                                       & -0.0100                                 \\\\\n",
       "\t U.S.                                     & 2016-10-28                               & 2016-11-03                               & USC Dornsife/LA Times                    & NA                                       &  2962                                    & lv                                       & 43.38                                    & 46.89                                    &   NA                                     & NA                                       & 45.08903                                 & 43.73871                                 &       NA                                 & NA                                       &  0.0351                                 \\\\\n",
       "\t U.S.                                     & 2016-10-30                               & 2016-11-01                               & The Times-Picayune/Lucid                 & NA                                       &  2617                                    & lv                                       & 43.00                                    & 40.00                                    & 6.00                                     & NA                                       & 43.43158                                 & 42.77084                                 & 4.499624                                 & NA                                       & -0.0300                                 \\\\\n",
       "\t U.S.                                     & 2016-10-27                               & 2016-11-02                               & USC Dornsife/LA Times                    & NA                                       &  2938                                    & lv                                       & 42.47                                    & 47.50                                    &   NA                                     & NA                                       & 44.13673                                 & 44.50366                                 &       NA                                 & NA                                       &  0.0503                                 \\\\\n",
       "\t U.S.                                     & 2016-11-01                               & 2016-11-02                               & Gravis Marketing                         & B-                                       &  2435                                    & rv                                       & 47.00                                    & 45.00                                    & 3.00                                     & NA                                       & 47.02612                                 & 44.52409                                 & 3.647916                                 & NA                                       & -0.0200                                 \\\\\n",
       "\t U.S.                                     & 2016-10-26                               & 2016-11-01                               & USC Dornsife/LA Times                    & NA                                       &  3004                                    & lv                                       & 42.36                                    & 47.83                                    &   NA                                     & NA                                       & 43.97671                                 & 45.01132                                 &       NA                                 & NA                                       &  0.0547                                 \\\\\n",
       "\t U.S.                                     & 2016-10-29                               & 2016-10-31                               & The Times-Picayune/Lucid                 & NA                                       &  2600                                    & lv                                       & 42.00                                    & 40.00                                    & 5.00                                     & NA                                       & 42.43340                                 & 42.96991                                 & 3.366840                                 & NA                                       & -0.0200                                 \\\\\n",
       "\t U.S.                                     & 2016-10-25                               & 2016-10-31                               & USC Dornsife/LA Times                    & NA                                       &  3145                                    & lv                                       & 43.28                                    & 46.90                                    &   NA                                     & NA                                       & 44.84075                                 & 44.24033                                 &       NA                                 & NA                                       &  0.0362                                 \\\\\n",
       "\\end{tabular}\n"
      ],
      "text/markdown": [
       "\n",
       "state | startdate | enddate | pollster | grade | samplesize | population | rawpoll_clinton | rawpoll_trump | rawpoll_johnson | rawpoll_mcmullin | adjpoll_clinton | adjpoll_trump | adjpoll_johnson | adjpoll_mcmullin | d_hat | \n",
       "|---|---|---|---|---|---|---|---|---|---|---|---|---|---|---|---|---|---|---|---|---|---|---|---|---|---|---|---|---|---|---|---|---|---|---|---|---|---|---|---|---|---|---|---|---|---|---|---|---|---|---|---|---|---|---|---|---|---|---|---|---|\n",
       "| U.S.                                                       | 2016-11-03                                                 | 2016-11-06                                                 | ABC News/Washington Post                                   | A+                                                         |  2220                                                      | lv                                                         | 47.00                                                      | 43.00                                                      | 4.00                                                       | NA                                                         | 45.20163                                                   | 41.72430                                                   | 4.626221                                                   | NA                                                         | -0.0400                                                    | \n",
       "| U.S.                                                       | 2016-11-01                                                 | 2016-11-07                                                 | Google Consumer Surveys                                    | B                                                          | 26574                                                      | lv                                                         | 38.03                                                      | 35.69                                                      | 5.46                                                       | NA                                                         | 43.34557                                                   | 41.21439                                                   | 5.175792                                                   | NA                                                         | -0.0234                                                    | \n",
       "| U.S.                                                       | 2016-11-02                                                 | 2016-11-06                                                 | Ipsos                                                      | A-                                                         |  2195                                                      | lv                                                         | 42.00                                                      | 39.00                                                      | 6.00                                                       | NA                                                         | 42.02638                                                   | 38.81620                                                   | 6.844734                                                   | NA                                                         | -0.0300                                                    | \n",
       "| U.S.                                                       | 2016-11-04                                                 | 2016-11-07                                                 | YouGov                                                     | B                                                          |  3677                                                      | lv                                                         | 45.00                                                      | 41.00                                                      | 5.00                                                       | NA                                                         | 45.65676                                                   | 40.92004                                                   | 6.069454                                                   | NA                                                         | -0.0400                                                    | \n",
       "| U.S.                                                       | 2016-11-03                                                 | 2016-11-06                                                 | Gravis Marketing                                           | B-                                                         | 16639                                                      | rv                                                         | 47.00                                                      | 43.00                                                      | 3.00                                                       | NA                                                         | 46.84089                                                   | 42.33184                                                   | 3.726098                                                   | NA                                                         | -0.0400                                                    | \n",
       "| U.S.                                                       | 2016-11-03                                                 | 2016-11-06                                                 | Fox News/Anderson Robbins Research/Shaw & Company Research | A                                                          |  1295                                                      | lv                                                         | 48.00                                                      | 44.00                                                      | 3.00                                                       | NA                                                         | 49.02208                                                   | 43.95631                                                   | 3.057876                                                   | NA                                                         | -0.0400                                                    | \n",
       "| U.S.                                                       | 2016-11-02                                                 | 2016-11-06                                                 | CBS News/New York Times                                    | A-                                                         |  1426                                                      | lv                                                         | 45.00                                                      | 41.00                                                      | 5.00                                                       | NA                                                         | 45.11649                                                   | 40.92722                                                   | 4.341786                                                   | NA                                                         | -0.0400                                                    | \n",
       "| U.S.                                                       | 2016-11-03                                                 | 2016-11-05                                                 | NBC News/Wall Street Journal                               | A-                                                         |  1282                                                      | lv                                                         | 44.00                                                      | 40.00                                                      | 6.00                                                       | NA                                                         | 43.58576                                                   | 40.77325                                                   | 5.365788                                                   | NA                                                         | -0.0400                                                    | \n",
       "| U.S.                                                       | 2016-11-04                                                 | 2016-11-07                                                 | IBD/TIPP                                                   | A-                                                         |  1107                                                      | lv                                                         | 41.20                                                      | 42.70                                                      | 7.10                                                       | NA                                                         | 42.92745                                                   | 42.23545                                                   | 6.316175                                                   | NA                                                         |  0.0150                                                    | \n",
       "| U.S.                                                       | 2016-11-04                                                 | 2016-11-06                                                 | Selzer & Company                                           | A+                                                         |   799                                                      | lv                                                         | 44.00                                                      | 41.00                                                      | 4.00                                                       | NA                                                         | 44.21714                                                   | 40.57082                                                   | 4.068708                                                   | NA                                                         | -0.0300                                                    | \n",
       "| U.S.                                                       | 2016-11-01                                                 | 2016-11-04                                                 | Angus Reid Global                                          | A-                                                         |  1151                                                      | lv                                                         | 48.00                                                      | 44.00                                                      | 6.00                                                       | NA                                                         | 47.57171                                                   | 43.68125                                                   | 5.556625                                                   | NA                                                         | -0.0400                                                    | \n",
       "| U.S.                                                       | 2016-11-03                                                 | 2016-11-06                                                 | Monmouth University                                        | A+                                                         |   748                                                      | lv                                                         | 50.00                                                      | 44.00                                                      | 4.00                                                       | NA                                                         | 48.86765                                                   | 43.39600                                                   | 4.838600                                                   | NA                                                         | -0.0600                                                    | \n",
       "| U.S.                                                       | 2016-11-01                                                 | 2016-11-03                                                 | Marist College                                             | A                                                          |   940                                                      | lv                                                         | 44.00                                                      | 43.00                                                      | 6.00                                                       | NA                                                         | 42.83406                                                   | 43.43819                                                   | 4.780429                                                   | NA                                                         | -0.0100                                                    | \n",
       "| U.S.                                                       | 2016-11-05                                                 | 2016-11-07                                                 | The Times-Picayune/Lucid                                   | NA                                                         |  2521                                                      | lv                                                         | 45.00                                                      | 40.00                                                      | 5.00                                                       | NA                                                         | 45.13966                                                   | 42.26495                                                   | 3.679914                                                   | NA                                                         | -0.0500                                                    | \n",
       "| U.S.                                                       | 2016-11-01                                                 | 2016-11-07                                                 | USC Dornsife/LA Times                                      | NA                                                         |  2972                                                      | lv                                                         | 43.61                                                      | 46.84                                                      |   NA                                                       | NA                                                         | 45.32156                                                   | 43.38579                                                   |       NA                                                   | NA                                                         |  0.0323                                                    | \n",
       "| U.S.                                                       | 2016-11-01                                                 | 2016-11-05                                                 | RKM Research and Communications, Inc.                      | B+                                                         |  1009                                                      | lv                                                         | 47.60                                                      | 44.40                                                      | 4.30                                                       | NA                                                         | 47.63973                                                   | 43.16080                                                   | 4.761112                                                   | NA                                                         | -0.0320                                                    | \n",
       "| U.S.                                                       | 2016-10-31                                                 | 2016-11-06                                                 | CVOTER International                                       | C+                                                         |  1625                                                      | lv                                                         | 48.91                                                      | 46.13                                                      |   NA                                                       | NA                                                         | 47.01806                                                   | 42.04561                                                   |       NA                                                   | NA                                                         | -0.0278                                                    | \n",
       "| U.S.                                                       | 2016-11-04                                                 | 2016-11-05                                                 | Morning Consult                                            | NA                                                         |  1482                                                      | lv                                                         | 45.00                                                      | 42.00                                                      | 8.00                                                       | NA                                                         | 46.28310                                                   | 43.27167                                                   | 6.904304                                                   | NA                                                         | -0.0300                                                    | \n",
       "| U.S.                                                       | 2016-10-31                                                 | 2016-11-06                                                 | SurveyMonkey                                               | C-                                                         | 70194                                                      | lv                                                         | 47.00                                                      | 41.00                                                      | 6.00                                                       | NA                                                         | 45.65592                                                   | 40.37888                                                   | 3.677361                                                   | NA                                                         | -0.0600                                                    | \n",
       "| U.S.                                                       | 2016-11-02                                                 | 2016-11-06                                                 | Rasmussen Reports/Pulse Opinion Research                   | C+                                                         |  1500                                                      | lv                                                         | 45.00                                                      | 43.00                                                      | 4.00                                                       | NA                                                         | 45.56041                                                   | 43.13745                                                   | 4.418502                                                   | NA                                                         | -0.0200                                                    | \n",
       "| U.S.                                                       | 2016-11-04                                                 | 2016-11-07                                                 | Insights West                                              | NA                                                         |   940                                                      | lv                                                         | 49.00                                                      | 45.00                                                      | 4.00                                                       | NA                                                         | 49.14547                                                   | 45.12675                                                   | 4.253578                                                   | NA                                                         | -0.0400                                                    | \n",
       "| U.S.                                                       | 2016-10-20                                                 | 2016-11-01                                                 | RAND (American Life Panel)                                 | B-                                                         |  2269                                                      | lv                                                         | 43.70                                                      | 34.60                                                      | 7.70                                                       | NA                                                         | 43.13676                                                   | 38.24491                                                   | 5.957800                                                   | NA                                                         | -0.0910                                                    | \n",
       "| U.S.                                                       | 2016-11-01                                                 | 2016-11-03                                                 | Fox News/Anderson Robbins Research/Shaw & Company Research | A                                                          |  1107                                                      | lv                                                         | 45.50                                                      | 44.00                                                      | 5.00                                                       | NA                                                         | 46.70731                                                   | 44.14856                                                   | 4.979693                                                   | NA                                                         | -0.0150                                                    | \n",
       "| U.S.                                                       | 2016-10-28                                                 | 2016-11-01                                                 | CBS News/New York Times                                    | A-                                                         |   927                                                      | lv                                                         | 45.00                                                      | 42.00                                                      | 5.00                                                       | NA                                                         | 45.23948                                                   | 42.55291                                                   | 3.928672                                                   | NA                                                         | -0.0300                                                    | \n",
       "| U.S.                                                       | 2016-11-02                                                 | 2016-11-05                                                 | ABC News/Washington Post                                   | A+                                                         |  1937                                                      | lv                                                         | 47.00                                                      | 43.00                                                      | 4.00                                                       | NA                                                         | 45.28374                                                   | 41.76419                                                   | 4.635295                                                   | NA                                                         | -0.0400                                                    | \n",
       "| U.S.                                                       | 2016-10-31                                                 | 2016-11-04                                                 | Ipsos                                                      | A-                                                         |  2244                                                      | lv                                                         | 43.00                                                      | 39.00                                                      | 6.00                                                       | NA                                                         | 43.12950                                                   | 38.96855                                                   | 6.757478                                                   | NA                                                         | -0.0400                                                    | \n",
       "| U.S.                                                       | 2016-11-01                                                 | 2016-11-04                                                 | ABC News/Washington Post                                   | A+                                                         |  1685                                                      | lv                                                         | 48.00                                                      | 43.00                                                      | 4.00                                                       | NA                                                         | 46.34620                                                   | 41.81491                                                   | 4.620226                                                   | NA                                                         | -0.0500                                                    | \n",
       "| U.S.                                                       | 2016-10-04                                                 | 2016-11-06                                                 | YouGov                                                     | B                                                          | 84292                                                      | lv                                                         | 42.90                                                      | 39.00                                                      | 4.70                                                       | NA                                                         | 43.74084                                                   | 41.38541                                                   | 4.411561                                                   | NA                                                         | -0.0390                                                    | \n",
       "| U.S.                                                       | 2016-11-03                                                 | 2016-11-06                                                 | IBD/TIPP                                                   | A-                                                         |  1026                                                      | lv                                                         | 40.70                                                      | 43.10                                                      | 6.30                                                       | NA                                                         | 42.51610                                                   | 42.67482                                                   | 5.607142                                                   | NA                                                         |  0.0240                                                    | \n",
       "| U.S.                                                       | 2016-10-31                                                 | 2016-11-03                                                 | ABC News/Washington Post                                   | A+                                                         |  1419                                                      | lv                                                         | 47.00                                                      | 43.00                                                      | 4.00                                                       | NA                                                         | 45.38686                                                   | 41.91655                                                   | 4.548039                                                   | NA                                                         | -0.0400                                                    | \n",
       "| ... | ... | ... | ... | ... | ... | ... | ... | ... | ... | ... | ... | ... | ... | ... | ... | \n",
       "| U.S.                                     | 2016-11-01                               | 2016-11-03                               | Rasmussen Reports/Pulse Opinion Research | C+                                       |  1500                                    | lv                                       | 44.00                                    | 44.00                                    | 4.00                                     | NA                                       | 44.66353                                 | 44.28981                                 | 4.331246                                 | NA                                       |  0.0000                                  | \n",
       "| U.S.                                     | 2016-11-04                               | 2016-11-06                               | The Times-Picayune/Lucid                 | NA                                       |  2584                                    | lv                                       | 45.00                                    | 40.00                                    | 5.00                                     | NA                                       | 45.22830                                 | 42.30433                                 | 3.770880                                 | NA                                       | -0.0500                                  | \n",
       "| U.S.                                     | 2016-10-28                               | 2016-11-01                               | Ipsos                                    | A-                                       |  1772                                    | lv                                       | 44.70                                    | 37.40                                    | 5.30                                     | NA                                       | 44.84936                                 | 37.84188                                 | 5.731620                                 | NA                                       | -0.0730                                  | \n",
       "| U.S.                                     | 2016-10-29                               | 2016-11-02                               | IBD/TIPP                                 | A-                                       |   867                                    | lv                                       | 44.00                                    | 44.10                                    | 3.90                                     | NA                                       | 46.01937                                 | 44.14133                                 | 2.935885                                 | NA                                       |  0.0010                                  | \n",
       "| U.S.                                     | 2016-10-28                               | 2016-11-01                               | IBD/TIPP                                 | A-                                       |   862                                    | lv                                       | 44.00                                    | 44.40                                    | 4.10                                     | NA                                       | 46.02119                                 | 44.64041                                 | 3.003101                                 | NA                                       |  0.0040                                  | \n",
       "| U.S.                                     | 2016-10-31                               | 2016-11-02                               | Rasmussen Reports/Pulse Opinion Research | C+                                       |  1500                                    | lv                                       | 42.00                                    | 45.00                                    | 4.00                                     | NA                                       | 42.67626                                 | 45.41689                                 | 4.239500                                 | NA                                       |  0.0300                                  | \n",
       "| U.S.                                     | 2016-10-27                               | 2016-10-31                               | Ipsos                                    | A-                                       |  1464                                    | lv                                       | 44.00                                    | 37.20                                    | 5.90                                     | NA                                       | 44.14389                                 | 37.86409                                 | 6.197528                                 | NA                                       | -0.0680                                  | \n",
       "| U.S.                                     | 2016-11-03                               | 2016-11-05                               | The Times-Picayune/Lucid                 | NA                                       |  2526                                    | lv                                       | 45.00                                    | 40.00                                    | 5.00                                     | NA                                       | 45.31041                                 | 42.34422                                 | 3.779955                                 | NA                                       | -0.0500                                  | \n",
       "| U.S.                                     | 2016-10-27                               | 2016-10-31                               | Rasmussen Reports/Pulse Opinion Research | C+                                       |  1500                                    | lv                                       | 44.00                                    | 44.00                                    | 5.00                                     | NA                                       | 44.67792                                 | 44.98535                                 | 4.871296                                 | NA                                       |  0.0000                                  | \n",
       "| U.S.                                     | 2016-10-25                               | 2016-10-31                               | Google Consumer Surveys                  | B                                        | 24316                                    | lv                                       | 37.69                                    | 35.07                                    | 6.18                                     | NA                                       | 43.11401                                 | 41.64819                                 | 5.238244                                 | NA                                       | -0.0262                                  | \n",
       "| U.S.                                     | 2016-10-30                               | 2016-11-05                               | CVOTER International                     | C+                                       |  1572                                    | lv                                       | 49.25                                    | 45.92                                    |   NA                                     | NA                                       | 47.36662                                 | 41.90514                                 |       NA                                 | NA                                       | -0.0333                                  | \n",
       "| U.S.                                     | 2016-10-30                               | 2016-11-01                               | Rasmussen Reports/Pulse Opinion Research | C+                                       |  1500                                    | lv                                       | 44.00                                    | 44.00                                    | 5.00                                     | NA                                       | 44.68157                                 | 44.56407                                 | 5.138172                                 | NA                                       |  0.0000                                  | \n",
       "| U.S.                                     | 2016-10-29                               | 2016-11-04                               | CVOTER International                     | C+                                       |  1479                                    | lv                                       | 49.06                                    | 47.82                                    |   NA                                     | NA                                       | 47.15442                                 | 43.89729                                 |       NA                                 | NA                                       | -0.0124                                  | \n",
       "| U.S.                                     | 2016-11-02                               | 2016-11-04                               | The Times-Picayune/Lucid                 | NA                                       |  2561                                    | lv                                       | 45.00                                    | 39.00                                    | 5.00                                     | NA                                       | 45.37288                                 | 41.39494                                 | 3.764886                                 | NA                                       | -0.0600                                  | \n",
       "| U.S.                                     | 2016-10-31                               | 2016-11-06                               | USC Dornsife/LA Times                    | NA                                       |  2935                                    | lv                                       | 43.23                                    | 47.98                                    |   NA                                     | NA                                       | 44.98547                                 | 44.55796                                 |       NA                                 | NA                                       |  0.0475                                  | \n",
       "| U.S.                                     | 2016-10-28                               | 2016-11-03                               | CVOTER International                     | C+                                       |  1395                                    | lv                                       | 48.53                                    | 48.44                                    |   NA                                     | NA                                       | 46.59161                                 | 44.62636                                 |       NA                                 | NA                                       | -0.0009                                  | \n",
       "| U.S.                                     | 2016-11-01                               | 2016-11-03                               | The Times-Picayune/Lucid                 | NA                                       |  2627                                    | lv                                       | 44.00                                    | 39.00                                    | 6.00                                     | NA                                       | 44.41354                                 | 41.49658                                 | 4.692698                                 | NA                                       | -0.0500                                  | \n",
       "| U.S.                                     | 2016-10-30                               | 2016-11-05                               | USC Dornsife/LA Times                    | NA                                       |  2988                                    | lv                                       | 42.63                                    | 48.16                                    |   NA                                     | NA                                       | 44.39404                                 | 44.80749                                 |       NA                                 | NA                                       |  0.0553                                  | \n",
       "| U.S.                                     | 2016-10-27                               | 2016-11-02                               | CVOTER International                     | C+                                       |  1329                                    | lv                                       | 48.78                                    | 48.22                                    |   NA                                     | NA                                       | 46.79931                                 | 44.56131                                 |       NA                                 | NA                                       | -0.0056                                  | \n",
       "| U.S.                                     | 2016-10-29                               | 2016-11-04                               | USC Dornsife/LA Times                    | NA                                       |  2987                                    | lv                                       | 42.56                                    | 47.96                                    |   NA                                     | NA                                       | 44.30183                                 | 44.69964                                 |       NA                                 | NA                                       |  0.0540                                  | \n",
       "| U.S.                                     | 2016-10-26                               | 2016-11-01                               | CVOTER International                     | C+                                       |  1383                                    | lv                                       | 48.81                                    | 48.14                                    |   NA                                     | NA                                       | 46.77929                                 | 44.65897                                 |       NA                                 | NA                                       | -0.0067                                  | \n",
       "| U.S.                                     | 2016-10-31                               | 2016-11-02                               | The Times-Picayune/Lucid                 | NA                                       |  2620                                    | lv                                       | 44.00                                    | 39.00                                    | 6.00                                     | NA                                       | 44.42627                                 | 41.62366                                 | 4.600952                                 | NA                                       | -0.0500                                  | \n",
       "| U.S.                                     | 2016-10-31                               | 2016-10-31                               | Gravis Marketing                         | B-                                       |  5360                                    | rv                                       | 46.00                                    | 45.00                                    | 4.00                                     | NA                                       | 46.04416                                 | 44.79836                                 | 4.454841                                 | NA                                       | -0.0100                                  | \n",
       "| U.S.                                     | 2016-10-28                               | 2016-11-03                               | USC Dornsife/LA Times                    | NA                                       |  2962                                    | lv                                       | 43.38                                    | 46.89                                    |   NA                                     | NA                                       | 45.08903                                 | 43.73871                                 |       NA                                 | NA                                       |  0.0351                                  | \n",
       "| U.S.                                     | 2016-10-30                               | 2016-11-01                               | The Times-Picayune/Lucid                 | NA                                       |  2617                                    | lv                                       | 43.00                                    | 40.00                                    | 6.00                                     | NA                                       | 43.43158                                 | 42.77084                                 | 4.499624                                 | NA                                       | -0.0300                                  | \n",
       "| U.S.                                     | 2016-10-27                               | 2016-11-02                               | USC Dornsife/LA Times                    | NA                                       |  2938                                    | lv                                       | 42.47                                    | 47.50                                    |   NA                                     | NA                                       | 44.13673                                 | 44.50366                                 |       NA                                 | NA                                       |  0.0503                                  | \n",
       "| U.S.                                     | 2016-11-01                               | 2016-11-02                               | Gravis Marketing                         | B-                                       |  2435                                    | rv                                       | 47.00                                    | 45.00                                    | 3.00                                     | NA                                       | 47.02612                                 | 44.52409                                 | 3.647916                                 | NA                                       | -0.0200                                  | \n",
       "| U.S.                                     | 2016-10-26                               | 2016-11-01                               | USC Dornsife/LA Times                    | NA                                       |  3004                                    | lv                                       | 42.36                                    | 47.83                                    |   NA                                     | NA                                       | 43.97671                                 | 45.01132                                 |       NA                                 | NA                                       |  0.0547                                  | \n",
       "| U.S.                                     | 2016-10-29                               | 2016-10-31                               | The Times-Picayune/Lucid                 | NA                                       |  2600                                    | lv                                       | 42.00                                    | 40.00                                    | 5.00                                     | NA                                       | 42.43340                                 | 42.96991                                 | 3.366840                                 | NA                                       | -0.0200                                  | \n",
       "| U.S.                                     | 2016-10-25                               | 2016-10-31                               | USC Dornsife/LA Times                    | NA                                       |  3145                                    | lv                                       | 43.28                                    | 46.90                                    |   NA                                     | NA                                       | 44.84075                                 | 44.24033                                 |       NA                                 | NA                                       |  0.0362                                  | \n",
       "\n",
       "\n"
      ],
      "text/plain": [
       "    state startdate  enddate   \n",
       "1   U.S.  2016-11-03 2016-11-06\n",
       "2   U.S.  2016-11-01 2016-11-07\n",
       "3   U.S.  2016-11-02 2016-11-06\n",
       "4   U.S.  2016-11-04 2016-11-07\n",
       "5   U.S.  2016-11-03 2016-11-06\n",
       "6   U.S.  2016-11-03 2016-11-06\n",
       "7   U.S.  2016-11-02 2016-11-06\n",
       "8   U.S.  2016-11-03 2016-11-05\n",
       "9   U.S.  2016-11-04 2016-11-07\n",
       "10  U.S.  2016-11-04 2016-11-06\n",
       "11  U.S.  2016-11-01 2016-11-04\n",
       "12  U.S.  2016-11-03 2016-11-06\n",
       "13  U.S.  2016-11-01 2016-11-03\n",
       "14  U.S.  2016-11-05 2016-11-07\n",
       "15  U.S.  2016-11-01 2016-11-07\n",
       "16  U.S.  2016-11-01 2016-11-05\n",
       "17  U.S.  2016-10-31 2016-11-06\n",
       "18  U.S.  2016-11-04 2016-11-05\n",
       "19  U.S.  2016-10-31 2016-11-06\n",
       "20  U.S.  2016-11-02 2016-11-06\n",
       "21  U.S.  2016-11-04 2016-11-07\n",
       "22  U.S.  2016-10-20 2016-11-01\n",
       "23  U.S.  2016-11-01 2016-11-03\n",
       "24  U.S.  2016-10-28 2016-11-01\n",
       "25  U.S.  2016-11-02 2016-11-05\n",
       "26  U.S.  2016-10-31 2016-11-04\n",
       "27  U.S.  2016-11-01 2016-11-04\n",
       "28  U.S.  2016-10-04 2016-11-06\n",
       "29  U.S.  2016-11-03 2016-11-06\n",
       "30  U.S.  2016-10-31 2016-11-03\n",
       "... ...   ...        ...       \n",
       "41  U.S.  2016-11-01 2016-11-03\n",
       "42  U.S.  2016-11-04 2016-11-06\n",
       "43  U.S.  2016-10-28 2016-11-01\n",
       "44  U.S.  2016-10-29 2016-11-02\n",
       "45  U.S.  2016-10-28 2016-11-01\n",
       "46  U.S.  2016-10-31 2016-11-02\n",
       "47  U.S.  2016-10-27 2016-10-31\n",
       "48  U.S.  2016-11-03 2016-11-05\n",
       "49  U.S.  2016-10-27 2016-10-31\n",
       "50  U.S.  2016-10-25 2016-10-31\n",
       "51  U.S.  2016-10-30 2016-11-05\n",
       "52  U.S.  2016-10-30 2016-11-01\n",
       "53  U.S.  2016-10-29 2016-11-04\n",
       "54  U.S.  2016-11-02 2016-11-04\n",
       "55  U.S.  2016-10-31 2016-11-06\n",
       "56  U.S.  2016-10-28 2016-11-03\n",
       "57  U.S.  2016-11-01 2016-11-03\n",
       "58  U.S.  2016-10-30 2016-11-05\n",
       "59  U.S.  2016-10-27 2016-11-02\n",
       "60  U.S.  2016-10-29 2016-11-04\n",
       "61  U.S.  2016-10-26 2016-11-01\n",
       "62  U.S.  2016-10-31 2016-11-02\n",
       "63  U.S.  2016-10-31 2016-10-31\n",
       "64  U.S.  2016-10-28 2016-11-03\n",
       "65  U.S.  2016-10-30 2016-11-01\n",
       "66  U.S.  2016-10-27 2016-11-02\n",
       "67  U.S.  2016-11-01 2016-11-02\n",
       "68  U.S.  2016-10-26 2016-11-01\n",
       "69  U.S.  2016-10-29 2016-10-31\n",
       "70  U.S.  2016-10-25 2016-10-31\n",
       "    pollster                                                   grade samplesize\n",
       "1   ABC News/Washington Post                                   A+     2220     \n",
       "2   Google Consumer Surveys                                    B     26574     \n",
       "3   Ipsos                                                      A-     2195     \n",
       "4   YouGov                                                     B      3677     \n",
       "5   Gravis Marketing                                           B-    16639     \n",
       "6   Fox News/Anderson Robbins Research/Shaw & Company Research A      1295     \n",
       "7   CBS News/New York Times                                    A-     1426     \n",
       "8   NBC News/Wall Street Journal                               A-     1282     \n",
       "9   IBD/TIPP                                                   A-     1107     \n",
       "10  Selzer & Company                                           A+      799     \n",
       "11  Angus Reid Global                                          A-     1151     \n",
       "12  Monmouth University                                        A+      748     \n",
       "13  Marist College                                             A       940     \n",
       "14  The Times-Picayune/Lucid                                   NA     2521     \n",
       "15  USC Dornsife/LA Times                                      NA     2972     \n",
       "16  RKM Research and Communications, Inc.                      B+     1009     \n",
       "17  CVOTER International                                       C+     1625     \n",
       "18  Morning Consult                                            NA     1482     \n",
       "19  SurveyMonkey                                               C-    70194     \n",
       "20  Rasmussen Reports/Pulse Opinion Research                   C+     1500     \n",
       "21  Insights West                                              NA      940     \n",
       "22  RAND (American Life Panel)                                 B-     2269     \n",
       "23  Fox News/Anderson Robbins Research/Shaw & Company Research A      1107     \n",
       "24  CBS News/New York Times                                    A-      927     \n",
       "25  ABC News/Washington Post                                   A+     1937     \n",
       "26  Ipsos                                                      A-     2244     \n",
       "27  ABC News/Washington Post                                   A+     1685     \n",
       "28  YouGov                                                     B     84292     \n",
       "29  IBD/TIPP                                                   A-     1026     \n",
       "30  ABC News/Washington Post                                   A+     1419     \n",
       "... ...                                                        ...   ...       \n",
       "41  Rasmussen Reports/Pulse Opinion Research                   C+     1500     \n",
       "42  The Times-Picayune/Lucid                                   NA     2584     \n",
       "43  Ipsos                                                      A-     1772     \n",
       "44  IBD/TIPP                                                   A-      867     \n",
       "45  IBD/TIPP                                                   A-      862     \n",
       "46  Rasmussen Reports/Pulse Opinion Research                   C+     1500     \n",
       "47  Ipsos                                                      A-     1464     \n",
       "48  The Times-Picayune/Lucid                                   NA     2526     \n",
       "49  Rasmussen Reports/Pulse Opinion Research                   C+     1500     \n",
       "50  Google Consumer Surveys                                    B     24316     \n",
       "51  CVOTER International                                       C+     1572     \n",
       "52  Rasmussen Reports/Pulse Opinion Research                   C+     1500     \n",
       "53  CVOTER International                                       C+     1479     \n",
       "54  The Times-Picayune/Lucid                                   NA     2561     \n",
       "55  USC Dornsife/LA Times                                      NA     2935     \n",
       "56  CVOTER International                                       C+     1395     \n",
       "57  The Times-Picayune/Lucid                                   NA     2627     \n",
       "58  USC Dornsife/LA Times                                      NA     2988     \n",
       "59  CVOTER International                                       C+     1329     \n",
       "60  USC Dornsife/LA Times                                      NA     2987     \n",
       "61  CVOTER International                                       C+     1383     \n",
       "62  The Times-Picayune/Lucid                                   NA     2620     \n",
       "63  Gravis Marketing                                           B-     5360     \n",
       "64  USC Dornsife/LA Times                                      NA     2962     \n",
       "65  The Times-Picayune/Lucid                                   NA     2617     \n",
       "66  USC Dornsife/LA Times                                      NA     2938     \n",
       "67  Gravis Marketing                                           B-     2435     \n",
       "68  USC Dornsife/LA Times                                      NA     3004     \n",
       "69  The Times-Picayune/Lucid                                   NA     2600     \n",
       "70  USC Dornsife/LA Times                                      NA     3145     \n",
       "    population rawpoll_clinton rawpoll_trump rawpoll_johnson rawpoll_mcmullin\n",
       "1   lv         47.00           43.00         4.00            NA              \n",
       "2   lv         38.03           35.69         5.46            NA              \n",
       "3   lv         42.00           39.00         6.00            NA              \n",
       "4   lv         45.00           41.00         5.00            NA              \n",
       "5   rv         47.00           43.00         3.00            NA              \n",
       "6   lv         48.00           44.00         3.00            NA              \n",
       "7   lv         45.00           41.00         5.00            NA              \n",
       "8   lv         44.00           40.00         6.00            NA              \n",
       "9   lv         41.20           42.70         7.10            NA              \n",
       "10  lv         44.00           41.00         4.00            NA              \n",
       "11  lv         48.00           44.00         6.00            NA              \n",
       "12  lv         50.00           44.00         4.00            NA              \n",
       "13  lv         44.00           43.00         6.00            NA              \n",
       "14  lv         45.00           40.00         5.00            NA              \n",
       "15  lv         43.61           46.84           NA            NA              \n",
       "16  lv         47.60           44.40         4.30            NA              \n",
       "17  lv         48.91           46.13           NA            NA              \n",
       "18  lv         45.00           42.00         8.00            NA              \n",
       "19  lv         47.00           41.00         6.00            NA              \n",
       "20  lv         45.00           43.00         4.00            NA              \n",
       "21  lv         49.00           45.00         4.00            NA              \n",
       "22  lv         43.70           34.60         7.70            NA              \n",
       "23  lv         45.50           44.00         5.00            NA              \n",
       "24  lv         45.00           42.00         5.00            NA              \n",
       "25  lv         47.00           43.00         4.00            NA              \n",
       "26  lv         43.00           39.00         6.00            NA              \n",
       "27  lv         48.00           43.00         4.00            NA              \n",
       "28  lv         42.90           39.00         4.70            NA              \n",
       "29  lv         40.70           43.10         6.30            NA              \n",
       "30  lv         47.00           43.00         4.00            NA              \n",
       "... ...        ...             ...           ...             ...             \n",
       "41  lv         44.00           44.00         4.00            NA              \n",
       "42  lv         45.00           40.00         5.00            NA              \n",
       "43  lv         44.70           37.40         5.30            NA              \n",
       "44  lv         44.00           44.10         3.90            NA              \n",
       "45  lv         44.00           44.40         4.10            NA              \n",
       "46  lv         42.00           45.00         4.00            NA              \n",
       "47  lv         44.00           37.20         5.90            NA              \n",
       "48  lv         45.00           40.00         5.00            NA              \n",
       "49  lv         44.00           44.00         5.00            NA              \n",
       "50  lv         37.69           35.07         6.18            NA              \n",
       "51  lv         49.25           45.92           NA            NA              \n",
       "52  lv         44.00           44.00         5.00            NA              \n",
       "53  lv         49.06           47.82           NA            NA              \n",
       "54  lv         45.00           39.00         5.00            NA              \n",
       "55  lv         43.23           47.98           NA            NA              \n",
       "56  lv         48.53           48.44           NA            NA              \n",
       "57  lv         44.00           39.00         6.00            NA              \n",
       "58  lv         42.63           48.16           NA            NA              \n",
       "59  lv         48.78           48.22           NA            NA              \n",
       "60  lv         42.56           47.96           NA            NA              \n",
       "61  lv         48.81           48.14           NA            NA              \n",
       "62  lv         44.00           39.00         6.00            NA              \n",
       "63  rv         46.00           45.00         4.00            NA              \n",
       "64  lv         43.38           46.89           NA            NA              \n",
       "65  lv         43.00           40.00         6.00            NA              \n",
       "66  lv         42.47           47.50           NA            NA              \n",
       "67  rv         47.00           45.00         3.00            NA              \n",
       "68  lv         42.36           47.83           NA            NA              \n",
       "69  lv         42.00           40.00         5.00            NA              \n",
       "70  lv         43.28           46.90           NA            NA              \n",
       "    adjpoll_clinton adjpoll_trump adjpoll_johnson adjpoll_mcmullin d_hat  \n",
       "1   45.20163        41.72430      4.626221        NA               -0.0400\n",
       "2   43.34557        41.21439      5.175792        NA               -0.0234\n",
       "3   42.02638        38.81620      6.844734        NA               -0.0300\n",
       "4   45.65676        40.92004      6.069454        NA               -0.0400\n",
       "5   46.84089        42.33184      3.726098        NA               -0.0400\n",
       "6   49.02208        43.95631      3.057876        NA               -0.0400\n",
       "7   45.11649        40.92722      4.341786        NA               -0.0400\n",
       "8   43.58576        40.77325      5.365788        NA               -0.0400\n",
       "9   42.92745        42.23545      6.316175        NA                0.0150\n",
       "10  44.21714        40.57082      4.068708        NA               -0.0300\n",
       "11  47.57171        43.68125      5.556625        NA               -0.0400\n",
       "12  48.86765        43.39600      4.838600        NA               -0.0600\n",
       "13  42.83406        43.43819      4.780429        NA               -0.0100\n",
       "14  45.13966        42.26495      3.679914        NA               -0.0500\n",
       "15  45.32156        43.38579            NA        NA                0.0323\n",
       "16  47.63973        43.16080      4.761112        NA               -0.0320\n",
       "17  47.01806        42.04561            NA        NA               -0.0278\n",
       "18  46.28310        43.27167      6.904304        NA               -0.0300\n",
       "19  45.65592        40.37888      3.677361        NA               -0.0600\n",
       "20  45.56041        43.13745      4.418502        NA               -0.0200\n",
       "21  49.14547        45.12675      4.253578        NA               -0.0400\n",
       "22  43.13676        38.24491      5.957800        NA               -0.0910\n",
       "23  46.70731        44.14856      4.979693        NA               -0.0150\n",
       "24  45.23948        42.55291      3.928672        NA               -0.0300\n",
       "25  45.28374        41.76419      4.635295        NA               -0.0400\n",
       "26  43.12950        38.96855      6.757478        NA               -0.0400\n",
       "27  46.34620        41.81491      4.620226        NA               -0.0500\n",
       "28  43.74084        41.38541      4.411561        NA               -0.0390\n",
       "29  42.51610        42.67482      5.607142        NA                0.0240\n",
       "30  45.38686        41.91655      4.548039        NA               -0.0400\n",
       "... ...             ...           ...             ...              ...    \n",
       "41  44.66353        44.28981      4.331246        NA                0.0000\n",
       "42  45.22830        42.30433      3.770880        NA               -0.0500\n",
       "43  44.84936        37.84188      5.731620        NA               -0.0730\n",
       "44  46.01937        44.14133      2.935885        NA                0.0010\n",
       "45  46.02119        44.64041      3.003101        NA                0.0040\n",
       "46  42.67626        45.41689      4.239500        NA                0.0300\n",
       "47  44.14389        37.86409      6.197528        NA               -0.0680\n",
       "48  45.31041        42.34422      3.779955        NA               -0.0500\n",
       "49  44.67792        44.98535      4.871296        NA                0.0000\n",
       "50  43.11401        41.64819      5.238244        NA               -0.0262\n",
       "51  47.36662        41.90514            NA        NA               -0.0333\n",
       "52  44.68157        44.56407      5.138172        NA                0.0000\n",
       "53  47.15442        43.89729            NA        NA               -0.0124\n",
       "54  45.37288        41.39494      3.764886        NA               -0.0600\n",
       "55  44.98547        44.55796            NA        NA                0.0475\n",
       "56  46.59161        44.62636            NA        NA               -0.0009\n",
       "57  44.41354        41.49658      4.692698        NA               -0.0500\n",
       "58  44.39404        44.80749            NA        NA                0.0553\n",
       "59  46.79931        44.56131            NA        NA               -0.0056\n",
       "60  44.30183        44.69964            NA        NA                0.0540\n",
       "61  46.77929        44.65897            NA        NA               -0.0067\n",
       "62  44.42627        41.62366      4.600952        NA               -0.0500\n",
       "63  46.04416        44.79836      4.454841        NA               -0.0100\n",
       "64  45.08903        43.73871            NA        NA                0.0351\n",
       "65  43.43158        42.77084      4.499624        NA               -0.0300\n",
       "66  44.13673        44.50366            NA        NA                0.0503\n",
       "67  47.02612        44.52409      3.647916        NA               -0.0200\n",
       "68  43.97671        45.01132            NA        NA                0.0547\n",
       "69  42.43340        42.96991      3.366840        NA               -0.0200\n",
       "70  44.84075        44.24033            NA        NA                0.0362"
      ]
     },
     "metadata": {},
     "output_type": "display_data"
    },
    {
     "name": "stderr",
     "output_type": "stream",
     "text": [
      "Warning message in Ops.factor(left, right):\n",
      "\"'*' not meaningful for factors\""
     ]
    },
    {
     "ename": "ERROR",
     "evalue": "Error in Ops.Date(left, right): * not defined for \"Date\" objects\n",
     "output_type": "error",
     "traceback": [
      "Error in Ops.Date(left, right): * not defined for \"Date\" objects\nTraceback:\n",
      "1. Ops.data.frame(2, d_hat)",
      "2. eval(f)",
      "3. eval(f)",
      "4. Ops.Date(left, right)",
      "5. stop(gettextf(\"%s not defined for \\\"Date\\\" objects\", .Generic), \n .     domain = NA)"
     ]
    }
   ],
   "source": [
    "library(dslabs)\n",
    "library(dplyr)\n",
    "# Add a statement to this line of code that will add a new column named `d_hat` to `polls`. The new column should contain the difference in the proportion of voters.\n",
    "polls <- polls_us_election_2016 %>% filter(enddate >= \"2016-10-31\" & state == \"U.S.\") \n",
    "\n",
    "\n",
    "# Assign the sample size of the first poll in `polls` to a variable called `N`. Print this value to the console.\n",
    "N <- head(polls$samplesize,1)\n",
    "N\n",
    "\n",
    "# For the difference `d_hat` of the first poll in `polls` to a variable called `d_hat`. Print this value to the console.\n",
    "d_hat <- polls %>% mutate(d_hat = (rawpoll_trump - rawpoll_clinton)/100)\n",
    "d_hat\n",
    "\n",
    "# Assign proportion of votes for Clinton to the variable `X_hat`.\n",
    "# p-(1-p)\n",
    "# p = clinton.\n",
    "# 1-p = trump\n",
    "# so d = clinton - trump = p-(1-p)=2p-1\n",
    "X_hat <- (2 * d_hat) -1\n",
    "X_hat"
   ]
  },
  {
   "cell_type": "code",
   "execution_count": null,
   "metadata": {},
   "outputs": [],
   "source": []
  }
 ],
 "metadata": {
  "kernelspec": {
   "display_name": "R",
   "language": "R",
   "name": "ir"
  },
  "language_info": {
   "codemirror_mode": "r",
   "file_extension": ".r",
   "mimetype": "text/x-r-source",
   "name": "R",
   "pygments_lexer": "r",
   "version": "3.5.1"
  }
 },
 "nbformat": 4,
 "nbformat_minor": 2
}

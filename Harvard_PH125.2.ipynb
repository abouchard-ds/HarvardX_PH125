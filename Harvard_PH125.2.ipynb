{
 "cells": [
  {
   "cell_type": "markdown",
   "metadata": {},
   "source": [
    "# HarvardX: PH125.2x \n",
    "## Data Science: Visualization\n",
    "\n",
    "#### In this course, you will learn:\n",
    "\n",
    "* Data visualization principles to better communicate data-driven findings\n",
    "* How to use ggplot2 to create custom plots\n",
    "* The weaknesses of several widely used plots and why you should avoid them\n",
    "\n",
    "#### Course overview\n",
    "\n",
    "##### **Section 1: Introduction to Data Visualization and Distributions**\n",
    "\n",
    "You will get started with data visualization and distributions in R. \n",
    "\n",
    "##### **Section 2: Introduction to ggplot2**\n",
    "\n",
    "You will learn how to use ggplot2 to create plots. \n",
    "\n",
    "##### **Section 3: Summarizing with dplyr**\n",
    "\n",
    "You will learn how to summarize data using dplyr.\n",
    "\n",
    "##### **Section 4: Gapminder**\n",
    "\n",
    "You will see examples of ggplot2 and dplyr in action with the Gapminder dataset.\n",
    "\n",
    "##### **Section 5: Data Visualization Principles** \n",
    "\n",
    "You will learn general principles to guide you in developing effective data visualizations.\n"
   ]
  },
  {
   "cell_type": "markdown",
   "metadata": {},
   "source": [
    "# Section 1 introduces you to Data Visualization and Distributions.\n",
    "\n",
    "After completing Section 1, you will:\n",
    "\n",
    "        understand the importance of data visualization for communicating data-driven findings.\n",
    "        be able to use distributions to summarize data.\n",
    "        be able to use the average and the standard deviation to understand the normal distribution.\n",
    "        be able to assess how well a normal distribution fits the data using a quantile-quantile plot.\n",
    "        be able to interpret data from a boxplot.\n"
   ]
  },
  {
   "cell_type": "markdown",
   "metadata": {},
   "source": [
    "### Data types\n",
    "\n",
    "What type of data?\n",
    "\n",
    "- Categorical (qualitative)\n",
    "\n",
    "  - ordinal \n",
    "  \n",
    "  - non-ordinal\n",
    "\n",
    "- Numerical (quantitative)\n",
    "\n",
    "  - discrete\n",
    "\n",
    "  - continuous\n",
    "  \n"
   ]
  },
  {
   "cell_type": "markdown",
   "metadata": {},
   "source": [
    "### Exercise 1. Variable names\n",
    "\n",
    "The type of data we are working with will often influence the data visualization technique we use. We will be working with two types of variables: categorical and numeric. Each can be divided into two other groups: categorical can be ordinal or not, whereas numerical variables can be discrete or continuous.\n",
    "\n",
    "We will review data types using some of the examples provided in the dslabs package. For example, the heights dataset.\n",
    "```\n",
    "library(dslabs)\n",
    "data(heights)\n",
    "```"
   ]
  },
  {
   "cell_type": "code",
   "execution_count": 1,
   "metadata": {},
   "outputs": [
    {
     "data": {
      "text/html": [
       "<ol class=list-inline>\n",
       "\t<li>'sex'</li>\n",
       "\t<li>'height'</li>\n",
       "</ol>\n"
      ],
      "text/latex": [
       "\\begin{enumerate*}\n",
       "\\item 'sex'\n",
       "\\item 'height'\n",
       "\\end{enumerate*}\n"
      ],
      "text/markdown": [
       "1. 'sex'\n",
       "2. 'height'\n",
       "\n",
       "\n"
      ],
      "text/plain": [
       "[1] \"sex\"    \"height\""
      ]
     },
     "metadata": {},
     "output_type": "display_data"
    }
   ],
   "source": [
    "library(dslabs)\n",
    "data(heights)\n",
    "names(heights)"
   ]
  },
  {
   "cell_type": "markdown",
   "metadata": {},
   "source": [
    "### Exercise 2. Variable type\n",
    "\n",
    "We saw that sex is the first variable. We know what values are represented by this variable and can confirm this by looking at the first few entires:\n",
    "```\n",
    "library(dslabs)\n",
    "data(heights)\n",
    "head(heights)\n",
    "```\n",
    "What data type is the ```sex``` variable?"
   ]
  },
  {
   "cell_type": "code",
   "execution_count": 2,
   "metadata": {},
   "outputs": [],
   "source": [
    "# cactegorical"
   ]
  },
  {
   "cell_type": "markdown",
   "metadata": {},
   "source": [
    "### Exercise 3. Numerical values\n",
    "\n",
    "Keep in mind that discrete numeric data can be considered ordinal. Although this is technically true, we usually reserve the term ordinal data for variables belonging to a small number of different groups, with each group having many members.\n",
    "\n",
    "The height variable could be ordinal if, for example, we report a small number of values such as short, medium, and tall. Let's explore how many unique values are used by the heights varialbe. For this we can use the unique fuction:\n",
    "```\n",
    "x <- c(3, 3, 3, 3, 4, 4, 2)\n",
    "unique(x)\n",
    "```"
   ]
  },
  {
   "cell_type": "code",
   "execution_count": 3,
   "metadata": {},
   "outputs": [
    {
     "data": {
      "text/html": [
       "139"
      ],
      "text/latex": [
       "139"
      ],
      "text/markdown": [
       "139"
      ],
      "text/plain": [
       "[1] 139"
      ]
     },
     "metadata": {},
     "output_type": "display_data"
    }
   ],
   "source": [
    "library(dslabs)\n",
    "data(heights)\n",
    "x <- heights$height\n",
    "\n",
    "length(unique(x))"
   ]
  },
  {
   "cell_type": "markdown",
   "metadata": {},
   "source": [
    "### Exercise 4. Tables\n",
    "\n",
    "One of the useful outputs of data visualization is that we can learn about the distribution of variables. For categorical data we can construct this distribution by simply computing the frequency of each unique value. This can be done with the function table. Here is an example:\n",
    "```\n",
    "x <- c(3, 3, 3, 3, 4, 4, 2)\n",
    "table(x)\n",
    "```\n",
    "Use the table function to compute the frequencies of each unique height value. Because we are using the resulting frequency table in a later exercise we want you to save the results into an object and call it tab."
   ]
  },
  {
   "cell_type": "code",
   "execution_count": 4,
   "metadata": {},
   "outputs": [
    {
     "data": {
      "text/plain": [
       "x\n",
       "              50               51               52               53 \n",
       "               2                1                2                1 \n",
       "           53.77               54               55               58 \n",
       "               1                1                1                1 \n",
       "              59          59.0551 59.0551181102362 59.8425196850394 \n",
       "               6                1                2                1 \n",
       "              60               61            61.32 61.8110236220472 \n",
       "              17               12                1                2 \n",
       "              62 62.2047244094488             62.4             62.5 \n",
       "              19                3                1                2 \n",
       "62.5984251968504             62.6  62.992125984252               63 \n",
       "               1                1                3               31 \n",
       "63.3858267716535 63.7795275590551               64           64.173 \n",
       "               1                3               39                1 \n",
       "         64.1732 64.1732283464567             64.2             64.5 \n",
       "               1                1                2                2 \n",
       "64.5669291338583            64.57             64.9            64.96 \n",
       "               2                1                1                2 \n",
       "64.9606299212598           64.961               65  65.748031496063 \n",
       "               4                1               54                3 \n",
       "              66            66.14          66.1416          66.1417 \n",
       "              65                1                1                1 \n",
       "66.1417322834646             66.4             66.5 66.5354330708661 \n",
       "               4                1                3                4 \n",
       "            66.7            66.75             66.9            66.92 \n",
       "               1                1                1                2 \n",
       "         66.9291 66.9291338582677            66.93               67 \n",
       "               2               12                1               77 \n",
       "            67.2             67.3             67.5             67.7 \n",
       "               1                1                4                3 \n",
       "           67.71          67.7165 67.7165354330709            67.72 \n",
       "               2                2                7                3 \n",
       "           67.78               68            68.11          68.1102 \n",
       "               1               76                5                1 \n",
       "68.1102362204724         68.11024             68.4             68.5 \n",
       "               3                1                2                9 \n",
       " 68.503937007874             68.8            68.89          68.8976 \n",
       "               4                1                4                3 \n",
       "68.8976377952756       68.8976378             68.9               69 \n",
       "               5                1                3               83 \n",
       "           69.29 69.2913385826772             69.3             69.6 \n",
       "               2                2                2                2 \n",
       "69.6850393700787               70 70.0787401574803            70.08 \n",
       "               1               92                5                1 \n",
       "            70.1 70.4724409448819             70.5             70.8 \n",
       "               2                1                2                1 \n",
       "           70.85            70.86           70.866          70.8661 \n",
       "               1                1                1                1 \n",
       "70.8661417322835            70.87               71             71.5 \n",
       "               9                1               59                4 \n",
       "           71.65 71.6535433070866             71.7               72 \n",
       "               1                1                1               88 \n",
       "72.0472440944882            72.05             72.4            72.44 \n",
       "               3                2                1                4 \n",
       "72.4409448818898            72.45             72.5            72.83 \n",
       "               3                1                1                2 \n",
       "         72.8346 72.8346456692913               73             73.2 \n",
       "               2                2               23                2 \n",
       "           73.22 73.2283464566929            73.62               74 \n",
       "               2                1                1               30 \n",
       "            74.5             74.8 74.8031496062992               75 \n",
       "               1                1                2               22 \n",
       "            75.4 75.5905511811024             75.6            75.98 \n",
       "               1                1                1                1 \n",
       "              76               77          77.1654               78 \n",
       "               7                5                1                4 \n",
       "           78.74  78.740157480315               79            79.05 \n",
       "               1                1                2                1 \n",
       "              80               81 82.6771653543307 \n",
       "               2                1                1 "
      ]
     },
     "metadata": {},
     "output_type": "display_data"
    }
   ],
   "source": [
    "library(dslabs)\n",
    "data(heights)\n",
    "x <- heights$height\n",
    "tab <- table(x)\n",
    "tab"
   ]
  },
  {
   "cell_type": "markdown",
   "metadata": {},
   "source": [
    "### Exercise 5. Indicator variables\n",
    "\n",
    "To see why treating the reported heights as an ordinal value is not useful in practice we note how many values are reported only once.\n",
    "\n",
    "In the previous exercise we computed the variable tab which reports the number of times each unique value appears. For values reported only once tab will be 1. Use logicals and the function sum to count the number of times this happens.\n",
    "```\n",
    "Hint\n",
    "\n",
    "Here is an example\n",
    "\n",
    "x <- c(3, 3, 3, 3, 4, 4, 2)\n",
    "tab <- table(x)\n",
    "sum(tab==1)\n",
    "```\n",
    "Use the function sum to count the number of times entries in tab are equal to 1."
   ]
  },
  {
   "cell_type": "code",
   "execution_count": 5,
   "metadata": {},
   "outputs": [
    {
     "data": {
      "text/html": [
       "63"
      ],
      "text/latex": [
       "63"
      ],
      "text/markdown": [
       "63"
      ],
      "text/plain": [
       "[1] 63"
      ]
     },
     "metadata": {},
     "output_type": "display_data"
    }
   ],
   "source": [
    "library(dslabs)\n",
    "data(heights)\n",
    "tab <- table(heights$height)\n",
    "sum(tab == 1)"
   ]
  },
  {
   "cell_type": "markdown",
   "metadata": {},
   "source": [
    "### Exercise 6. Data types - heights\n",
    "\n",
    "Since there are a finite number of reported heights and technically the height can be considered ordinal, which of the following is true:"
   ]
  },
  {
   "cell_type": "code",
   "execution_count": 6,
   "metadata": {},
   "outputs": [],
   "source": [
    "# 1"
   ]
  },
  {
   "cell_type": "markdown",
   "metadata": {},
   "source": [
    "# 1.2 Intro. to distributions\n",
    "\n",
    "* Proportions\n",
    "* Bar chart\n",
    "* Histogram\n",
    "* CDF (cumulative distribution function)\n",
    "* Smooth density plot"
   ]
  },
  {
   "cell_type": "markdown",
   "metadata": {},
   "source": [
    "### Exercise 1. Distributions - 1\n",
    "\n",
    "You may have noticed that numerical data is often summarized with the average value. For example, the quality of a high school is sometimes summarized with one number: the average score on a standardized test. Occasionally, a second number is reported: the standard deviation. So, for example, you might read a report stating that scores were 680 plus or minus 50 (the standard deviation). The report has summarized an entire vector of scores with with just two numbers. Is this appropriate? Is there any important piece of information that we are missing by only looking at this summary rather than the entire list? We are going to learn when these 2 numbers are enough and when we need more elaborate summaries and plots to describe the data.\n",
    "\n",
    "Our first data visualization building block is learning to summarize lists of factors or numeric vectors. The most basic statistical summary of a list of objects or numbers is its distribution. Once a vector has been summarized as distribution, there are several data visualization techniques to effectively relay this information. In later assessments we will practice to write code for data visualization. Here we start with some multiple choice questions to test your understanding of distributions and related basic plots.\n",
    "\n",
    "In the murders dataset, the region is a categorical variable and on the right you can see its distribution. To the closet 5%, what proportion of the states are in the North Central region?"
   ]
  },
  {
   "cell_type": "markdown",
   "metadata": {},
   "source": [
    "#  1.3 Quantiles, Percentiles, and Boxplots "
   ]
  },
  {
   "cell_type": "markdown",
   "metadata": {},
   "source": [
    "quantile-quantile plot\n",
    "\n",
    "etc."
   ]
  },
  {
   "cell_type": "markdown",
   "metadata": {},
   "source": [
    "percentiles\n",
    "\n"
   ]
  },
  {
   "cell_type": "markdown",
   "metadata": {},
   "source": [
    "boxplot"
   ]
  },
  {
   "cell_type": "markdown",
   "metadata": {},
   "source": [
    "### Exercise 1. Proportions\n",
    "\n",
    "Histograms and density plots provide excellent summaries of a distribution. But can we summarize even further? We often see the average and standard deviation used as summary statistics: a two number summary! To understand what these summaries are and why they are so widely used, we need to understand the normal distribution.\n",
    "\n",
    "The normal distribution, also known as the bell curve and as the Gaussian distribution, is one of the most famous mathematical concepts in history. A reason for this is that approximately normal distributions occur in many situations. Examples include gambling winnings, heights, weights, blood pressure, standardized test scores, and experimental measurement errors. Often data visualization is needed to confirm that our data follows a normal distribution.\n",
    "\n",
    "Here we focus on how the normal distribution helps us summarize data and can be useful in practice.\n",
    "\n",
    "One way the normal distribution is useful is that it can be used to approximate the distribution of a list of numbers without having access to the entire list. We will demonstrate this with the heights dataset.\n",
    "\n",
    "Load the height data set and create a vector x with just the male heights:\n",
    "```\n",
    "library(dslabs)\n",
    "data(heights)\n",
    "x <- heights$height[heights$sex == \"Male\"]\n",
    "```\n",
    "What proportion of the data is between 69 and 72 inches (taller than 69 but shorter or equal to 72)?\n",
    "\n",
    "Its not \n",
    "```\n",
    "library(dslabs)\n",
    "data(heights)\n",
    "x <- heights$height[heights$sex == \"Male\"]\n",
    "sum(x > 69 & x <=72) / length(x)\n",
    "```"
   ]
  },
  {
   "cell_type": "code",
   "execution_count": 7,
   "metadata": {},
   "outputs": [
    {
     "data": {
      "text/html": [
       "0.333743842364532"
      ],
      "text/latex": [
       "0.333743842364532"
      ],
      "text/markdown": [
       "0.333743842364532"
      ],
      "text/plain": [
       "[1] 0.3337438"
      ]
     },
     "metadata": {},
     "output_type": "display_data"
    }
   ],
   "source": [
    "library(dslabs)\n",
    "data(heights)\n",
    "x <- heights$height[heights$sex == \"Male\"]\n",
    "mean(x > 69 & x <=72)"
   ]
  },
  {
   "cell_type": "markdown",
   "metadata": {},
   "source": [
    "### Exercise 2. Averages and Standard Deviations\n",
    "\n",
    "Suppose all you know about the height data from the previous exercise is the average and the standard deviation and that its distribution is approximated by the normal distribution. We can compute the average and standard deviation like this:\n",
    "```\n",
    "library(dslabs)\n",
    "data(heights)\n",
    "x <- heights$height[heights$sex==\"Male\"]\n",
    "avg <- mean(x)\n",
    "stdev <- sd(x)\n",
    "```\n",
    "Suppose you only have avg and stdev below, but no access to x, can you approximate the proportion of the data that is between 69 and 72 inches?\n",
    "\n",
    "\n",
    "Use the normal approximation to estimate the proportion the proportion of the data that is between 69 and 72 inches.\n",
    "Note that you can't use x in your code, only avg and stdev. Also note that R has a function that may prove very helpful here - check out the pnorm function (and remember that you can get help by using ?pnorm).\n"
   ]
  },
  {
   "cell_type": "code",
   "execution_count": 8,
   "metadata": {},
   "outputs": [
    {
     "data": {
      "text/html": [
       "0.30617793713267"
      ],
      "text/latex": [
       "0.30617793713267"
      ],
      "text/markdown": [
       "0.30617793713267"
      ],
      "text/plain": [
       "[1] 0.3061779"
      ]
     },
     "metadata": {},
     "output_type": "display_data"
    }
   ],
   "source": [
    "library(dslabs)\n",
    "data(heights)\n",
    "x <- heights$height[heights$sex==\"Male\"]\n",
    "avg <- mean(x)\n",
    "stdev <- sd(x)\n",
    "\n",
    "(pnorm(72, mean = avg, sd = stdev)) - pnorm(69, mean = avg, sd = stdev) \n"
   ]
  },
  {
   "cell_type": "markdown",
   "metadata": {},
   "source": [
    "### Exercise 3. Approximations\n",
    "\n",
    "Notice that the approximation calculated in the second question is very close to the exact calculation in the first question. The normal distribution was a useful approximation for this case.\n",
    "\n",
    "However, the approximation is not always useful. An example is for the more extreme values, often called the \"tails\" of the distribution. Let's look at an example. We can compute the proportion of heights between 79 and 81.\n",
    "```\n",
    "library(dslabs)\n",
    "data(heights)\n",
    "x <- heights$height[heights$sex == \"Male\"]\n",
    "mean(x > 79 & x <= 81)\n",
    "```\n",
    "Instructions\n",
    "\n",
    "    Use normal approximation to estimate the proportion of heights between 79 and 81 inches and save it in an object called approx.\n",
    "    Report how many times bigger the actual proportion is compared to the approximation.\n"
   ]
  },
  {
   "cell_type": "code",
   "execution_count": 9,
   "metadata": {},
   "outputs": [
    {
     "data": {
      "text/html": [
       "1.61426142046631"
      ],
      "text/latex": [
       "1.61426142046631"
      ],
      "text/markdown": [
       "1.61426142046631"
      ],
      "text/plain": [
       "[1] 1.614261"
      ]
     },
     "metadata": {},
     "output_type": "display_data"
    }
   ],
   "source": [
    "library(dslabs)\n",
    "data(heights)\n",
    "x <- heights$height[heights$sex == \"Male\"]\n",
    "exact <- mean(x > 79 & x <= 81)\n",
    "approx <- (pnorm(81, mean=mean(x), sd=sd(x))) - (pnorm(79, mean=mean(x), sd=sd(x)))\n",
    "exact/approx"
   ]
  },
  {
   "cell_type": "markdown",
   "metadata": {},
   "source": [
    "### Exercise 4. Seven footers and the NBA\n",
    "\n",
    "Someone asks you what percent of seven footers are in the National Basketball Association (NBA). Can you provide an estimate? Let's try using the normal approximation to answer this question.\n",
    "\n",
    "First, we will estimate the proportion of adult men that are 7 feet tall or taller.\n",
    "\n",
    "Assume that the distribution of adult men in the world as normally distributed with an average of 69 inches and a standard deviation of 3 inches.\n",
    "\n",
    "Instructions\n",
    "\n",
    "Using this approximation, estimate the proportion of adult men that are 7 feet tall or taller, referred to as seven footers. Print out your estimate; don't store it in an object."
   ]
  },
  {
   "cell_type": "code",
   "execution_count": 12,
   "metadata": {},
   "outputs": [
    {
     "data": {
      "text/html": [
       "2.86651571923535e-07"
      ],
      "text/latex": [
       "2.86651571923535e-07"
      ],
      "text/markdown": [
       "2.86651571923535e-07"
      ],
      "text/plain": [
       "[1] 2.866516e-07"
      ]
     },
     "metadata": {},
     "output_type": "display_data"
    }
   ],
   "source": [
    "1-pnorm(84, mean=69, sd=3)"
   ]
  },
  {
   "cell_type": "markdown",
   "metadata": {},
   "source": [
    "### Exercise 5. Estimating the number seven footers\n",
    "\n",
    "Now we have an approximation for the proportion, call it p, of men that are 7 feet tall or taller.\n",
    "\n",
    "We know that there are about 1 billion men between the ages of 18 and 40 in the world, the age range for the NBA.\n",
    "\n",
    "Can we use the normal distribution to estimate how many of these 1 billion men are at least seven feet tall?\n",
    "\n",
    "Instructions\n",
    "\n",
    "    Use your answer to the previous exercise to estimate the proportion of men that are seven feet tall or taller in the world and store that value as p.\n",
    "    Then round the number of 18-40 year old men who are seven feet tall or taller to the nearest integer. (Do not store this value in an object.)\n"
   ]
  },
  {
   "cell_type": "code",
   "execution_count": 11,
   "metadata": {},
   "outputs": [
    {
     "data": {
      "text/html": [
       "2.86651571923535e-07"
      ],
      "text/latex": [
       "2.86651571923535e-07"
      ],
      "text/markdown": [
       "2.86651571923535e-07"
      ],
      "text/plain": [
       "[1] 2.866516e-07"
      ]
     },
     "metadata": {},
     "output_type": "display_data"
    }
   ],
   "source": [
    "p <- 1-pnorm(84, mean=69, sd=3)\n",
    "p\n"
   ]
  }
 ],
 "metadata": {
  "kernelspec": {
   "display_name": "R",
   "language": "R",
   "name": "ir"
  },
  "language_info": {
   "codemirror_mode": "r",
   "file_extension": ".r",
   "mimetype": "text/x-r-source",
   "name": "R",
   "pygments_lexer": "r",
   "version": "3.5.1"
  }
 },
 "nbformat": 4,
 "nbformat_minor": 2
}

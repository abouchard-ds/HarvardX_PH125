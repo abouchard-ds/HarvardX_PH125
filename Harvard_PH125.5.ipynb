{
 "cells": [
  {
   "cell_type": "markdown",
   "metadata": {},
   "source": [
    "# HarvardX: PH125.5x \n",
    "## Data Science: Wrangling\n",
    "\n",
    "* Importing data\n",
    "* Formating date/time\n",
    "* Tidying data"
   ]
  },
  {
   "cell_type": "markdown",
   "metadata": {},
   "source": [
    "##### Base R packages create a dataframe, characters becomes factors (not if stringsAsFactors=FALSE):\n",
    "\n",
    "- read.csv\n",
    "\n",
    "##### Library(readr) create a tibble:\n",
    "\n",
    "- read_csv     for ,\n",
    "- read_csv2    for ;"
   ]
  },
  {
   "cell_type": "code",
   "execution_count": null,
   "metadata": {},
   "outputs": [],
   "source": []
  }
 ],
 "metadata": {
  "kernelspec": {
   "display_name": "R",
   "language": "R",
   "name": "ir"
  },
  "language_info": {
   "codemirror_mode": "r",
   "file_extension": ".r",
   "mimetype": "text/x-r-source",
   "name": "R",
   "pygments_lexer": "r",
   "version": "3.5.1"
  }
 },
 "nbformat": 4,
 "nbformat_minor": 2
}
